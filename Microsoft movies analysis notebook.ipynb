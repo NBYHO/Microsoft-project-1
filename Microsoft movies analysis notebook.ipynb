{
 "cells": [
  {
   "cell_type": "markdown",
   "metadata": {},
   "source": [
    "![example](images/director_shot.jpeg)"
   ]
  },
  {
   "cell_type": "markdown",
   "metadata": {},
   "source": [
    "# Microsoft Movies Analysis \n",
    "\n",
    "**Author:** Ngoc Ho\n",
    "***"
   ]
  },
  {
   "cell_type": "markdown",
   "metadata": {},
   "source": [
    "## Table of contents:\n",
    "\n",
    "### 1. Overview\n",
    "### 2.Business Problem\n",
    "### 3.Data Understanding\n",
    "### 4.Importing standard packages\n",
    "### 5.Data exploration\n",
    "    \n",
    "   **5.1. IMDb**\n",
    "    \n",
    "   **5.2. Box office Mojo**\n",
    "    \n",
    "   **5.3. The Numbers (TN)**\n",
    "\n",
    "### 6.Data Preparation\n",
    "\n",
    "   **6.1. IMDb**\n",
    "    \n",
    "        a. title.basics\n",
    "            - Removing nulls and replacing with appropriate values\n",
    "        b. title.ratings\n",
    "            - Renaming columns names \n",
    "            - Merging title.basics and title.ratings to create dataframe df_1n2\n",
    "\n",
    "   **6.2. Box office Mojo**\n",
    "    \n",
    "        - Removing Nulls and replacing with approprriate values\n",
    "        - Convert data types\n",
    "        - Renaming columns \n",
    "        - Merging df_1n2 & bom.movies_gross to creae dataframe df_gross\n",
    "\n",
    "   **6.3. The Numbers**\n",
    "    \n",
    "        - Converting data types of gross columns\n",
    "        - Creating new columns and convert release_date to release_season and release_year\n",
    "        - Renaming movie column to primary_title and merging top_rating to df_4\n",
    "\n",
    "### 7. Data Modeling\n",
    "\n",
    "   **7.1. IMBd**\n",
    "    \n",
    "        a. Most common genre\n",
    "        b. Genres with average rating >= 8 & highest number of votes\n",
    "        c. Runtime\n",
    "    \n",
    "   **7.2. Box office Mojo**\n",
    "    \n",
    "        a. Highest gross genres domestically and globally\n",
    "        b. Correlation between domestic and global gross\n",
    "        c. Highest gross and rated studios\n",
    "\n",
    "   **7.3. The Numbers**\n",
    "    \n",
    "        a. Most profitable season to release movie using return on investment (ROI) \n",
    "        b. Most profitable season to release movie based on net profit using median(), max()\n",
    "        c. Correlation between production budget and profit\n",
    "        d. Production Budget\n",
    "        e. Most profitable genres seasonally\n",
    "\n",
    "### 8. Evaluation\n",
    "### 9. Conclusions\n",
    "### 10. Limitations\n",
    "### 11. Future Considerations"
   ]
  },
  {
   "cell_type": "markdown",
   "metadata": {},
   "source": [
    "## 1. Overview\n",
    "\n",
    "This project analyses the movies market using data from IBDM database, Box office Mojo and The Numbers. Descriptive data analysis of title rating and domestic/worldwide gross showed the most popular and top gross movie genre are Action, Adventure and Sci-Fi with median runtime between 80-100 minutes. This data analysis showed the profit varies seasonally and the most profitable season is Summer. The budget required to make a movie around 30 millions. Results from this data analysis can guide Microsoft's decision on genre of movies, production budget and release timeline. "
   ]
  },
  {
   "cell_type": "markdown",
   "metadata": {},
   "source": [
    "## 2. Business Problem\n",
    "\n",
    "Microsoft is interested in starting a new business venture into building a new movies studio however they lack information of film industry and would like to know which kind of movie to make for profitable return and popularity. \n",
    "\n",
    "To successfully set up a new movie studio, we have to consider:\n",
    "- Components of the film such as genre, runtime, casts, crews \n",
    "- Business aspects such as budget, profit margin\n",
    "- Strategy aspects such as best time to release, marketing strategies, etc,.\n",
    "\n",
    "Data analytic questions that might help explores the above points:\n",
    "- Which movie genres has highest rating/most popular?\n",
    "- Which movie genres has high grossing? Which current studio is making top grossing movies?\n",
    "- What is a typical runtime of top rating movies?\n",
    "- Which season best to release a movie?\n",
    "- What is the average budget for a movies?\n",
    "- Does higher budget correlates to higher profit?\n"
   ]
  },
  {
   "cell_type": "markdown",
   "metadata": {},
   "source": [
    "## 3. Data Understanding\n",
    "\n",
    "The internet movie database (IMDb) is an online database of information related to films, televison series, home videos, video games and streaming content online. This database includes title, genre, ratings and number of votes. the IMDb database is updated daily. We also used data from IMDb subsidiary Box Office Mojo and The number database for movie financial details such as release date, budgets, domestic and worldside box office gross. Our target variable are genre, average rating and number of votes to determine which genre is most popular and has high rating. We also target variables such as domestic, worldwide box office gross and budget to identify most profitable genre and which release season optimise profit. We will be utilising pandas functions to find means, median, count correllation and trends to establish relationship between variables. Seaborn and matplotlib will helps us transform our analysed results into visualisation to help aid understanding of our dataset and decision making. "
   ]
  },
  {
   "cell_type": "markdown",
   "metadata": {},
   "source": [
    "## 4. Import standard packages"
   ]
  },
  {
   "cell_type": "code",
   "execution_count": 142,
   "metadata": {},
   "outputs": [],
   "source": [
    "# Import standard packages\n",
    "import pandas as pd\n",
    "import numpy as np\n",
    "import matplotlib.pyplot as plt\n",
    "import seaborn as sns\n",
    "\n",
    "%matplotlib inline\n",
    "sns.set_theme(context='notebook', palette='pastel', \n",
    "              style='whitegrid', font='sans-serif', font_scale=1.25, \n",
    "              color_codes=True, rc={'figure.figsize':(6,4)})"
   ]
  },
  {
   "cell_type": "markdown",
   "metadata": {},
   "source": [
    "## 5. Data exploration"
   ]
  },
  {
   "cell_type": "markdown",
   "metadata": {},
   "source": [
    "## 5.1 IMDb"
   ]
  },
  {
   "cell_type": "markdown",
   "metadata": {},
   "source": [
    "IMDb database consists of multiple tables on various information about movies. The two dataset we will be using are : title.basics and title.ratings.\n",
    "\n",
    "The title.basics table includes movie titles, release year, and genres with 146144 titles and 6 columns. The title.ratings table includes average movie rating and number of votes with 73856 rows x 3 columns. The primary key for both tables is tconst.\n",
    "\n",
    "Target data include genres, runtime minutes, average rating and number of votes. "
   ]
  },
  {
   "cell_type": "code",
   "execution_count": 47,
   "metadata": {},
   "outputs": [
    {
     "data": {
      "text/html": [
       "<div>\n",
       "<style scoped>\n",
       "    .dataframe tbody tr th:only-of-type {\n",
       "        vertical-align: middle;\n",
       "    }\n",
       "\n",
       "    .dataframe tbody tr th {\n",
       "        vertical-align: top;\n",
       "    }\n",
       "\n",
       "    .dataframe thead th {\n",
       "        text-align: right;\n",
       "    }\n",
       "</style>\n",
       "<table border=\"1\" class=\"dataframe\">\n",
       "  <thead>\n",
       "    <tr style=\"text-align: right;\">\n",
       "      <th></th>\n",
       "      <th>tconst</th>\n",
       "      <th>primary_title</th>\n",
       "      <th>original_title</th>\n",
       "      <th>start_year</th>\n",
       "      <th>runtime_minutes</th>\n",
       "      <th>genres</th>\n",
       "    </tr>\n",
       "  </thead>\n",
       "  <tbody>\n",
       "    <tr>\n",
       "      <th>0</th>\n",
       "      <td>tt0063540</td>\n",
       "      <td>Sunghursh</td>\n",
       "      <td>Sunghursh</td>\n",
       "      <td>2013</td>\n",
       "      <td>175.0</td>\n",
       "      <td>Action,Crime,Drama</td>\n",
       "    </tr>\n",
       "    <tr>\n",
       "      <th>1</th>\n",
       "      <td>tt0066787</td>\n",
       "      <td>One Day Before the Rainy Season</td>\n",
       "      <td>Ashad Ka Ek Din</td>\n",
       "      <td>2019</td>\n",
       "      <td>114.0</td>\n",
       "      <td>Biography,Drama</td>\n",
       "    </tr>\n",
       "    <tr>\n",
       "      <th>2</th>\n",
       "      <td>tt0069049</td>\n",
       "      <td>The Other Side of the Wind</td>\n",
       "      <td>The Other Side of the Wind</td>\n",
       "      <td>2018</td>\n",
       "      <td>122.0</td>\n",
       "      <td>Drama</td>\n",
       "    </tr>\n",
       "    <tr>\n",
       "      <th>3</th>\n",
       "      <td>tt0069204</td>\n",
       "      <td>Sabse Bada Sukh</td>\n",
       "      <td>Sabse Bada Sukh</td>\n",
       "      <td>2018</td>\n",
       "      <td>NaN</td>\n",
       "      <td>Comedy,Drama</td>\n",
       "    </tr>\n",
       "    <tr>\n",
       "      <th>4</th>\n",
       "      <td>tt0100275</td>\n",
       "      <td>The Wandering Soap Opera</td>\n",
       "      <td>La Telenovela Errante</td>\n",
       "      <td>2017</td>\n",
       "      <td>80.0</td>\n",
       "      <td>Comedy,Drama,Fantasy</td>\n",
       "    </tr>\n",
       "  </tbody>\n",
       "</table>\n",
       "</div>"
      ],
      "text/plain": [
       "      tconst                    primary_title              original_title  \\\n",
       "0  tt0063540                        Sunghursh                   Sunghursh   \n",
       "1  tt0066787  One Day Before the Rainy Season             Ashad Ka Ek Din   \n",
       "2  tt0069049       The Other Side of the Wind  The Other Side of the Wind   \n",
       "3  tt0069204                  Sabse Bada Sukh             Sabse Bada Sukh   \n",
       "4  tt0100275         The Wandering Soap Opera       La Telenovela Errante   \n",
       "\n",
       "   start_year  runtime_minutes                genres  \n",
       "0        2013            175.0    Action,Crime,Drama  \n",
       "1        2019            114.0       Biography,Drama  \n",
       "2        2018            122.0                 Drama  \n",
       "3        2018              NaN          Comedy,Drama  \n",
       "4        2017             80.0  Comedy,Drama,Fantasy  "
      ]
     },
     "execution_count": 47,
     "metadata": {},
     "output_type": "execute_result"
    }
   ],
   "source": [
    "#importing title basics data set from IMDd + displaying 1st 5 rows using head\n",
    "df_1 = pd.read_csv('zippedData/imdb.title.basics.csv.gz')\n",
    "df_1.head()"
   ]
  },
  {
   "cell_type": "code",
   "execution_count": 48,
   "metadata": {},
   "outputs": [
    {
     "name": "stdout",
     "output_type": "stream",
     "text": [
      "<class 'pandas.core.frame.DataFrame'>\n",
      "RangeIndex: 146144 entries, 0 to 146143\n",
      "Data columns (total 6 columns):\n",
      " #   Column           Non-Null Count   Dtype  \n",
      "---  ------           --------------   -----  \n",
      " 0   tconst           146144 non-null  object \n",
      " 1   primary_title    146144 non-null  object \n",
      " 2   original_title   146123 non-null  object \n",
      " 3   start_year       146144 non-null  int64  \n",
      " 4   runtime_minutes  114405 non-null  float64\n",
      " 5   genres           140736 non-null  object \n",
      "dtypes: float64(1), int64(1), object(4)\n",
      "memory usage: 6.7+ MB\n"
     ]
    }
   ],
   "source": [
    "df_1.info()"
   ]
  },
  {
   "cell_type": "code",
   "execution_count": 49,
   "metadata": {},
   "outputs": [
    {
     "data": {
      "text/plain": [
       "tconst                 0\n",
       "primary_title          0\n",
       "original_title        21\n",
       "start_year             0\n",
       "runtime_minutes    31739\n",
       "genres              5408\n",
       "dtype: int64"
      ]
     },
     "execution_count": 49,
     "metadata": {},
     "output_type": "execute_result"
    }
   ],
   "source": [
    "#Finding nulls in df_1\n",
    "df_1.isna().sum()"
   ]
  },
  {
   "cell_type": "code",
   "execution_count": 50,
   "metadata": {},
   "outputs": [
    {
     "data": {
      "text/plain": [
       "0"
      ]
     },
     "execution_count": 50,
     "metadata": {},
     "output_type": "execute_result"
    }
   ],
   "source": [
    "#Finding duplicates in df_1\n",
    "df_1.duplicated().sum()"
   ]
  },
  {
   "cell_type": "code",
   "execution_count": 51,
   "metadata": {},
   "outputs": [
    {
     "data": {
      "text/plain": [
       "0"
      ]
     },
     "execution_count": 51,
     "metadata": {},
     "output_type": "execute_result"
    }
   ],
   "source": [
    "df_1.tconst.duplicated().sum()"
   ]
  },
  {
   "cell_type": "code",
   "execution_count": 52,
   "metadata": {},
   "outputs": [
    {
     "data": {
      "text/html": [
       "<div>\n",
       "<style scoped>\n",
       "    .dataframe tbody tr th:only-of-type {\n",
       "        vertical-align: middle;\n",
       "    }\n",
       "\n",
       "    .dataframe tbody tr th {\n",
       "        vertical-align: top;\n",
       "    }\n",
       "\n",
       "    .dataframe thead th {\n",
       "        text-align: right;\n",
       "    }\n",
       "</style>\n",
       "<table border=\"1\" class=\"dataframe\">\n",
       "  <thead>\n",
       "    <tr style=\"text-align: right;\">\n",
       "      <th></th>\n",
       "      <th>tconst</th>\n",
       "      <th>averagerating</th>\n",
       "      <th>numvotes</th>\n",
       "    </tr>\n",
       "  </thead>\n",
       "  <tbody>\n",
       "    <tr>\n",
       "      <th>0</th>\n",
       "      <td>tt10356526</td>\n",
       "      <td>8.3</td>\n",
       "      <td>31</td>\n",
       "    </tr>\n",
       "    <tr>\n",
       "      <th>1</th>\n",
       "      <td>tt10384606</td>\n",
       "      <td>8.9</td>\n",
       "      <td>559</td>\n",
       "    </tr>\n",
       "    <tr>\n",
       "      <th>2</th>\n",
       "      <td>tt1042974</td>\n",
       "      <td>6.4</td>\n",
       "      <td>20</td>\n",
       "    </tr>\n",
       "    <tr>\n",
       "      <th>3</th>\n",
       "      <td>tt1043726</td>\n",
       "      <td>4.2</td>\n",
       "      <td>50352</td>\n",
       "    </tr>\n",
       "    <tr>\n",
       "      <th>4</th>\n",
       "      <td>tt1060240</td>\n",
       "      <td>6.5</td>\n",
       "      <td>21</td>\n",
       "    </tr>\n",
       "  </tbody>\n",
       "</table>\n",
       "</div>"
      ],
      "text/plain": [
       "       tconst  averagerating  numvotes\n",
       "0  tt10356526            8.3        31\n",
       "1  tt10384606            8.9       559\n",
       "2   tt1042974            6.4        20\n",
       "3   tt1043726            4.2     50352\n",
       "4   tt1060240            6.5        21"
      ]
     },
     "execution_count": 52,
     "metadata": {},
     "output_type": "execute_result"
    }
   ],
   "source": [
    "#importing title ratings data set from IMDd + displaying 1st 5 rows using head\n",
    "df_2 = pd.read_csv('zippedData/imdb.title.ratings.csv.gz')\n",
    "df_2.head()"
   ]
  },
  {
   "cell_type": "code",
   "execution_count": 53,
   "metadata": {},
   "outputs": [
    {
     "name": "stdout",
     "output_type": "stream",
     "text": [
      "<class 'pandas.core.frame.DataFrame'>\n",
      "RangeIndex: 73856 entries, 0 to 73855\n",
      "Data columns (total 3 columns):\n",
      " #   Column         Non-Null Count  Dtype  \n",
      "---  ------         --------------  -----  \n",
      " 0   tconst         73856 non-null  object \n",
      " 1   averagerating  73856 non-null  float64\n",
      " 2   numvotes       73856 non-null  int64  \n",
      "dtypes: float64(1), int64(1), object(1)\n",
      "memory usage: 1.7+ MB\n"
     ]
    }
   ],
   "source": [
    "df_2.info()"
   ]
  },
  {
   "cell_type": "code",
   "execution_count": 54,
   "metadata": {},
   "outputs": [
    {
     "data": {
      "text/plain": [
       "tconst           0\n",
       "averagerating    0\n",
       "numvotes         0\n",
       "dtype: int64"
      ]
     },
     "execution_count": 54,
     "metadata": {},
     "output_type": "execute_result"
    }
   ],
   "source": [
    "#Finding nulls in df_2\n",
    "df_2.isna().sum()"
   ]
  },
  {
   "cell_type": "code",
   "execution_count": 55,
   "metadata": {},
   "outputs": [
    {
     "data": {
      "text/plain": [
       "0"
      ]
     },
     "execution_count": 55,
     "metadata": {},
     "output_type": "execute_result"
    }
   ],
   "source": [
    "#Finding duplicates in df_2\n",
    "df_2.duplicated().sum()"
   ]
  },
  {
   "cell_type": "code",
   "execution_count": 56,
   "metadata": {},
   "outputs": [
    {
     "data": {
      "text/plain": [
       "0"
      ]
     },
     "execution_count": 56,
     "metadata": {},
     "output_type": "execute_result"
    }
   ],
   "source": [
    "df_2.tconst.duplicated().sum()"
   ]
  },
  {
   "cell_type": "markdown",
   "metadata": {},
   "source": [
    "## 5.2 Box office Mojo"
   ]
  },
  {
   "cell_type": "markdown",
   "metadata": {},
   "source": [
    "Box office Mojo dataset contains information on 3387 movies entries and 5 columns of data points of their domestic, foreign gross, studio and production year. \n",
    "Target variables : domestic and foreign gross and studio."
   ]
  },
  {
   "cell_type": "code",
   "execution_count": 57,
   "metadata": {},
   "outputs": [
    {
     "data": {
      "text/html": [
       "<div>\n",
       "<style scoped>\n",
       "    .dataframe tbody tr th:only-of-type {\n",
       "        vertical-align: middle;\n",
       "    }\n",
       "\n",
       "    .dataframe tbody tr th {\n",
       "        vertical-align: top;\n",
       "    }\n",
       "\n",
       "    .dataframe thead th {\n",
       "        text-align: right;\n",
       "    }\n",
       "</style>\n",
       "<table border=\"1\" class=\"dataframe\">\n",
       "  <thead>\n",
       "    <tr style=\"text-align: right;\">\n",
       "      <th></th>\n",
       "      <th>title</th>\n",
       "      <th>studio</th>\n",
       "      <th>domestic_gross</th>\n",
       "      <th>foreign_gross</th>\n",
       "      <th>year</th>\n",
       "    </tr>\n",
       "  </thead>\n",
       "  <tbody>\n",
       "    <tr>\n",
       "      <th>0</th>\n",
       "      <td>Toy Story 3</td>\n",
       "      <td>BV</td>\n",
       "      <td>415000000.0</td>\n",
       "      <td>652000000</td>\n",
       "      <td>2010</td>\n",
       "    </tr>\n",
       "    <tr>\n",
       "      <th>1</th>\n",
       "      <td>Alice in Wonderland (2010)</td>\n",
       "      <td>BV</td>\n",
       "      <td>334200000.0</td>\n",
       "      <td>691300000</td>\n",
       "      <td>2010</td>\n",
       "    </tr>\n",
       "    <tr>\n",
       "      <th>2</th>\n",
       "      <td>Harry Potter and the Deathly Hallows Part 1</td>\n",
       "      <td>WB</td>\n",
       "      <td>296000000.0</td>\n",
       "      <td>664300000</td>\n",
       "      <td>2010</td>\n",
       "    </tr>\n",
       "    <tr>\n",
       "      <th>3</th>\n",
       "      <td>Inception</td>\n",
       "      <td>WB</td>\n",
       "      <td>292600000.0</td>\n",
       "      <td>535700000</td>\n",
       "      <td>2010</td>\n",
       "    </tr>\n",
       "    <tr>\n",
       "      <th>4</th>\n",
       "      <td>Shrek Forever After</td>\n",
       "      <td>P/DW</td>\n",
       "      <td>238700000.0</td>\n",
       "      <td>513900000</td>\n",
       "      <td>2010</td>\n",
       "    </tr>\n",
       "  </tbody>\n",
       "</table>\n",
       "</div>"
      ],
      "text/plain": [
       "                                         title studio  domestic_gross  \\\n",
       "0                                  Toy Story 3     BV     415000000.0   \n",
       "1                   Alice in Wonderland (2010)     BV     334200000.0   \n",
       "2  Harry Potter and the Deathly Hallows Part 1     WB     296000000.0   \n",
       "3                                    Inception     WB     292600000.0   \n",
       "4                          Shrek Forever After   P/DW     238700000.0   \n",
       "\n",
       "  foreign_gross  year  \n",
       "0     652000000  2010  \n",
       "1     691300000  2010  \n",
       "2     664300000  2010  \n",
       "3     535700000  2010  \n",
       "4     513900000  2010  "
      ]
     },
     "execution_count": 57,
     "metadata": {},
     "output_type": "execute_result"
    }
   ],
   "source": [
    "#importing title box office gross data set from boc office mojo + displaying 1st 5 rows using head\n",
    "df_3 = pd.read_csv('zippedData/bom.movie_gross.csv.gz')\n",
    "df_3.head()"
   ]
  },
  {
   "cell_type": "code",
   "execution_count": 58,
   "metadata": {},
   "outputs": [
    {
     "name": "stdout",
     "output_type": "stream",
     "text": [
      "<class 'pandas.core.frame.DataFrame'>\n",
      "RangeIndex: 3387 entries, 0 to 3386\n",
      "Data columns (total 5 columns):\n",
      " #   Column          Non-Null Count  Dtype  \n",
      "---  ------          --------------  -----  \n",
      " 0   title           3387 non-null   object \n",
      " 1   studio          3382 non-null   object \n",
      " 2   domestic_gross  3359 non-null   float64\n",
      " 3   foreign_gross   2037 non-null   object \n",
      " 4   year            3387 non-null   int64  \n",
      "dtypes: float64(1), int64(1), object(3)\n",
      "memory usage: 132.4+ KB\n"
     ]
    }
   ],
   "source": [
    "df_3.info()"
   ]
  },
  {
   "cell_type": "code",
   "execution_count": 59,
   "metadata": {},
   "outputs": [
    {
     "data": {
      "text/plain": [
       "title                0\n",
       "studio               5\n",
       "domestic_gross      28\n",
       "foreign_gross     1350\n",
       "year                 0\n",
       "dtype: int64"
      ]
     },
     "execution_count": 59,
     "metadata": {},
     "output_type": "execute_result"
    }
   ],
   "source": [
    "#Finding nulls in df_3\n",
    "df_3.isna().sum()"
   ]
  },
  {
   "cell_type": "code",
   "execution_count": 60,
   "metadata": {},
   "outputs": [
    {
     "data": {
      "text/plain": [
       "1"
      ]
     },
     "execution_count": 60,
     "metadata": {},
     "output_type": "execute_result"
    }
   ],
   "source": [
    "#Finding duplicates in df_3\n",
    "df_3.title.duplicated().sum()"
   ]
  },
  {
   "cell_type": "code",
   "execution_count": 61,
   "metadata": {},
   "outputs": [
    {
     "data": {
      "text/html": [
       "<div>\n",
       "<style scoped>\n",
       "    .dataframe tbody tr th:only-of-type {\n",
       "        vertical-align: middle;\n",
       "    }\n",
       "\n",
       "    .dataframe tbody tr th {\n",
       "        vertical-align: top;\n",
       "    }\n",
       "\n",
       "    .dataframe thead th {\n",
       "        text-align: right;\n",
       "    }\n",
       "</style>\n",
       "<table border=\"1\" class=\"dataframe\">\n",
       "  <thead>\n",
       "    <tr style=\"text-align: right;\">\n",
       "      <th></th>\n",
       "      <th>title</th>\n",
       "      <th>studio</th>\n",
       "      <th>domestic_gross</th>\n",
       "      <th>foreign_gross</th>\n",
       "      <th>year</th>\n",
       "    </tr>\n",
       "  </thead>\n",
       "  <tbody>\n",
       "    <tr>\n",
       "      <th>317</th>\n",
       "      <td>Bluebeard</td>\n",
       "      <td>Strand</td>\n",
       "      <td>33500.0</td>\n",
       "      <td>5200</td>\n",
       "      <td>2010</td>\n",
       "    </tr>\n",
       "    <tr>\n",
       "      <th>3045</th>\n",
       "      <td>Bluebeard</td>\n",
       "      <td>WGUSA</td>\n",
       "      <td>43100.0</td>\n",
       "      <td>NaN</td>\n",
       "      <td>2017</td>\n",
       "    </tr>\n",
       "  </tbody>\n",
       "</table>\n",
       "</div>"
      ],
      "text/plain": [
       "          title  studio  domestic_gross foreign_gross  year\n",
       "317   Bluebeard  Strand         33500.0          5200  2010\n",
       "3045  Bluebeard   WGUSA         43100.0           NaN  2017"
      ]
     },
     "execution_count": 61,
     "metadata": {},
     "output_type": "execute_result"
    }
   ],
   "source": [
    "df_3[df_3.title.duplicated(keep=False)].sort_values(by='title')"
   ]
  },
  {
   "cell_type": "markdown",
   "metadata": {},
   "source": [
    "- Duplicates looks like a remake release year different - ok to keep "
   ]
  },
  {
   "cell_type": "markdown",
   "metadata": {},
   "source": [
    "## 5.3 The Numbers\n",
    "The numbers dataset contains records of 5782 movies entries with 6 columns containing data points on the movie's production budget, domestic gross, worldwide gross and release date from 1915 to 2020.\n",
    "Target variables: production budget, domestic, worldwide gross and release date."
   ]
  },
  {
   "cell_type": "code",
   "execution_count": 62,
   "metadata": {},
   "outputs": [
    {
     "data": {
      "text/html": [
       "<div>\n",
       "<style scoped>\n",
       "    .dataframe tbody tr th:only-of-type {\n",
       "        vertical-align: middle;\n",
       "    }\n",
       "\n",
       "    .dataframe tbody tr th {\n",
       "        vertical-align: top;\n",
       "    }\n",
       "\n",
       "    .dataframe thead th {\n",
       "        text-align: right;\n",
       "    }\n",
       "</style>\n",
       "<table border=\"1\" class=\"dataframe\">\n",
       "  <thead>\n",
       "    <tr style=\"text-align: right;\">\n",
       "      <th></th>\n",
       "      <th>id</th>\n",
       "      <th>release_date</th>\n",
       "      <th>movie</th>\n",
       "      <th>production_budget</th>\n",
       "      <th>domestic_gross</th>\n",
       "      <th>worldwide_gross</th>\n",
       "    </tr>\n",
       "  </thead>\n",
       "  <tbody>\n",
       "    <tr>\n",
       "      <th>0</th>\n",
       "      <td>1</td>\n",
       "      <td>Dec 18, 2009</td>\n",
       "      <td>Avatar</td>\n",
       "      <td>$425,000,000</td>\n",
       "      <td>$760,507,625</td>\n",
       "      <td>$2,776,345,279</td>\n",
       "    </tr>\n",
       "    <tr>\n",
       "      <th>1</th>\n",
       "      <td>2</td>\n",
       "      <td>May 20, 2011</td>\n",
       "      <td>Pirates of the Caribbean: On Stranger Tides</td>\n",
       "      <td>$410,600,000</td>\n",
       "      <td>$241,063,875</td>\n",
       "      <td>$1,045,663,875</td>\n",
       "    </tr>\n",
       "    <tr>\n",
       "      <th>2</th>\n",
       "      <td>3</td>\n",
       "      <td>Jun 7, 2019</td>\n",
       "      <td>Dark Phoenix</td>\n",
       "      <td>$350,000,000</td>\n",
       "      <td>$42,762,350</td>\n",
       "      <td>$149,762,350</td>\n",
       "    </tr>\n",
       "    <tr>\n",
       "      <th>3</th>\n",
       "      <td>4</td>\n",
       "      <td>May 1, 2015</td>\n",
       "      <td>Avengers: Age of Ultron</td>\n",
       "      <td>$330,600,000</td>\n",
       "      <td>$459,005,868</td>\n",
       "      <td>$1,403,013,963</td>\n",
       "    </tr>\n",
       "    <tr>\n",
       "      <th>4</th>\n",
       "      <td>5</td>\n",
       "      <td>Dec 15, 2017</td>\n",
       "      <td>Star Wars Ep. VIII: The Last Jedi</td>\n",
       "      <td>$317,000,000</td>\n",
       "      <td>$620,181,382</td>\n",
       "      <td>$1,316,721,747</td>\n",
       "    </tr>\n",
       "  </tbody>\n",
       "</table>\n",
       "</div>"
      ],
      "text/plain": [
       "   id  release_date                                        movie  \\\n",
       "0   1  Dec 18, 2009                                       Avatar   \n",
       "1   2  May 20, 2011  Pirates of the Caribbean: On Stranger Tides   \n",
       "2   3   Jun 7, 2019                                 Dark Phoenix   \n",
       "3   4   May 1, 2015                      Avengers: Age of Ultron   \n",
       "4   5  Dec 15, 2017            Star Wars Ep. VIII: The Last Jedi   \n",
       "\n",
       "  production_budget domestic_gross worldwide_gross  \n",
       "0      $425,000,000   $760,507,625  $2,776,345,279  \n",
       "1      $410,600,000   $241,063,875  $1,045,663,875  \n",
       "2      $350,000,000    $42,762,350    $149,762,350  \n",
       "3      $330,600,000   $459,005,868  $1,403,013,963  \n",
       "4      $317,000,000   $620,181,382  $1,316,721,747  "
      ]
     },
     "execution_count": 62,
     "metadata": {},
     "output_type": "execute_result"
    }
   ],
   "source": [
    "#importing title budget data set from the Numbers + displacing 1st 5 rows using head\n",
    "df_4 = pd.read_csv('zippedData/tn.movie_budgets.csv.gz')\n",
    "df_4.head()"
   ]
  },
  {
   "cell_type": "code",
   "execution_count": 63,
   "metadata": {},
   "outputs": [
    {
     "name": "stdout",
     "output_type": "stream",
     "text": [
      "<class 'pandas.core.frame.DataFrame'>\n",
      "RangeIndex: 5782 entries, 0 to 5781\n",
      "Data columns (total 6 columns):\n",
      " #   Column             Non-Null Count  Dtype \n",
      "---  ------             --------------  ----- \n",
      " 0   id                 5782 non-null   int64 \n",
      " 1   release_date       5782 non-null   object\n",
      " 2   movie              5782 non-null   object\n",
      " 3   production_budget  5782 non-null   object\n",
      " 4   domestic_gross     5782 non-null   object\n",
      " 5   worldwide_gross    5782 non-null   object\n",
      "dtypes: int64(1), object(5)\n",
      "memory usage: 271.2+ KB\n"
     ]
    }
   ],
   "source": [
    "df_4.info()"
   ]
  },
  {
   "cell_type": "code",
   "execution_count": 64,
   "metadata": {},
   "outputs": [
    {
     "data": {
      "text/plain": [
       "id                   0\n",
       "release_date         0\n",
       "movie                0\n",
       "production_budget    0\n",
       "domestic_gross       0\n",
       "worldwide_gross      0\n",
       "dtype: int64"
      ]
     },
     "execution_count": 64,
     "metadata": {},
     "output_type": "execute_result"
    }
   ],
   "source": [
    "#Finding nulls in df_4\n",
    "df_4.isna().sum()"
   ]
  },
  {
   "cell_type": "code",
   "execution_count": 65,
   "metadata": {},
   "outputs": [
    {
     "data": {
      "text/plain": [
       "0"
      ]
     },
     "execution_count": 65,
     "metadata": {},
     "output_type": "execute_result"
    }
   ],
   "source": [
    "#Finding duplicates in df_4\n",
    "df_4.duplicated().sum()"
   ]
  },
  {
   "cell_type": "code",
   "execution_count": 66,
   "metadata": {},
   "outputs": [
    {
     "data": {
      "text/plain": [
       "84"
      ]
     },
     "execution_count": 66,
     "metadata": {},
     "output_type": "execute_result"
    }
   ],
   "source": [
    "df_4.movie.duplicated().sum()"
   ]
  },
  {
   "cell_type": "code",
   "execution_count": 67,
   "metadata": {},
   "outputs": [
    {
     "data": {
      "text/html": [
       "<div>\n",
       "<style scoped>\n",
       "    .dataframe tbody tr th:only-of-type {\n",
       "        vertical-align: middle;\n",
       "    }\n",
       "\n",
       "    .dataframe tbody tr th {\n",
       "        vertical-align: top;\n",
       "    }\n",
       "\n",
       "    .dataframe thead th {\n",
       "        text-align: right;\n",
       "    }\n",
       "</style>\n",
       "<table border=\"1\" class=\"dataframe\">\n",
       "  <thead>\n",
       "    <tr style=\"text-align: right;\">\n",
       "      <th></th>\n",
       "      <th>id</th>\n",
       "      <th>release_date</th>\n",
       "      <th>movie</th>\n",
       "      <th>production_budget</th>\n",
       "      <th>domestic_gross</th>\n",
       "      <th>worldwide_gross</th>\n",
       "    </tr>\n",
       "  </thead>\n",
       "  <tbody>\n",
       "    <tr>\n",
       "      <th>4270</th>\n",
       "      <td>71</td>\n",
       "      <td>Dec 23, 1954</td>\n",
       "      <td>20,000 Leagues Under the Sea</td>\n",
       "      <td>$5,000,000</td>\n",
       "      <td>$28,200,000</td>\n",
       "      <td>$28,200,000</td>\n",
       "    </tr>\n",
       "    <tr>\n",
       "      <th>5614</th>\n",
       "      <td>15</td>\n",
       "      <td>Dec 24, 1916</td>\n",
       "      <td>20,000 Leagues Under the Sea</td>\n",
       "      <td>$200,000</td>\n",
       "      <td>$8,000,000</td>\n",
       "      <td>$8,000,000</td>\n",
       "    </tr>\n",
       "    <tr>\n",
       "      <th>1648</th>\n",
       "      <td>49</td>\n",
       "      <td>Apr 30, 2010</td>\n",
       "      <td>A Nightmare on Elm Street</td>\n",
       "      <td>$35,000,000</td>\n",
       "      <td>$63,075,011</td>\n",
       "      <td>$117,729,621</td>\n",
       "    </tr>\n",
       "    <tr>\n",
       "      <th>5016</th>\n",
       "      <td>17</td>\n",
       "      <td>Nov 9, 1984</td>\n",
       "      <td>A Nightmare on Elm Street</td>\n",
       "      <td>$1,800,000</td>\n",
       "      <td>$25,504,513</td>\n",
       "      <td>$25,504,513</td>\n",
       "    </tr>\n",
       "    <tr>\n",
       "      <th>2032</th>\n",
       "      <td>33</td>\n",
       "      <td>Nov 11, 1992</td>\n",
       "      <td>Aladdin</td>\n",
       "      <td>$28,000,000</td>\n",
       "      <td>$217,350,219</td>\n",
       "      <td>$504,050,219</td>\n",
       "    </tr>\n",
       "    <tr>\n",
       "      <th>...</th>\n",
       "      <td>...</td>\n",
       "      <td>...</td>\n",
       "      <td>...</td>\n",
       "      <td>...</td>\n",
       "      <td>...</td>\n",
       "      <td>...</td>\n",
       "    </tr>\n",
       "    <tr>\n",
       "      <th>3403</th>\n",
       "      <td>4</td>\n",
       "      <td>Apr 21, 2017</td>\n",
       "      <td>Unforgettable</td>\n",
       "      <td>$12,000,000</td>\n",
       "      <td>$11,368,012</td>\n",
       "      <td>$16,221,211</td>\n",
       "    </tr>\n",
       "    <tr>\n",
       "      <th>1420</th>\n",
       "      <td>21</td>\n",
       "      <td>Feb 18, 2011</td>\n",
       "      <td>Unknown</td>\n",
       "      <td>$40,000,000</td>\n",
       "      <td>$63,686,397</td>\n",
       "      <td>$136,123,083</td>\n",
       "    </tr>\n",
       "    <tr>\n",
       "      <th>4583</th>\n",
       "      <td>84</td>\n",
       "      <td>Nov 3, 2006</td>\n",
       "      <td>Unknown</td>\n",
       "      <td>$3,700,000</td>\n",
       "      <td>$26,403</td>\n",
       "      <td>$3,355,048</td>\n",
       "    </tr>\n",
       "    <tr>\n",
       "      <th>2313</th>\n",
       "      <td>14</td>\n",
       "      <td>Sep 16, 2005</td>\n",
       "      <td>Venom</td>\n",
       "      <td>$25,000,000</td>\n",
       "      <td>$881,745</td>\n",
       "      <td>$881,745</td>\n",
       "    </tr>\n",
       "    <tr>\n",
       "      <th>302</th>\n",
       "      <td>3</td>\n",
       "      <td>Oct 5, 2018</td>\n",
       "      <td>Venom</td>\n",
       "      <td>$116,000,000</td>\n",
       "      <td>$213,511,408</td>\n",
       "      <td>$853,628,605</td>\n",
       "    </tr>\n",
       "  </tbody>\n",
       "</table>\n",
       "<p>165 rows × 6 columns</p>\n",
       "</div>"
      ],
      "text/plain": [
       "      id  release_date                         movie production_budget  \\\n",
       "4270  71  Dec 23, 1954  20,000 Leagues Under the Sea        $5,000,000   \n",
       "5614  15  Dec 24, 1916  20,000 Leagues Under the Sea          $200,000   \n",
       "1648  49  Apr 30, 2010     A Nightmare on Elm Street       $35,000,000   \n",
       "5016  17   Nov 9, 1984     A Nightmare on Elm Street        $1,800,000   \n",
       "2032  33  Nov 11, 1992                       Aladdin       $28,000,000   \n",
       "...   ..           ...                           ...               ...   \n",
       "3403   4  Apr 21, 2017                 Unforgettable       $12,000,000   \n",
       "1420  21  Feb 18, 2011                       Unknown       $40,000,000   \n",
       "4583  84   Nov 3, 2006                       Unknown        $3,700,000   \n",
       "2313  14  Sep 16, 2005                         Venom       $25,000,000   \n",
       "302    3   Oct 5, 2018                         Venom      $116,000,000   \n",
       "\n",
       "     domestic_gross worldwide_gross  \n",
       "4270    $28,200,000     $28,200,000  \n",
       "5614     $8,000,000      $8,000,000  \n",
       "1648    $63,075,011    $117,729,621  \n",
       "5016    $25,504,513     $25,504,513  \n",
       "2032   $217,350,219    $504,050,219  \n",
       "...             ...             ...  \n",
       "3403    $11,368,012     $16,221,211  \n",
       "1420    $63,686,397    $136,123,083  \n",
       "4583        $26,403      $3,355,048  \n",
       "2313       $881,745        $881,745  \n",
       "302    $213,511,408    $853,628,605  \n",
       "\n",
       "[165 rows x 6 columns]"
      ]
     },
     "execution_count": 67,
     "metadata": {},
     "output_type": "execute_result"
    }
   ],
   "source": [
    "df_4[df_4.movie.duplicated(keep=False)].sort_values(by='movie')"
   ]
  },
  {
   "cell_type": "markdown",
   "metadata": {},
   "source": [
    "- Duplicates are remakes of movies - ok to keep "
   ]
  },
  {
   "cell_type": "markdown",
   "metadata": {},
   "source": [
    "## 6. Data Preparation\n",
    "\n",
    "Describe and justify the process for preparing the data for analysis.\n",
    "\n",
    "***\n",
    "Questions to consider:\n",
    "* Were there variables you dropped or created?\n",
    "* How did you address missing values or outliers?\n",
    "* Why are these choices appropriate given the data and the business problem?\n",
    "***"
   ]
  },
  {
   "cell_type": "markdown",
   "metadata": {},
   "source": [
    "## 6.1 IMDb\n",
    "\n",
    "### a. title.basics\n",
    "Data cleaning for df_1 (144146 index entries row x 6 columns of 6 variables)\n",
    "\n",
    "Target variables: title & genre \n",
    "\n",
    "What to clean:\n",
    "- Runtime has 31739 missing values - using .describe() to look at properties of data - even distribution with median and mean are similar value - replace nulls with .median() \n",
    "- Genre has 5408 missing values - since genre is a categorical variable - 3 days we can deal with missing values - drop, or change label to 'Missing' or replace with mode. Drop is not an option as we need the data, we can either label as missing or replace with mode. Let's find out if all categories are even if one categories stand out more than the rest we can replace missing values with mode otherwise replacing it with a categories while all categories are even can skew data set significantly. "
   ]
  },
  {
   "cell_type": "code",
   "execution_count": 68,
   "metadata": {},
   "outputs": [
    {
     "data": {
      "text/plain": [
       "False    0.782824\n",
       "True     0.217176\n",
       "Name: runtime_minutes, dtype: float64"
      ]
     },
     "execution_count": 68,
     "metadata": {},
     "output_type": "execute_result"
    }
   ],
   "source": [
    "#Finding how many percentage of data in runtime column are nulls  \n",
    "df_1.runtime_minutes.isna().value_counts(normalize=True)"
   ]
  },
  {
   "cell_type": "code",
   "execution_count": 69,
   "metadata": {},
   "outputs": [
    {
     "data": {
      "text/plain": [
       "count    114405.000000\n",
       "mean         86.187247\n",
       "std         166.360590\n",
       "min           1.000000\n",
       "25%          70.000000\n",
       "50%          87.000000\n",
       "75%          99.000000\n",
       "max       51420.000000\n",
       "Name: runtime_minutes, dtype: float64"
      ]
     },
     "execution_count": 69,
     "metadata": {},
     "output_type": "execute_result"
    }
   ],
   "source": [
    "df_1.runtime_minutes.describe()"
   ]
  },
  {
   "cell_type": "code",
   "execution_count": 70,
   "metadata": {},
   "outputs": [
    {
     "data": {
      "text/plain": [
       "0"
      ]
     },
     "execution_count": 70,
     "metadata": {},
     "output_type": "execute_result"
    }
   ],
   "source": [
    "#runtime has very even distribution - we can replace nulls using either mean or median \n",
    "df_1.runtime_minutes.fillna(df_1['runtime_minutes'].median(), inplace=True)\n",
    "df_1.runtime_minutes.isna().sum()"
   ]
  },
  {
   "cell_type": "code",
   "execution_count": 71,
   "metadata": {},
   "outputs": [
    {
     "data": {
      "text/plain": [
       "Documentary                 0.228691\n",
       "Drama                       0.152669\n",
       "Comedy                      0.065207\n",
       "Horror                      0.031065\n",
       "Comedy,Drama                0.025004\n",
       "                              ...   \n",
       "Action,Mystery,Western      0.000007\n",
       "Family,Music,Musical        0.000007\n",
       "Biography,Family,News       0.000007\n",
       "Animation,Horror,Sci-Fi     0.000007\n",
       "Adventure,Horror,Western    0.000007\n",
       "Name: genres, Length: 1085, dtype: float64"
      ]
     },
     "execution_count": 71,
     "metadata": {},
     "output_type": "execute_result"
    }
   ],
   "source": [
    "# cleaning genre column \n",
    "#find which genre is mode (highest value count)\n",
    "df_1['genres'].value_counts(normalize=True)"
   ]
  },
  {
   "cell_type": "markdown",
   "metadata": {},
   "source": [
    "- Documentary is the mode about 22% of data set. Another option to deal with missing value is to distributed according to relative probability top 5 categories in the dataset  "
   ]
  },
  {
   "cell_type": "code",
   "execution_count": 72,
   "metadata": {},
   "outputs": [
    {
     "data": {
      "text/plain": [
       "array(['Action,Crime,Drama', 'Biography,Drama', 'Drama', ...,\n",
       "       'Music,Musical,Reality-TV', 'Animation,Crime',\n",
       "       'Adventure,History,War'], dtype=object)"
      ]
     },
     "execution_count": 72,
     "metadata": {},
     "output_type": "execute_result"
    }
   ],
   "source": [
    "df_1['genres'].unique()"
   ]
  },
  {
   "cell_type": "code",
   "execution_count": 73,
   "metadata": {},
   "outputs": [
    {
     "data": {
      "text/plain": [
       "tconst              0\n",
       "primary_title       0\n",
       "original_title     21\n",
       "start_year          0\n",
       "runtime_minutes     0\n",
       "genres              0\n",
       "dtype: int64"
      ]
     },
     "execution_count": 73,
     "metadata": {},
     "output_type": "execute_result"
    }
   ],
   "source": [
    "#Replacing missing values with 'Missing'\n",
    "df_1['genres'].fillna('Missing', inplace=True)\n",
    "df_1.isna().sum()"
   ]
  },
  {
   "cell_type": "markdown",
   "metadata": {},
   "source": [
    "- Double the relative probabilities of the top 5 categories because they account for 50% of the whole data set. The other 50% of data are spread out with 1080 other genres which makes them insignificant"
   ]
  },
  {
   "cell_type": "code",
   "execution_count": 74,
   "metadata": {},
   "outputs": [
    {
     "data": {
      "text/plain": [
       "Documentary                 0.237136\n",
       "Drama                       0.158337\n",
       "Comedy                      0.067851\n",
       "Horror                      0.032187\n",
       "Comedy,Drama                0.025530\n",
       "                              ...   \n",
       "Action,Mystery,Western      0.000007\n",
       "Family,Music,Musical        0.000007\n",
       "Biography,Family,News       0.000007\n",
       "Animation,Horror,Sci-Fi     0.000007\n",
       "Adventure,Horror,Western    0.000007\n",
       "Name: genres, Length: 1085, dtype: float64"
      ]
     },
     "execution_count": 74,
     "metadata": {},
     "output_type": "execute_result"
    }
   ],
   "source": [
    "rel_prob = [0.46, 0.30, 0.14,0.06, 0.04]\n",
    "prob = [i/sum(rel_prob) for i in rel_prob]\n",
    "def impute_genre(value):\n",
    "    if value == 'Missing':\n",
    "        return np.random.choice(['Documentary','Drama','Comedy', 'Horror', 'Comedy,Drama'], p=prob)\n",
    "    else:\n",
    "        return value\n",
    "df_1['genres'] = df_1['genres'].map(lambda x: impute_genre(x))\n",
    "df_1['genres'].value_counts(normalize=True)"
   ]
  },
  {
   "cell_type": "code",
   "execution_count": 75,
   "metadata": {},
   "outputs": [
    {
     "data": {
      "text/plain": [
       "0"
      ]
     },
     "execution_count": 75,
     "metadata": {},
     "output_type": "execute_result"
    }
   ],
   "source": [
    "df_1['genres'].isna().sum()"
   ]
  },
  {
   "cell_type": "markdown",
   "metadata": {},
   "source": [
    "### b. title.ratings\n",
    "Data cleaning for df_2 (73856 rows x 3 columns)\n",
    "\n",
    "What to clean: \n",
    "- Change columns name of average rating and num of votes for clarity/formatting "
   ]
  },
  {
   "cell_type": "code",
   "execution_count": 76,
   "metadata": {},
   "outputs": [
    {
     "data": {
      "text/plain": [
       "Index(['tconst', 'average rating', 'no. of votes'], dtype='object')"
      ]
     },
     "execution_count": 76,
     "metadata": {},
     "output_type": "execute_result"
    }
   ],
   "source": [
    "df_2.rename(columns={'averagerating' : 'average rating', 'numvotes' : 'no. of votes'}, inplace=True)\n",
    "df_2.columns"
   ]
  },
  {
   "cell_type": "markdown",
   "metadata": {},
   "source": [
    "**Find the most common genres with high ratings by combining df_1 and df_2**"
   ]
  },
  {
   "cell_type": "code",
   "execution_count": 77,
   "metadata": {},
   "outputs": [
    {
     "data": {
      "text/html": [
       "<div>\n",
       "<style scoped>\n",
       "    .dataframe tbody tr th:only-of-type {\n",
       "        vertical-align: middle;\n",
       "    }\n",
       "\n",
       "    .dataframe tbody tr th {\n",
       "        vertical-align: top;\n",
       "    }\n",
       "\n",
       "    .dataframe thead th {\n",
       "        text-align: right;\n",
       "    }\n",
       "</style>\n",
       "<table border=\"1\" class=\"dataframe\">\n",
       "  <thead>\n",
       "    <tr style=\"text-align: right;\">\n",
       "      <th></th>\n",
       "      <th>tconst</th>\n",
       "      <th>primary_title</th>\n",
       "      <th>original_title</th>\n",
       "      <th>start_year</th>\n",
       "      <th>runtime_minutes</th>\n",
       "      <th>genres</th>\n",
       "      <th>average rating</th>\n",
       "      <th>no. of votes</th>\n",
       "    </tr>\n",
       "  </thead>\n",
       "  <tbody>\n",
       "    <tr>\n",
       "      <th>0</th>\n",
       "      <td>tt0063540</td>\n",
       "      <td>Sunghursh</td>\n",
       "      <td>Sunghursh</td>\n",
       "      <td>2013</td>\n",
       "      <td>175.0</td>\n",
       "      <td>Action,Crime,Drama</td>\n",
       "      <td>7.0</td>\n",
       "      <td>77.0</td>\n",
       "    </tr>\n",
       "    <tr>\n",
       "      <th>1</th>\n",
       "      <td>tt0066787</td>\n",
       "      <td>One Day Before the Rainy Season</td>\n",
       "      <td>Ashad Ka Ek Din</td>\n",
       "      <td>2019</td>\n",
       "      <td>114.0</td>\n",
       "      <td>Biography,Drama</td>\n",
       "      <td>7.2</td>\n",
       "      <td>43.0</td>\n",
       "    </tr>\n",
       "    <tr>\n",
       "      <th>2</th>\n",
       "      <td>tt0069049</td>\n",
       "      <td>The Other Side of the Wind</td>\n",
       "      <td>The Other Side of the Wind</td>\n",
       "      <td>2018</td>\n",
       "      <td>122.0</td>\n",
       "      <td>Drama</td>\n",
       "      <td>6.9</td>\n",
       "      <td>4517.0</td>\n",
       "    </tr>\n",
       "    <tr>\n",
       "      <th>3</th>\n",
       "      <td>tt0069204</td>\n",
       "      <td>Sabse Bada Sukh</td>\n",
       "      <td>Sabse Bada Sukh</td>\n",
       "      <td>2018</td>\n",
       "      <td>87.0</td>\n",
       "      <td>Comedy,Drama</td>\n",
       "      <td>6.1</td>\n",
       "      <td>13.0</td>\n",
       "    </tr>\n",
       "    <tr>\n",
       "      <th>4</th>\n",
       "      <td>tt0100275</td>\n",
       "      <td>The Wandering Soap Opera</td>\n",
       "      <td>La Telenovela Errante</td>\n",
       "      <td>2017</td>\n",
       "      <td>80.0</td>\n",
       "      <td>Comedy,Drama,Fantasy</td>\n",
       "      <td>6.5</td>\n",
       "      <td>119.0</td>\n",
       "    </tr>\n",
       "    <tr>\n",
       "      <th>...</th>\n",
       "      <td>...</td>\n",
       "      <td>...</td>\n",
       "      <td>...</td>\n",
       "      <td>...</td>\n",
       "      <td>...</td>\n",
       "      <td>...</td>\n",
       "      <td>...</td>\n",
       "      <td>...</td>\n",
       "    </tr>\n",
       "    <tr>\n",
       "      <th>146139</th>\n",
       "      <td>tt9916538</td>\n",
       "      <td>Kuambil Lagi Hatiku</td>\n",
       "      <td>Kuambil Lagi Hatiku</td>\n",
       "      <td>2019</td>\n",
       "      <td>123.0</td>\n",
       "      <td>Drama</td>\n",
       "      <td>NaN</td>\n",
       "      <td>NaN</td>\n",
       "    </tr>\n",
       "    <tr>\n",
       "      <th>146140</th>\n",
       "      <td>tt9916622</td>\n",
       "      <td>Rodolpho Teóphilo - O Legado de um Pioneiro</td>\n",
       "      <td>Rodolpho Teóphilo - O Legado de um Pioneiro</td>\n",
       "      <td>2015</td>\n",
       "      <td>87.0</td>\n",
       "      <td>Documentary</td>\n",
       "      <td>NaN</td>\n",
       "      <td>NaN</td>\n",
       "    </tr>\n",
       "    <tr>\n",
       "      <th>146141</th>\n",
       "      <td>tt9916706</td>\n",
       "      <td>Dankyavar Danka</td>\n",
       "      <td>Dankyavar Danka</td>\n",
       "      <td>2013</td>\n",
       "      <td>87.0</td>\n",
       "      <td>Comedy</td>\n",
       "      <td>NaN</td>\n",
       "      <td>NaN</td>\n",
       "    </tr>\n",
       "    <tr>\n",
       "      <th>146142</th>\n",
       "      <td>tt9916730</td>\n",
       "      <td>6 Gunn</td>\n",
       "      <td>6 Gunn</td>\n",
       "      <td>2017</td>\n",
       "      <td>116.0</td>\n",
       "      <td>Documentary</td>\n",
       "      <td>NaN</td>\n",
       "      <td>NaN</td>\n",
       "    </tr>\n",
       "    <tr>\n",
       "      <th>146143</th>\n",
       "      <td>tt9916754</td>\n",
       "      <td>Chico Albuquerque - Revelações</td>\n",
       "      <td>Chico Albuquerque - Revelações</td>\n",
       "      <td>2013</td>\n",
       "      <td>87.0</td>\n",
       "      <td>Documentary</td>\n",
       "      <td>NaN</td>\n",
       "      <td>NaN</td>\n",
       "    </tr>\n",
       "  </tbody>\n",
       "</table>\n",
       "<p>146144 rows × 8 columns</p>\n",
       "</div>"
      ],
      "text/plain": [
       "           tconst                                primary_title  \\\n",
       "0       tt0063540                                    Sunghursh   \n",
       "1       tt0066787              One Day Before the Rainy Season   \n",
       "2       tt0069049                   The Other Side of the Wind   \n",
       "3       tt0069204                              Sabse Bada Sukh   \n",
       "4       tt0100275                     The Wandering Soap Opera   \n",
       "...           ...                                          ...   \n",
       "146139  tt9916538                          Kuambil Lagi Hatiku   \n",
       "146140  tt9916622  Rodolpho Teóphilo - O Legado de um Pioneiro   \n",
       "146141  tt9916706                              Dankyavar Danka   \n",
       "146142  tt9916730                                       6 Gunn   \n",
       "146143  tt9916754               Chico Albuquerque - Revelações   \n",
       "\n",
       "                                     original_title  start_year  \\\n",
       "0                                         Sunghursh        2013   \n",
       "1                                   Ashad Ka Ek Din        2019   \n",
       "2                        The Other Side of the Wind        2018   \n",
       "3                                   Sabse Bada Sukh        2018   \n",
       "4                             La Telenovela Errante        2017   \n",
       "...                                             ...         ...   \n",
       "146139                          Kuambil Lagi Hatiku        2019   \n",
       "146140  Rodolpho Teóphilo - O Legado de um Pioneiro        2015   \n",
       "146141                              Dankyavar Danka        2013   \n",
       "146142                                       6 Gunn        2017   \n",
       "146143               Chico Albuquerque - Revelações        2013   \n",
       "\n",
       "        runtime_minutes                genres  average rating  no. of votes  \n",
       "0                 175.0    Action,Crime,Drama             7.0          77.0  \n",
       "1                 114.0       Biography,Drama             7.2          43.0  \n",
       "2                 122.0                 Drama             6.9        4517.0  \n",
       "3                  87.0          Comedy,Drama             6.1          13.0  \n",
       "4                  80.0  Comedy,Drama,Fantasy             6.5         119.0  \n",
       "...                 ...                   ...             ...           ...  \n",
       "146139            123.0                 Drama             NaN           NaN  \n",
       "146140             87.0           Documentary             NaN           NaN  \n",
       "146141             87.0                Comedy             NaN           NaN  \n",
       "146142            116.0           Documentary             NaN           NaN  \n",
       "146143             87.0           Documentary             NaN           NaN  \n",
       "\n",
       "[146144 rows x 8 columns]"
      ]
     },
     "execution_count": 77,
     "metadata": {},
     "output_type": "execute_result"
    }
   ],
   "source": [
    "#Merging df_1 & df_2\n",
    "df_1n2 = pd.merge(df_1, df_2, how='outer')\n",
    "df_1n2"
   ]
  },
  {
   "cell_type": "markdown",
   "metadata": {},
   "source": [
    "Since df_1 has way more data rows than df_2, there will be alot of nulls in average rating and number of votes. Our focus is on movies with high rating and number of votes to find the top genre of movies therefore we will drop any nulls values in average rating and number of votes. "
   ]
  },
  {
   "cell_type": "code",
   "execution_count": 78,
   "metadata": {},
   "outputs": [
    {
     "name": "stdout",
     "output_type": "stream",
     "text": [
      "<class 'pandas.core.frame.DataFrame'>\n",
      "Int64Index: 73856 entries, 0 to 146134\n",
      "Data columns (total 8 columns):\n",
      " #   Column           Non-Null Count  Dtype  \n",
      "---  ------           --------------  -----  \n",
      " 0   tconst           73856 non-null  object \n",
      " 1   primary_title    73856 non-null  object \n",
      " 2   original_title   73856 non-null  object \n",
      " 3   start_year       73856 non-null  int64  \n",
      " 4   runtime_minutes  73856 non-null  float64\n",
      " 5   genres           73856 non-null  object \n",
      " 6   average rating   73856 non-null  float64\n",
      " 7   no. of votes     73856 non-null  float64\n",
      "dtypes: float64(3), int64(1), object(4)\n",
      "memory usage: 5.1+ MB\n"
     ]
    }
   ],
   "source": [
    "df_1n2.dropna(subset=['average rating', 'no. of votes'], inplace=True)\n",
    "df_1n2.info()"
   ]
  },
  {
   "cell_type": "markdown",
   "metadata": {},
   "source": [
    "- To find the top rating movies we can use .loc() to filter only movies with rating >=8"
   ]
  },
  {
   "cell_type": "code",
   "execution_count": 79,
   "metadata": {
    "scrolled": true
   },
   "outputs": [
    {
     "data": {
      "text/html": [
       "<div>\n",
       "<style scoped>\n",
       "    .dataframe tbody tr th:only-of-type {\n",
       "        vertical-align: middle;\n",
       "    }\n",
       "\n",
       "    .dataframe tbody tr th {\n",
       "        vertical-align: top;\n",
       "    }\n",
       "\n",
       "    .dataframe thead th {\n",
       "        text-align: right;\n",
       "    }\n",
       "</style>\n",
       "<table border=\"1\" class=\"dataframe\">\n",
       "  <thead>\n",
       "    <tr style=\"text-align: right;\">\n",
       "      <th></th>\n",
       "      <th>tconst</th>\n",
       "      <th>primary_title</th>\n",
       "      <th>original_title</th>\n",
       "      <th>start_year</th>\n",
       "      <th>runtime_minutes</th>\n",
       "      <th>genres</th>\n",
       "      <th>average rating</th>\n",
       "      <th>no. of votes</th>\n",
       "    </tr>\n",
       "  </thead>\n",
       "  <tbody>\n",
       "    <tr>\n",
       "      <th>7</th>\n",
       "      <td>tt0137204</td>\n",
       "      <td>Joe Finds Grace</td>\n",
       "      <td>Joe Finds Grace</td>\n",
       "      <td>2017</td>\n",
       "      <td>83.0</td>\n",
       "      <td>Adventure,Animation,Comedy</td>\n",
       "      <td>8.1</td>\n",
       "      <td>263.0</td>\n",
       "    </tr>\n",
       "    <tr>\n",
       "      <th>18</th>\n",
       "      <td>tt0230212</td>\n",
       "      <td>The Final Journey</td>\n",
       "      <td>The Final Journey</td>\n",
       "      <td>2010</td>\n",
       "      <td>120.0</td>\n",
       "      <td>Drama</td>\n",
       "      <td>8.8</td>\n",
       "      <td>8.0</td>\n",
       "    </tr>\n",
       "    <tr>\n",
       "      <th>78</th>\n",
       "      <td>tt0406282</td>\n",
       "      <td>Bubbles</td>\n",
       "      <td>Bubbles</td>\n",
       "      <td>2011</td>\n",
       "      <td>80.0</td>\n",
       "      <td>Drama</td>\n",
       "      <td>8.6</td>\n",
       "      <td>18.0</td>\n",
       "    </tr>\n",
       "    <tr>\n",
       "      <th>96</th>\n",
       "      <td>tt0430524</td>\n",
       "      <td>The Rescuer</td>\n",
       "      <td>The Rescuer</td>\n",
       "      <td>2011</td>\n",
       "      <td>84.0</td>\n",
       "      <td>Documentary</td>\n",
       "      <td>8.7</td>\n",
       "      <td>14.0</td>\n",
       "    </tr>\n",
       "    <tr>\n",
       "      <th>104</th>\n",
       "      <td>tt0435761</td>\n",
       "      <td>Toy Story 3</td>\n",
       "      <td>Toy Story 3</td>\n",
       "      <td>2010</td>\n",
       "      <td>103.0</td>\n",
       "      <td>Adventure,Animation,Comedy</td>\n",
       "      <td>8.3</td>\n",
       "      <td>682218.0</td>\n",
       "    </tr>\n",
       "  </tbody>\n",
       "</table>\n",
       "</div>"
      ],
      "text/plain": [
       "        tconst      primary_title     original_title  start_year  \\\n",
       "7    tt0137204    Joe Finds Grace    Joe Finds Grace        2017   \n",
       "18   tt0230212  The Final Journey  The Final Journey        2010   \n",
       "78   tt0406282            Bubbles            Bubbles        2011   \n",
       "96   tt0430524        The Rescuer        The Rescuer        2011   \n",
       "104  tt0435761        Toy Story 3        Toy Story 3        2010   \n",
       "\n",
       "     runtime_minutes                      genres  average rating  no. of votes  \n",
       "7               83.0  Adventure,Animation,Comedy             8.1         263.0  \n",
       "18             120.0                       Drama             8.8           8.0  \n",
       "78              80.0                       Drama             8.6          18.0  \n",
       "96              84.0                 Documentary             8.7          14.0  \n",
       "104            103.0  Adventure,Animation,Comedy             8.3      682218.0  "
      ]
     },
     "execution_count": 79,
     "metadata": {},
     "output_type": "execute_result"
    }
   ],
   "source": [
    "top_rating = df_1n2.loc[df_1n2['average rating'] >= 8]\n",
    "top_rating.head()"
   ]
  },
  {
   "cell_type": "markdown",
   "metadata": {},
   "source": [
    "## 6.2 Box Office Mojo\n",
    "Data cleaning for df_3 (3387 rows x 5 columns)\n",
    "\n",
    "What to clean:\n",
    "- Nulls domestic gross has 28 nulls and foreign gross has 1350 nulls - replace missing values with median() to avoid using mean() which could potentially skew data due to outliers\n",
    "- Foreign gross is in object data type - convert to int64 for data calculation,\n",
    "- Changing 'title' column name to 'primary_title' to allow merging of title.basics& title.ratings and bom.movie_gross later"
   ]
  },
  {
   "cell_type": "code",
   "execution_count": 80,
   "metadata": {},
   "outputs": [
    {
     "name": "stdout",
     "output_type": "stream",
     "text": [
      "<class 'pandas.core.frame.DataFrame'>\n",
      "RangeIndex: 3387 entries, 0 to 3386\n",
      "Data columns (total 5 columns):\n",
      " #   Column          Non-Null Count  Dtype  \n",
      "---  ------          --------------  -----  \n",
      " 0   title           3387 non-null   object \n",
      " 1   studio          3382 non-null   object \n",
      " 2   domestic_gross  3359 non-null   float64\n",
      " 3   foreign_gross   2032 non-null   float64\n",
      " 4   year            3387 non-null   int64  \n",
      "dtypes: float64(2), int64(1), object(2)\n",
      "memory usage: 132.4+ KB\n"
     ]
    }
   ],
   "source": [
    "#convert foreign gross from object to float data type \n",
    "df_3['foreign_gross'] = pd.to_numeric(df_3['foreign_gross'], errors='coerce')\n",
    "df_3.info()"
   ]
  },
  {
   "cell_type": "code",
   "execution_count": 81,
   "metadata": {},
   "outputs": [
    {
     "data": {
      "text/html": [
       "<div>\n",
       "<style scoped>\n",
       "    .dataframe tbody tr th:only-of-type {\n",
       "        vertical-align: middle;\n",
       "    }\n",
       "\n",
       "    .dataframe tbody tr th {\n",
       "        vertical-align: top;\n",
       "    }\n",
       "\n",
       "    .dataframe thead th {\n",
       "        text-align: right;\n",
       "    }\n",
       "</style>\n",
       "<table border=\"1\" class=\"dataframe\">\n",
       "  <thead>\n",
       "    <tr style=\"text-align: right;\">\n",
       "      <th></th>\n",
       "      <th>domestic_gross</th>\n",
       "      <th>foreign_gross</th>\n",
       "      <th>year</th>\n",
       "    </tr>\n",
       "  </thead>\n",
       "  <tbody>\n",
       "    <tr>\n",
       "      <th>count</th>\n",
       "      <td>3.359000e+03</td>\n",
       "      <td>2.032000e+03</td>\n",
       "      <td>3387.000000</td>\n",
       "    </tr>\n",
       "    <tr>\n",
       "      <th>mean</th>\n",
       "      <td>2.874585e+07</td>\n",
       "      <td>7.505704e+07</td>\n",
       "      <td>2013.958075</td>\n",
       "    </tr>\n",
       "    <tr>\n",
       "      <th>std</th>\n",
       "      <td>6.698250e+07</td>\n",
       "      <td>1.375294e+08</td>\n",
       "      <td>2.478141</td>\n",
       "    </tr>\n",
       "    <tr>\n",
       "      <th>min</th>\n",
       "      <td>1.000000e+02</td>\n",
       "      <td>6.000000e+02</td>\n",
       "      <td>2010.000000</td>\n",
       "    </tr>\n",
       "    <tr>\n",
       "      <th>25%</th>\n",
       "      <td>1.200000e+05</td>\n",
       "      <td>3.775000e+06</td>\n",
       "      <td>2012.000000</td>\n",
       "    </tr>\n",
       "    <tr>\n",
       "      <th>50%</th>\n",
       "      <td>1.400000e+06</td>\n",
       "      <td>1.890000e+07</td>\n",
       "      <td>2014.000000</td>\n",
       "    </tr>\n",
       "    <tr>\n",
       "      <th>75%</th>\n",
       "      <td>2.790000e+07</td>\n",
       "      <td>7.505000e+07</td>\n",
       "      <td>2016.000000</td>\n",
       "    </tr>\n",
       "    <tr>\n",
       "      <th>max</th>\n",
       "      <td>9.367000e+08</td>\n",
       "      <td>9.605000e+08</td>\n",
       "      <td>2018.000000</td>\n",
       "    </tr>\n",
       "  </tbody>\n",
       "</table>\n",
       "</div>"
      ],
      "text/plain": [
       "       domestic_gross  foreign_gross         year\n",
       "count    3.359000e+03   2.032000e+03  3387.000000\n",
       "mean     2.874585e+07   7.505704e+07  2013.958075\n",
       "std      6.698250e+07   1.375294e+08     2.478141\n",
       "min      1.000000e+02   6.000000e+02  2010.000000\n",
       "25%      1.200000e+05   3.775000e+06  2012.000000\n",
       "50%      1.400000e+06   1.890000e+07  2014.000000\n",
       "75%      2.790000e+07   7.505000e+07  2016.000000\n",
       "max      9.367000e+08   9.605000e+08  2018.000000"
      ]
     },
     "execution_count": 81,
     "metadata": {},
     "output_type": "execute_result"
    }
   ],
   "source": [
    "#Find properties of both domestic gross and foreign gross \n",
    "df_3.describe()"
   ]
  },
  {
   "cell_type": "markdown",
   "metadata": {},
   "source": [
    "- Gross is a continuous data and from the table above, median is the best choice to replace missing values as the mean is skewed by outliers. "
   ]
  },
  {
   "cell_type": "code",
   "execution_count": 82,
   "metadata": {},
   "outputs": [],
   "source": [
    "#replacing missing values with median in both domestic and foreign gross \n",
    "df_3['domestic_gross'].fillna(df_3['domestic_gross'].median(), inplace=True)\n",
    "df_3['foreign_gross'].fillna(df_3['foreign_gross'].median(), inplace=True)"
   ]
  },
  {
   "cell_type": "code",
   "execution_count": 83,
   "metadata": {},
   "outputs": [
    {
     "data": {
      "text/plain": [
       "title             0\n",
       "studio            5\n",
       "domestic_gross    0\n",
       "foreign_gross     0\n",
       "year              0\n",
       "dtype: int64"
      ]
     },
     "execution_count": 83,
     "metadata": {},
     "output_type": "execute_result"
    }
   ],
   "source": [
    "df_3.isna().sum()"
   ]
  },
  {
   "cell_type": "code",
   "execution_count": 84,
   "metadata": {},
   "outputs": [
    {
     "data": {
      "text/html": [
       "<div>\n",
       "<style scoped>\n",
       "    .dataframe tbody tr th:only-of-type {\n",
       "        vertical-align: middle;\n",
       "    }\n",
       "\n",
       "    .dataframe tbody tr th {\n",
       "        vertical-align: top;\n",
       "    }\n",
       "\n",
       "    .dataframe thead th {\n",
       "        text-align: right;\n",
       "    }\n",
       "</style>\n",
       "<table border=\"1\" class=\"dataframe\">\n",
       "  <thead>\n",
       "    <tr style=\"text-align: right;\">\n",
       "      <th></th>\n",
       "      <th>primary_title</th>\n",
       "      <th>studio</th>\n",
       "      <th>domestic_gross</th>\n",
       "      <th>foreign_gross</th>\n",
       "      <th>year</th>\n",
       "    </tr>\n",
       "  </thead>\n",
       "  <tbody>\n",
       "    <tr>\n",
       "      <th>0</th>\n",
       "      <td>Toy Story 3</td>\n",
       "      <td>BV</td>\n",
       "      <td>415000000.0</td>\n",
       "      <td>652000000.0</td>\n",
       "      <td>2010</td>\n",
       "    </tr>\n",
       "    <tr>\n",
       "      <th>1</th>\n",
       "      <td>Alice in Wonderland (2010)</td>\n",
       "      <td>BV</td>\n",
       "      <td>334200000.0</td>\n",
       "      <td>691300000.0</td>\n",
       "      <td>2010</td>\n",
       "    </tr>\n",
       "    <tr>\n",
       "      <th>2</th>\n",
       "      <td>Harry Potter and the Deathly Hallows Part 1</td>\n",
       "      <td>WB</td>\n",
       "      <td>296000000.0</td>\n",
       "      <td>664300000.0</td>\n",
       "      <td>2010</td>\n",
       "    </tr>\n",
       "    <tr>\n",
       "      <th>3</th>\n",
       "      <td>Inception</td>\n",
       "      <td>WB</td>\n",
       "      <td>292600000.0</td>\n",
       "      <td>535700000.0</td>\n",
       "      <td>2010</td>\n",
       "    </tr>\n",
       "    <tr>\n",
       "      <th>4</th>\n",
       "      <td>Shrek Forever After</td>\n",
       "      <td>P/DW</td>\n",
       "      <td>238700000.0</td>\n",
       "      <td>513900000.0</td>\n",
       "      <td>2010</td>\n",
       "    </tr>\n",
       "    <tr>\n",
       "      <th>...</th>\n",
       "      <td>...</td>\n",
       "      <td>...</td>\n",
       "      <td>...</td>\n",
       "      <td>...</td>\n",
       "      <td>...</td>\n",
       "    </tr>\n",
       "    <tr>\n",
       "      <th>3382</th>\n",
       "      <td>The Quake</td>\n",
       "      <td>Magn.</td>\n",
       "      <td>6200.0</td>\n",
       "      <td>18900000.0</td>\n",
       "      <td>2018</td>\n",
       "    </tr>\n",
       "    <tr>\n",
       "      <th>3383</th>\n",
       "      <td>Edward II (2018 re-release)</td>\n",
       "      <td>FM</td>\n",
       "      <td>4800.0</td>\n",
       "      <td>18900000.0</td>\n",
       "      <td>2018</td>\n",
       "    </tr>\n",
       "    <tr>\n",
       "      <th>3384</th>\n",
       "      <td>El Pacto</td>\n",
       "      <td>Sony</td>\n",
       "      <td>2500.0</td>\n",
       "      <td>18900000.0</td>\n",
       "      <td>2018</td>\n",
       "    </tr>\n",
       "    <tr>\n",
       "      <th>3385</th>\n",
       "      <td>The Swan</td>\n",
       "      <td>Synergetic</td>\n",
       "      <td>2400.0</td>\n",
       "      <td>18900000.0</td>\n",
       "      <td>2018</td>\n",
       "    </tr>\n",
       "    <tr>\n",
       "      <th>3386</th>\n",
       "      <td>An Actor Prepares</td>\n",
       "      <td>Grav.</td>\n",
       "      <td>1700.0</td>\n",
       "      <td>18900000.0</td>\n",
       "      <td>2018</td>\n",
       "    </tr>\n",
       "  </tbody>\n",
       "</table>\n",
       "<p>3387 rows × 5 columns</p>\n",
       "</div>"
      ],
      "text/plain": [
       "                                    primary_title      studio  domestic_gross  \\\n",
       "0                                     Toy Story 3          BV     415000000.0   \n",
       "1                      Alice in Wonderland (2010)          BV     334200000.0   \n",
       "2     Harry Potter and the Deathly Hallows Part 1          WB     296000000.0   \n",
       "3                                       Inception          WB     292600000.0   \n",
       "4                             Shrek Forever After        P/DW     238700000.0   \n",
       "...                                           ...         ...             ...   \n",
       "3382                                    The Quake       Magn.          6200.0   \n",
       "3383                  Edward II (2018 re-release)          FM          4800.0   \n",
       "3384                                     El Pacto        Sony          2500.0   \n",
       "3385                                     The Swan  Synergetic          2400.0   \n",
       "3386                            An Actor Prepares       Grav.          1700.0   \n",
       "\n",
       "      foreign_gross  year  \n",
       "0       652000000.0  2010  \n",
       "1       691300000.0  2010  \n",
       "2       664300000.0  2010  \n",
       "3       535700000.0  2010  \n",
       "4       513900000.0  2010  \n",
       "...             ...   ...  \n",
       "3382     18900000.0  2018  \n",
       "3383     18900000.0  2018  \n",
       "3384     18900000.0  2018  \n",
       "3385     18900000.0  2018  \n",
       "3386     18900000.0  2018  \n",
       "\n",
       "[3387 rows x 5 columns]"
      ]
     },
     "execution_count": 84,
     "metadata": {},
     "output_type": "execute_result"
    }
   ],
   "source": [
    "df_3.rename(columns={'title' : 'primary_title'}, inplace=True)\n",
    "df_3"
   ]
  },
  {
   "cell_type": "markdown",
   "metadata": {},
   "source": [
    "**Merging df_1n2  and bom.movie_gross**"
   ]
  },
  {
   "cell_type": "code",
   "execution_count": 85,
   "metadata": {},
   "outputs": [
    {
     "data": {
      "text/html": [
       "<div>\n",
       "<style scoped>\n",
       "    .dataframe tbody tr th:only-of-type {\n",
       "        vertical-align: middle;\n",
       "    }\n",
       "\n",
       "    .dataframe tbody tr th {\n",
       "        vertical-align: top;\n",
       "    }\n",
       "\n",
       "    .dataframe thead th {\n",
       "        text-align: right;\n",
       "    }\n",
       "</style>\n",
       "<table border=\"1\" class=\"dataframe\">\n",
       "  <thead>\n",
       "    <tr style=\"text-align: right;\">\n",
       "      <th></th>\n",
       "      <th>tconst</th>\n",
       "      <th>primary_title</th>\n",
       "      <th>original_title</th>\n",
       "      <th>start_year</th>\n",
       "      <th>runtime_minutes</th>\n",
       "      <th>genres</th>\n",
       "      <th>average rating</th>\n",
       "      <th>no. of votes</th>\n",
       "      <th>studio</th>\n",
       "      <th>domestic_gross</th>\n",
       "      <th>foreign_gross</th>\n",
       "      <th>year</th>\n",
       "    </tr>\n",
       "  </thead>\n",
       "  <tbody>\n",
       "    <tr>\n",
       "      <th>0</th>\n",
       "      <td>tt0435761</td>\n",
       "      <td>Toy Story 3</td>\n",
       "      <td>Toy Story 3</td>\n",
       "      <td>2010.0</td>\n",
       "      <td>103.0</td>\n",
       "      <td>Adventure,Animation,Comedy</td>\n",
       "      <td>8.3</td>\n",
       "      <td>682218.0</td>\n",
       "      <td>BV</td>\n",
       "      <td>415000000.0</td>\n",
       "      <td>652000000.0</td>\n",
       "      <td>2010</td>\n",
       "    </tr>\n",
       "    <tr>\n",
       "      <th>1</th>\n",
       "      <td>NaN</td>\n",
       "      <td>Alice in Wonderland (2010)</td>\n",
       "      <td>NaN</td>\n",
       "      <td>NaN</td>\n",
       "      <td>NaN</td>\n",
       "      <td>NaN</td>\n",
       "      <td>NaN</td>\n",
       "      <td>NaN</td>\n",
       "      <td>BV</td>\n",
       "      <td>334200000.0</td>\n",
       "      <td>691300000.0</td>\n",
       "      <td>2010</td>\n",
       "    </tr>\n",
       "    <tr>\n",
       "      <th>2</th>\n",
       "      <td>NaN</td>\n",
       "      <td>Harry Potter and the Deathly Hallows Part 1</td>\n",
       "      <td>NaN</td>\n",
       "      <td>NaN</td>\n",
       "      <td>NaN</td>\n",
       "      <td>NaN</td>\n",
       "      <td>NaN</td>\n",
       "      <td>NaN</td>\n",
       "      <td>WB</td>\n",
       "      <td>296000000.0</td>\n",
       "      <td>664300000.0</td>\n",
       "      <td>2010</td>\n",
       "    </tr>\n",
       "    <tr>\n",
       "      <th>3</th>\n",
       "      <td>tt1375666</td>\n",
       "      <td>Inception</td>\n",
       "      <td>Inception</td>\n",
       "      <td>2010.0</td>\n",
       "      <td>148.0</td>\n",
       "      <td>Action,Adventure,Sci-Fi</td>\n",
       "      <td>8.8</td>\n",
       "      <td>1841066.0</td>\n",
       "      <td>WB</td>\n",
       "      <td>292600000.0</td>\n",
       "      <td>535700000.0</td>\n",
       "      <td>2010</td>\n",
       "    </tr>\n",
       "    <tr>\n",
       "      <th>4</th>\n",
       "      <td>tt0892791</td>\n",
       "      <td>Shrek Forever After</td>\n",
       "      <td>Shrek Forever After</td>\n",
       "      <td>2010.0</td>\n",
       "      <td>93.0</td>\n",
       "      <td>Adventure,Animation,Comedy</td>\n",
       "      <td>6.3</td>\n",
       "      <td>167532.0</td>\n",
       "      <td>P/DW</td>\n",
       "      <td>238700000.0</td>\n",
       "      <td>513900000.0</td>\n",
       "      <td>2010</td>\n",
       "    </tr>\n",
       "  </tbody>\n",
       "</table>\n",
       "</div>"
      ],
      "text/plain": [
       "      tconst                                primary_title  \\\n",
       "0  tt0435761                                  Toy Story 3   \n",
       "1        NaN                   Alice in Wonderland (2010)   \n",
       "2        NaN  Harry Potter and the Deathly Hallows Part 1   \n",
       "3  tt1375666                                    Inception   \n",
       "4  tt0892791                          Shrek Forever After   \n",
       "\n",
       "        original_title  start_year  runtime_minutes  \\\n",
       "0          Toy Story 3      2010.0            103.0   \n",
       "1                  NaN         NaN              NaN   \n",
       "2                  NaN         NaN              NaN   \n",
       "3            Inception      2010.0            148.0   \n",
       "4  Shrek Forever After      2010.0             93.0   \n",
       "\n",
       "                       genres  average rating  no. of votes studio  \\\n",
       "0  Adventure,Animation,Comedy             8.3      682218.0     BV   \n",
       "1                         NaN             NaN           NaN     BV   \n",
       "2                         NaN             NaN           NaN     WB   \n",
       "3     Action,Adventure,Sci-Fi             8.8     1841066.0     WB   \n",
       "4  Adventure,Animation,Comedy             6.3      167532.0   P/DW   \n",
       "\n",
       "   domestic_gross  foreign_gross  year  \n",
       "0     415000000.0    652000000.0  2010  \n",
       "1     334200000.0    691300000.0  2010  \n",
       "2     296000000.0    664300000.0  2010  \n",
       "3     292600000.0    535700000.0  2010  \n",
       "4     238700000.0    513900000.0  2010  "
      ]
     },
     "execution_count": 85,
     "metadata": {},
     "output_type": "execute_result"
    }
   ],
   "source": [
    "#Merging df_1n2 and df_3\n",
    "df_gross = pd.merge(df_1n2, df_3, how='right', on = 'primary_title')\n",
    "df_gross.head()"
   ]
  },
  {
   "cell_type": "code",
   "execution_count": 86,
   "metadata": {},
   "outputs": [
    {
     "data": {
      "text/plain": [
       "tconst             788\n",
       "primary_title        0\n",
       "original_title     788\n",
       "start_year         788\n",
       "runtime_minutes    788\n",
       "genres             788\n",
       "average rating     788\n",
       "no. of votes       788\n",
       "studio               5\n",
       "domestic_gross       0\n",
       "foreign_gross        0\n",
       "year                 0\n",
       "dtype: int64"
      ]
     },
     "execution_count": 86,
     "metadata": {},
     "output_type": "execute_result"
    }
   ],
   "source": [
    "df_gross.isna().sum()"
   ]
  },
  {
   "cell_type": "markdown",
   "metadata": {},
   "source": [
    "Nulls values in genres however no nulls in domestic_gross and foreign gross after merging. Our target variables are gross columns hence ok to leave nulls in genres. "
   ]
  },
  {
   "cell_type": "markdown",
   "metadata": {},
   "source": [
    "## 6.3 The Numbers\n",
    "\n",
    "Data cleaning for df_4 (5782 rows x 6 columns)\n",
    "\n",
    "What to clean:\n",
    "- Convert all gross columns from object to float\n",
    "- Convert release date into new column called release_season\n",
    "- Convert release date into date data type to classify releasing date into years in new column 'release_year' \n",
    "- Change movie column name to 'primary_title' for merging dataframes \n"
   ]
  },
  {
   "cell_type": "code",
   "execution_count": 87,
   "metadata": {},
   "outputs": [],
   "source": [
    "#removing '$' and ',' from 'prodction_budget', 'domestic_gross' and 'worldwide_gross' to allow conversion to integer\n",
    "df_4['production_budget'] = df_4['production_budget'].map(lambda x: x.split()[0].replace('$', ''))\n",
    "df_4['production_budget'] = df_4['production_budget'].map(lambda x: x.replace(',', ''))\n",
    "df_4['production_budget'] = df_4['production_budget'].astype(int)\n",
    "\n",
    "df_4['domestic_gross'] = df_4['domestic_gross'].map(lambda x: x.split()[0].replace('$', ''))\n",
    "df_4['domestic_gross'] = df_4['domestic_gross'].map(lambda x: x.replace(',', ''))\n",
    "df_4['domestic_gross'] = df_4['domestic_gross'].astype(int)\n",
    "\n",
    "df_4['worldwide_gross'] = df_4['worldwide_gross'].map(lambda x: x.split()[0].replace('$', ''))\n",
    "df_4['worldwide_gross'] = df_4['worldwide_gross'].map(lambda x: x.replace(',', ''))\n",
    "df_4['worldwide_gross'] = df_4['worldwide_gross'].astype(int)\n"
   ]
  },
  {
   "cell_type": "code",
   "execution_count": 88,
   "metadata": {},
   "outputs": [
    {
     "data": {
      "text/html": [
       "<div>\n",
       "<style scoped>\n",
       "    .dataframe tbody tr th:only-of-type {\n",
       "        vertical-align: middle;\n",
       "    }\n",
       "\n",
       "    .dataframe tbody tr th {\n",
       "        vertical-align: top;\n",
       "    }\n",
       "\n",
       "    .dataframe thead th {\n",
       "        text-align: right;\n",
       "    }\n",
       "</style>\n",
       "<table border=\"1\" class=\"dataframe\">\n",
       "  <thead>\n",
       "    <tr style=\"text-align: right;\">\n",
       "      <th></th>\n",
       "      <th>id</th>\n",
       "      <th>release_date</th>\n",
       "      <th>movie</th>\n",
       "      <th>production_budget</th>\n",
       "      <th>domestic_gross</th>\n",
       "      <th>worldwide_gross</th>\n",
       "      <th>release_season</th>\n",
       "    </tr>\n",
       "  </thead>\n",
       "  <tbody>\n",
       "    <tr>\n",
       "      <th>0</th>\n",
       "      <td>1</td>\n",
       "      <td>Dec 18, 2009</td>\n",
       "      <td>Avatar</td>\n",
       "      <td>425000000</td>\n",
       "      <td>760507625</td>\n",
       "      <td>2776345279</td>\n",
       "      <td>Winter</td>\n",
       "    </tr>\n",
       "    <tr>\n",
       "      <th>1</th>\n",
       "      <td>2</td>\n",
       "      <td>May 20, 2011</td>\n",
       "      <td>Pirates of the Caribbean: On Stranger Tides</td>\n",
       "      <td>410600000</td>\n",
       "      <td>241063875</td>\n",
       "      <td>1045663875</td>\n",
       "      <td>Spring</td>\n",
       "    </tr>\n",
       "    <tr>\n",
       "      <th>2</th>\n",
       "      <td>3</td>\n",
       "      <td>Jun 7, 2019</td>\n",
       "      <td>Dark Phoenix</td>\n",
       "      <td>350000000</td>\n",
       "      <td>42762350</td>\n",
       "      <td>149762350</td>\n",
       "      <td>Summer</td>\n",
       "    </tr>\n",
       "    <tr>\n",
       "      <th>3</th>\n",
       "      <td>4</td>\n",
       "      <td>May 1, 2015</td>\n",
       "      <td>Avengers: Age of Ultron</td>\n",
       "      <td>330600000</td>\n",
       "      <td>459005868</td>\n",
       "      <td>1403013963</td>\n",
       "      <td>Spring</td>\n",
       "    </tr>\n",
       "    <tr>\n",
       "      <th>4</th>\n",
       "      <td>5</td>\n",
       "      <td>Dec 15, 2017</td>\n",
       "      <td>Star Wars Ep. VIII: The Last Jedi</td>\n",
       "      <td>317000000</td>\n",
       "      <td>620181382</td>\n",
       "      <td>1316721747</td>\n",
       "      <td>Winter</td>\n",
       "    </tr>\n",
       "    <tr>\n",
       "      <th>...</th>\n",
       "      <td>...</td>\n",
       "      <td>...</td>\n",
       "      <td>...</td>\n",
       "      <td>...</td>\n",
       "      <td>...</td>\n",
       "      <td>...</td>\n",
       "      <td>...</td>\n",
       "    </tr>\n",
       "    <tr>\n",
       "      <th>5777</th>\n",
       "      <td>78</td>\n",
       "      <td>Dec 31, 2018</td>\n",
       "      <td>Red 11</td>\n",
       "      <td>7000</td>\n",
       "      <td>0</td>\n",
       "      <td>0</td>\n",
       "      <td>Winter</td>\n",
       "    </tr>\n",
       "    <tr>\n",
       "      <th>5778</th>\n",
       "      <td>79</td>\n",
       "      <td>Apr 2, 1999</td>\n",
       "      <td>Following</td>\n",
       "      <td>6000</td>\n",
       "      <td>48482</td>\n",
       "      <td>240495</td>\n",
       "      <td>Spring</td>\n",
       "    </tr>\n",
       "    <tr>\n",
       "      <th>5779</th>\n",
       "      <td>80</td>\n",
       "      <td>Jul 13, 2005</td>\n",
       "      <td>Return to the Land of Wonders</td>\n",
       "      <td>5000</td>\n",
       "      <td>1338</td>\n",
       "      <td>1338</td>\n",
       "      <td>Summer</td>\n",
       "    </tr>\n",
       "    <tr>\n",
       "      <th>5780</th>\n",
       "      <td>81</td>\n",
       "      <td>Sep 29, 2015</td>\n",
       "      <td>A Plague So Pleasant</td>\n",
       "      <td>1400</td>\n",
       "      <td>0</td>\n",
       "      <td>0</td>\n",
       "      <td>Autumn</td>\n",
       "    </tr>\n",
       "    <tr>\n",
       "      <th>5781</th>\n",
       "      <td>82</td>\n",
       "      <td>Aug 5, 2005</td>\n",
       "      <td>My Date With Drew</td>\n",
       "      <td>1100</td>\n",
       "      <td>181041</td>\n",
       "      <td>181041</td>\n",
       "      <td>Summer</td>\n",
       "    </tr>\n",
       "  </tbody>\n",
       "</table>\n",
       "<p>5782 rows × 7 columns</p>\n",
       "</div>"
      ],
      "text/plain": [
       "      id  release_date                                        movie  \\\n",
       "0      1  Dec 18, 2009                                       Avatar   \n",
       "1      2  May 20, 2011  Pirates of the Caribbean: On Stranger Tides   \n",
       "2      3   Jun 7, 2019                                 Dark Phoenix   \n",
       "3      4   May 1, 2015                      Avengers: Age of Ultron   \n",
       "4      5  Dec 15, 2017            Star Wars Ep. VIII: The Last Jedi   \n",
       "...   ..           ...                                          ...   \n",
       "5777  78  Dec 31, 2018                                       Red 11   \n",
       "5778  79   Apr 2, 1999                                    Following   \n",
       "5779  80  Jul 13, 2005                Return to the Land of Wonders   \n",
       "5780  81  Sep 29, 2015                         A Plague So Pleasant   \n",
       "5781  82   Aug 5, 2005                            My Date With Drew   \n",
       "\n",
       "      production_budget  domestic_gross  worldwide_gross release_season  \n",
       "0             425000000       760507625       2776345279         Winter  \n",
       "1             410600000       241063875       1045663875         Spring  \n",
       "2             350000000        42762350        149762350         Summer  \n",
       "3             330600000       459005868       1403013963         Spring  \n",
       "4             317000000       620181382       1316721747         Winter  \n",
       "...                 ...             ...              ...            ...  \n",
       "5777               7000               0                0         Winter  \n",
       "5778               6000           48482           240495         Spring  \n",
       "5779               5000            1338             1338         Summer  \n",
       "5780               1400               0                0         Autumn  \n",
       "5781               1100          181041           181041         Summer  \n",
       "\n",
       "[5782 rows x 7 columns]"
      ]
     },
     "execution_count": 88,
     "metadata": {},
     "output_type": "execute_result"
    }
   ],
   "source": [
    "#creating new column called release_season\n",
    "season = df_4['release_date'].map(lambda x:'Winter' if any([word in x for word in ['Dec', 'Jan', 'Feb']]) \n",
    "                          else 'Spring' if any([word in x for word in ['Mar', 'Apr', 'May']])\n",
    "                         else 'Summer' if any([word in x for word in ['Jun', 'Jul', 'Aug']]) else 'Autumn')\n",
    "df_4['release_season'] = season\n",
    "df_4"
   ]
  },
  {
   "cell_type": "code",
   "execution_count": 89,
   "metadata": {},
   "outputs": [
    {
     "data": {
      "text/html": [
       "<div>\n",
       "<style scoped>\n",
       "    .dataframe tbody tr th:only-of-type {\n",
       "        vertical-align: middle;\n",
       "    }\n",
       "\n",
       "    .dataframe tbody tr th {\n",
       "        vertical-align: top;\n",
       "    }\n",
       "\n",
       "    .dataframe thead th {\n",
       "        text-align: right;\n",
       "    }\n",
       "</style>\n",
       "<table border=\"1\" class=\"dataframe\">\n",
       "  <thead>\n",
       "    <tr style=\"text-align: right;\">\n",
       "      <th></th>\n",
       "      <th>id</th>\n",
       "      <th>release_date</th>\n",
       "      <th>movie</th>\n",
       "      <th>production_budget</th>\n",
       "      <th>domestic_gross</th>\n",
       "      <th>worldwide_gross</th>\n",
       "      <th>release_season</th>\n",
       "      <th>release_year</th>\n",
       "    </tr>\n",
       "  </thead>\n",
       "  <tbody>\n",
       "    <tr>\n",
       "      <th>0</th>\n",
       "      <td>1</td>\n",
       "      <td>Dec 18, 2009</td>\n",
       "      <td>Avatar</td>\n",
       "      <td>425000000</td>\n",
       "      <td>760507625</td>\n",
       "      <td>2776345279</td>\n",
       "      <td>Winter</td>\n",
       "      <td>2009</td>\n",
       "    </tr>\n",
       "    <tr>\n",
       "      <th>1</th>\n",
       "      <td>2</td>\n",
       "      <td>May 20, 2011</td>\n",
       "      <td>Pirates of the Caribbean: On Stranger Tides</td>\n",
       "      <td>410600000</td>\n",
       "      <td>241063875</td>\n",
       "      <td>1045663875</td>\n",
       "      <td>Spring</td>\n",
       "      <td>2011</td>\n",
       "    </tr>\n",
       "    <tr>\n",
       "      <th>2</th>\n",
       "      <td>3</td>\n",
       "      <td>Jun 7, 2019</td>\n",
       "      <td>Dark Phoenix</td>\n",
       "      <td>350000000</td>\n",
       "      <td>42762350</td>\n",
       "      <td>149762350</td>\n",
       "      <td>Summer</td>\n",
       "      <td>2019</td>\n",
       "    </tr>\n",
       "    <tr>\n",
       "      <th>3</th>\n",
       "      <td>4</td>\n",
       "      <td>May 1, 2015</td>\n",
       "      <td>Avengers: Age of Ultron</td>\n",
       "      <td>330600000</td>\n",
       "      <td>459005868</td>\n",
       "      <td>1403013963</td>\n",
       "      <td>Spring</td>\n",
       "      <td>2015</td>\n",
       "    </tr>\n",
       "    <tr>\n",
       "      <th>4</th>\n",
       "      <td>5</td>\n",
       "      <td>Dec 15, 2017</td>\n",
       "      <td>Star Wars Ep. VIII: The Last Jedi</td>\n",
       "      <td>317000000</td>\n",
       "      <td>620181382</td>\n",
       "      <td>1316721747</td>\n",
       "      <td>Winter</td>\n",
       "      <td>2017</td>\n",
       "    </tr>\n",
       "  </tbody>\n",
       "</table>\n",
       "</div>"
      ],
      "text/plain": [
       "   id  release_date                                        movie  \\\n",
       "0   1  Dec 18, 2009                                       Avatar   \n",
       "1   2  May 20, 2011  Pirates of the Caribbean: On Stranger Tides   \n",
       "2   3   Jun 7, 2019                                 Dark Phoenix   \n",
       "3   4   May 1, 2015                      Avengers: Age of Ultron   \n",
       "4   5  Dec 15, 2017            Star Wars Ep. VIII: The Last Jedi   \n",
       "\n",
       "   production_budget  domestic_gross  worldwide_gross release_season  \\\n",
       "0          425000000       760507625       2776345279         Winter   \n",
       "1          410600000       241063875       1045663875         Spring   \n",
       "2          350000000        42762350        149762350         Summer   \n",
       "3          330600000       459005868       1403013963         Spring   \n",
       "4          317000000       620181382       1316721747         Winter   \n",
       "\n",
       "   release_year  \n",
       "0          2009  \n",
       "1          2011  \n",
       "2          2019  \n",
       "3          2015  \n",
       "4          2017  "
      ]
     },
     "execution_count": 89,
     "metadata": {},
     "output_type": "execute_result"
    }
   ],
   "source": [
    "#adding new column that sort out date in to year \n",
    "df_4['release_year'] = pd.DatetimeIndex(df_4['release_date']).year\n",
    "df_4.head()"
   ]
  },
  {
   "cell_type": "code",
   "execution_count": 90,
   "metadata": {
    "scrolled": false
   },
   "outputs": [
    {
     "data": {
      "text/html": [
       "<div>\n",
       "<style scoped>\n",
       "    .dataframe tbody tr th:only-of-type {\n",
       "        vertical-align: middle;\n",
       "    }\n",
       "\n",
       "    .dataframe tbody tr th {\n",
       "        vertical-align: top;\n",
       "    }\n",
       "\n",
       "    .dataframe thead th {\n",
       "        text-align: right;\n",
       "    }\n",
       "</style>\n",
       "<table border=\"1\" class=\"dataframe\">\n",
       "  <thead>\n",
       "    <tr style=\"text-align: right;\">\n",
       "      <th></th>\n",
       "      <th>primary_title</th>\n",
       "      <th>studio</th>\n",
       "      <th>domestic_gross</th>\n",
       "      <th>foreign_gross</th>\n",
       "      <th>year</th>\n",
       "    </tr>\n",
       "  </thead>\n",
       "  <tbody>\n",
       "    <tr>\n",
       "      <th>0</th>\n",
       "      <td>Toy Story 3</td>\n",
       "      <td>BV</td>\n",
       "      <td>415000000.0</td>\n",
       "      <td>652000000.0</td>\n",
       "      <td>2010</td>\n",
       "    </tr>\n",
       "    <tr>\n",
       "      <th>1</th>\n",
       "      <td>Alice in Wonderland (2010)</td>\n",
       "      <td>BV</td>\n",
       "      <td>334200000.0</td>\n",
       "      <td>691300000.0</td>\n",
       "      <td>2010</td>\n",
       "    </tr>\n",
       "    <tr>\n",
       "      <th>2</th>\n",
       "      <td>Harry Potter and the Deathly Hallows Part 1</td>\n",
       "      <td>WB</td>\n",
       "      <td>296000000.0</td>\n",
       "      <td>664300000.0</td>\n",
       "      <td>2010</td>\n",
       "    </tr>\n",
       "    <tr>\n",
       "      <th>3</th>\n",
       "      <td>Inception</td>\n",
       "      <td>WB</td>\n",
       "      <td>292600000.0</td>\n",
       "      <td>535700000.0</td>\n",
       "      <td>2010</td>\n",
       "    </tr>\n",
       "    <tr>\n",
       "      <th>4</th>\n",
       "      <td>Shrek Forever After</td>\n",
       "      <td>P/DW</td>\n",
       "      <td>238700000.0</td>\n",
       "      <td>513900000.0</td>\n",
       "      <td>2010</td>\n",
       "    </tr>\n",
       "    <tr>\n",
       "      <th>...</th>\n",
       "      <td>...</td>\n",
       "      <td>...</td>\n",
       "      <td>...</td>\n",
       "      <td>...</td>\n",
       "      <td>...</td>\n",
       "    </tr>\n",
       "    <tr>\n",
       "      <th>3382</th>\n",
       "      <td>The Quake</td>\n",
       "      <td>Magn.</td>\n",
       "      <td>6200.0</td>\n",
       "      <td>18900000.0</td>\n",
       "      <td>2018</td>\n",
       "    </tr>\n",
       "    <tr>\n",
       "      <th>3383</th>\n",
       "      <td>Edward II (2018 re-release)</td>\n",
       "      <td>FM</td>\n",
       "      <td>4800.0</td>\n",
       "      <td>18900000.0</td>\n",
       "      <td>2018</td>\n",
       "    </tr>\n",
       "    <tr>\n",
       "      <th>3384</th>\n",
       "      <td>El Pacto</td>\n",
       "      <td>Sony</td>\n",
       "      <td>2500.0</td>\n",
       "      <td>18900000.0</td>\n",
       "      <td>2018</td>\n",
       "    </tr>\n",
       "    <tr>\n",
       "      <th>3385</th>\n",
       "      <td>The Swan</td>\n",
       "      <td>Synergetic</td>\n",
       "      <td>2400.0</td>\n",
       "      <td>18900000.0</td>\n",
       "      <td>2018</td>\n",
       "    </tr>\n",
       "    <tr>\n",
       "      <th>3386</th>\n",
       "      <td>An Actor Prepares</td>\n",
       "      <td>Grav.</td>\n",
       "      <td>1700.0</td>\n",
       "      <td>18900000.0</td>\n",
       "      <td>2018</td>\n",
       "    </tr>\n",
       "  </tbody>\n",
       "</table>\n",
       "<p>3387 rows × 5 columns</p>\n",
       "</div>"
      ],
      "text/plain": [
       "                                    primary_title      studio  domestic_gross  \\\n",
       "0                                     Toy Story 3          BV     415000000.0   \n",
       "1                      Alice in Wonderland (2010)          BV     334200000.0   \n",
       "2     Harry Potter and the Deathly Hallows Part 1          WB     296000000.0   \n",
       "3                                       Inception          WB     292600000.0   \n",
       "4                             Shrek Forever After        P/DW     238700000.0   \n",
       "...                                           ...         ...             ...   \n",
       "3382                                    The Quake       Magn.          6200.0   \n",
       "3383                  Edward II (2018 re-release)          FM          4800.0   \n",
       "3384                                     El Pacto        Sony          2500.0   \n",
       "3385                                     The Swan  Synergetic          2400.0   \n",
       "3386                            An Actor Prepares       Grav.          1700.0   \n",
       "\n",
       "      foreign_gross  year  \n",
       "0       652000000.0  2010  \n",
       "1       691300000.0  2010  \n",
       "2       664300000.0  2010  \n",
       "3       535700000.0  2010  \n",
       "4       513900000.0  2010  \n",
       "...             ...   ...  \n",
       "3382     18900000.0  2018  \n",
       "3383     18900000.0  2018  \n",
       "3384     18900000.0  2018  \n",
       "3385     18900000.0  2018  \n",
       "3386     18900000.0  2018  \n",
       "\n",
       "[3387 rows x 5 columns]"
      ]
     },
     "execution_count": 90,
     "metadata": {},
     "output_type": "execute_result"
    }
   ],
   "source": [
    "df_4.rename(columns={'movie' : 'primary_title'}, inplace=True)\n",
    "df_3"
   ]
  },
  {
   "cell_type": "markdown",
   "metadata": {},
   "source": [
    "**Merging top_rating and df_4 to create dataframe genre_season**\n",
    "- To find which genres are performing well seasonally\n",
    "- We're merging df top rating with df_4 on right merge to preserve keys on df_4 because our target variables are season and net profit to measure each genre performance seasonally "
   ]
  },
  {
   "cell_type": "code",
   "execution_count": 91,
   "metadata": {},
   "outputs": [
    {
     "data": {
      "text/html": [
       "<div>\n",
       "<style scoped>\n",
       "    .dataframe tbody tr th:only-of-type {\n",
       "        vertical-align: middle;\n",
       "    }\n",
       "\n",
       "    .dataframe tbody tr th {\n",
       "        vertical-align: top;\n",
       "    }\n",
       "\n",
       "    .dataframe thead th {\n",
       "        text-align: right;\n",
       "    }\n",
       "</style>\n",
       "<table border=\"1\" class=\"dataframe\">\n",
       "  <thead>\n",
       "    <tr style=\"text-align: right;\">\n",
       "      <th></th>\n",
       "      <th>tconst</th>\n",
       "      <th>primary_title</th>\n",
       "      <th>original_title</th>\n",
       "      <th>start_year</th>\n",
       "      <th>runtime_minutes</th>\n",
       "      <th>genres</th>\n",
       "      <th>average rating</th>\n",
       "      <th>no. of votes</th>\n",
       "      <th>id</th>\n",
       "      <th>release_date</th>\n",
       "      <th>production_budget</th>\n",
       "      <th>domestic_gross</th>\n",
       "      <th>worldwide_gross</th>\n",
       "      <th>release_season</th>\n",
       "      <th>release_year</th>\n",
       "    </tr>\n",
       "  </thead>\n",
       "  <tbody>\n",
       "    <tr>\n",
       "      <th>0</th>\n",
       "      <td>NaN</td>\n",
       "      <td>Avatar</td>\n",
       "      <td>NaN</td>\n",
       "      <td>NaN</td>\n",
       "      <td>NaN</td>\n",
       "      <td>NaN</td>\n",
       "      <td>NaN</td>\n",
       "      <td>NaN</td>\n",
       "      <td>1</td>\n",
       "      <td>Dec 18, 2009</td>\n",
       "      <td>425000000</td>\n",
       "      <td>760507625</td>\n",
       "      <td>2776345279</td>\n",
       "      <td>Winter</td>\n",
       "      <td>2009</td>\n",
       "    </tr>\n",
       "    <tr>\n",
       "      <th>1</th>\n",
       "      <td>NaN</td>\n",
       "      <td>Pirates of the Caribbean: On Stranger Tides</td>\n",
       "      <td>NaN</td>\n",
       "      <td>NaN</td>\n",
       "      <td>NaN</td>\n",
       "      <td>NaN</td>\n",
       "      <td>NaN</td>\n",
       "      <td>NaN</td>\n",
       "      <td>2</td>\n",
       "      <td>May 20, 2011</td>\n",
       "      <td>410600000</td>\n",
       "      <td>241063875</td>\n",
       "      <td>1045663875</td>\n",
       "      <td>Spring</td>\n",
       "      <td>2011</td>\n",
       "    </tr>\n",
       "    <tr>\n",
       "      <th>2</th>\n",
       "      <td>NaN</td>\n",
       "      <td>Dark Phoenix</td>\n",
       "      <td>NaN</td>\n",
       "      <td>NaN</td>\n",
       "      <td>NaN</td>\n",
       "      <td>NaN</td>\n",
       "      <td>NaN</td>\n",
       "      <td>NaN</td>\n",
       "      <td>3</td>\n",
       "      <td>Jun 7, 2019</td>\n",
       "      <td>350000000</td>\n",
       "      <td>42762350</td>\n",
       "      <td>149762350</td>\n",
       "      <td>Summer</td>\n",
       "      <td>2019</td>\n",
       "    </tr>\n",
       "    <tr>\n",
       "      <th>3</th>\n",
       "      <td>NaN</td>\n",
       "      <td>Avengers: Age of Ultron</td>\n",
       "      <td>NaN</td>\n",
       "      <td>NaN</td>\n",
       "      <td>NaN</td>\n",
       "      <td>NaN</td>\n",
       "      <td>NaN</td>\n",
       "      <td>NaN</td>\n",
       "      <td>4</td>\n",
       "      <td>May 1, 2015</td>\n",
       "      <td>330600000</td>\n",
       "      <td>459005868</td>\n",
       "      <td>1403013963</td>\n",
       "      <td>Spring</td>\n",
       "      <td>2015</td>\n",
       "    </tr>\n",
       "    <tr>\n",
       "      <th>4</th>\n",
       "      <td>NaN</td>\n",
       "      <td>Star Wars Ep. VIII: The Last Jedi</td>\n",
       "      <td>NaN</td>\n",
       "      <td>NaN</td>\n",
       "      <td>NaN</td>\n",
       "      <td>NaN</td>\n",
       "      <td>NaN</td>\n",
       "      <td>NaN</td>\n",
       "      <td>5</td>\n",
       "      <td>Dec 15, 2017</td>\n",
       "      <td>317000000</td>\n",
       "      <td>620181382</td>\n",
       "      <td>1316721747</td>\n",
       "      <td>Winter</td>\n",
       "      <td>2017</td>\n",
       "    </tr>\n",
       "  </tbody>\n",
       "</table>\n",
       "</div>"
      ],
      "text/plain": [
       "  tconst                                primary_title original_title  \\\n",
       "0    NaN                                       Avatar            NaN   \n",
       "1    NaN  Pirates of the Caribbean: On Stranger Tides            NaN   \n",
       "2    NaN                                 Dark Phoenix            NaN   \n",
       "3    NaN                      Avengers: Age of Ultron            NaN   \n",
       "4    NaN            Star Wars Ep. VIII: The Last Jedi            NaN   \n",
       "\n",
       "   start_year  runtime_minutes genres  average rating  no. of votes  id  \\\n",
       "0         NaN              NaN    NaN             NaN           NaN   1   \n",
       "1         NaN              NaN    NaN             NaN           NaN   2   \n",
       "2         NaN              NaN    NaN             NaN           NaN   3   \n",
       "3         NaN              NaN    NaN             NaN           NaN   4   \n",
       "4         NaN              NaN    NaN             NaN           NaN   5   \n",
       "\n",
       "   release_date  production_budget  domestic_gross  worldwide_gross  \\\n",
       "0  Dec 18, 2009          425000000       760507625       2776345279   \n",
       "1  May 20, 2011          410600000       241063875       1045663875   \n",
       "2   Jun 7, 2019          350000000        42762350        149762350   \n",
       "3   May 1, 2015          330600000       459005868       1403013963   \n",
       "4  Dec 15, 2017          317000000       620181382       1316721747   \n",
       "\n",
       "  release_season  release_year  \n",
       "0         Winter          2009  \n",
       "1         Spring          2011  \n",
       "2         Summer          2019  \n",
       "3         Spring          2015  \n",
       "4         Winter          2017  "
      ]
     },
     "execution_count": 91,
     "metadata": {},
     "output_type": "execute_result"
    }
   ],
   "source": [
    "genre_season = pd.merge(top_rating, df_4, how='right', on = 'primary_title')\n",
    "genre_season.head()"
   ]
  },
  {
   "cell_type": "markdown",
   "metadata": {},
   "source": [
    "## 7. Data Modeling\n",
    "Describe and justify the process for analyzing or modeling the data.\n",
    "\n"
   ]
  },
  {
   "cell_type": "markdown",
   "metadata": {},
   "source": [
    "## 7.1 IMDb\n",
    "**a. Most common genre**\n",
    "\n",
    "- From df_1, we can use function .value_counts to find the most common genre "
   ]
  },
  {
   "cell_type": "code",
   "execution_count": 92,
   "metadata": {},
   "outputs": [
    {
     "data": {
      "text/plain": [
       "Documentary                 34656\n",
       "Drama                       23140\n",
       "Comedy                       9916\n",
       "Horror                       4704\n",
       "Comedy,Drama                 3731\n",
       "                            ...  \n",
       "Action,Mystery,Western          1\n",
       "Family,Music,Musical            1\n",
       "Biography,Family,News           1\n",
       "Animation,Horror,Sci-Fi         1\n",
       "Adventure,Horror,Western        1\n",
       "Name: genres, Length: 1085, dtype: int64"
      ]
     },
     "execution_count": 92,
     "metadata": {},
     "output_type": "execute_result"
    }
   ],
   "source": [
    "df_1['genres'].value_counts()"
   ]
  },
  {
   "cell_type": "markdown",
   "metadata": {},
   "source": [
    "- Documentary is the most common genre."
   ]
  },
  {
   "cell_type": "markdown",
   "metadata": {},
   "source": [
    "- To find the top rating movies we can use .loc() to filter only movies with rating >=8"
   ]
  },
  {
   "cell_type": "code",
   "execution_count": 93,
   "metadata": {},
   "outputs": [
    {
     "data": {
      "text/html": [
       "<div>\n",
       "<style scoped>\n",
       "    .dataframe tbody tr th:only-of-type {\n",
       "        vertical-align: middle;\n",
       "    }\n",
       "\n",
       "    .dataframe tbody tr th {\n",
       "        vertical-align: top;\n",
       "    }\n",
       "\n",
       "    .dataframe thead th {\n",
       "        text-align: right;\n",
       "    }\n",
       "</style>\n",
       "<table border=\"1\" class=\"dataframe\">\n",
       "  <thead>\n",
       "    <tr style=\"text-align: right;\">\n",
       "      <th></th>\n",
       "      <th>tconst</th>\n",
       "      <th>primary_title</th>\n",
       "      <th>original_title</th>\n",
       "      <th>start_year</th>\n",
       "      <th>runtime_minutes</th>\n",
       "      <th>genres</th>\n",
       "      <th>average rating</th>\n",
       "      <th>no. of votes</th>\n",
       "    </tr>\n",
       "  </thead>\n",
       "  <tbody>\n",
       "    <tr>\n",
       "      <th>7</th>\n",
       "      <td>tt0137204</td>\n",
       "      <td>Joe Finds Grace</td>\n",
       "      <td>Joe Finds Grace</td>\n",
       "      <td>2017</td>\n",
       "      <td>83.0</td>\n",
       "      <td>Adventure,Animation,Comedy</td>\n",
       "      <td>8.1</td>\n",
       "      <td>263.0</td>\n",
       "    </tr>\n",
       "    <tr>\n",
       "      <th>18</th>\n",
       "      <td>tt0230212</td>\n",
       "      <td>The Final Journey</td>\n",
       "      <td>The Final Journey</td>\n",
       "      <td>2010</td>\n",
       "      <td>120.0</td>\n",
       "      <td>Drama</td>\n",
       "      <td>8.8</td>\n",
       "      <td>8.0</td>\n",
       "    </tr>\n",
       "    <tr>\n",
       "      <th>78</th>\n",
       "      <td>tt0406282</td>\n",
       "      <td>Bubbles</td>\n",
       "      <td>Bubbles</td>\n",
       "      <td>2011</td>\n",
       "      <td>80.0</td>\n",
       "      <td>Drama</td>\n",
       "      <td>8.6</td>\n",
       "      <td>18.0</td>\n",
       "    </tr>\n",
       "    <tr>\n",
       "      <th>96</th>\n",
       "      <td>tt0430524</td>\n",
       "      <td>The Rescuer</td>\n",
       "      <td>The Rescuer</td>\n",
       "      <td>2011</td>\n",
       "      <td>84.0</td>\n",
       "      <td>Documentary</td>\n",
       "      <td>8.7</td>\n",
       "      <td>14.0</td>\n",
       "    </tr>\n",
       "    <tr>\n",
       "      <th>104</th>\n",
       "      <td>tt0435761</td>\n",
       "      <td>Toy Story 3</td>\n",
       "      <td>Toy Story 3</td>\n",
       "      <td>2010</td>\n",
       "      <td>103.0</td>\n",
       "      <td>Adventure,Animation,Comedy</td>\n",
       "      <td>8.3</td>\n",
       "      <td>682218.0</td>\n",
       "    </tr>\n",
       "  </tbody>\n",
       "</table>\n",
       "</div>"
      ],
      "text/plain": [
       "        tconst      primary_title     original_title  start_year  \\\n",
       "7    tt0137204    Joe Finds Grace    Joe Finds Grace        2017   \n",
       "18   tt0230212  The Final Journey  The Final Journey        2010   \n",
       "78   tt0406282            Bubbles            Bubbles        2011   \n",
       "96   tt0430524        The Rescuer        The Rescuer        2011   \n",
       "104  tt0435761        Toy Story 3        Toy Story 3        2010   \n",
       "\n",
       "     runtime_minutes                      genres  average rating  no. of votes  \n",
       "7               83.0  Adventure,Animation,Comedy             8.1         263.0  \n",
       "18             120.0                       Drama             8.8           8.0  \n",
       "78              80.0                       Drama             8.6          18.0  \n",
       "96              84.0                 Documentary             8.7          14.0  \n",
       "104            103.0  Adventure,Animation,Comedy             8.3      682218.0  "
      ]
     },
     "execution_count": 93,
     "metadata": {},
     "output_type": "execute_result"
    }
   ],
   "source": [
    "top_rating = df_1n2.loc[df_1n2['average rating'] >= 8]\n",
    "top_rating.head()"
   ]
  },
  {
   "cell_type": "markdown",
   "metadata": {},
   "source": [
    "**b. Genres with average rating >= 8 & highest number of votes**"
   ]
  },
  {
   "cell_type": "code",
   "execution_count": 94,
   "metadata": {},
   "outputs": [
    {
     "data": {
      "text/html": [
       "<div>\n",
       "<style scoped>\n",
       "    .dataframe tbody tr th:only-of-type {\n",
       "        vertical-align: middle;\n",
       "    }\n",
       "\n",
       "    .dataframe tbody tr th {\n",
       "        vertical-align: top;\n",
       "    }\n",
       "\n",
       "    .dataframe thead th {\n",
       "        text-align: right;\n",
       "    }\n",
       "</style>\n",
       "<table border=\"1\" class=\"dataframe\">\n",
       "  <thead>\n",
       "    <tr style=\"text-align: right;\">\n",
       "      <th></th>\n",
       "      <th>start_year</th>\n",
       "      <th>runtime_minutes</th>\n",
       "      <th>average rating</th>\n",
       "      <th>no. of votes</th>\n",
       "    </tr>\n",
       "  </thead>\n",
       "  <tbody>\n",
       "    <tr>\n",
       "      <th>count</th>\n",
       "      <td>9448.000000</td>\n",
       "      <td>9448.000000</td>\n",
       "      <td>9448.000000</td>\n",
       "      <td>9.448000e+03</td>\n",
       "    </tr>\n",
       "    <tr>\n",
       "      <th>mean</th>\n",
       "      <td>2014.673688</td>\n",
       "      <td>88.403577</td>\n",
       "      <td>8.485976</td>\n",
       "      <td>3.857123e+03</td>\n",
       "    </tr>\n",
       "    <tr>\n",
       "      <th>std</th>\n",
       "      <td>2.667943</td>\n",
       "      <td>36.011607</td>\n",
       "      <td>0.394040</td>\n",
       "      <td>5.112994e+04</td>\n",
       "    </tr>\n",
       "    <tr>\n",
       "      <th>min</th>\n",
       "      <td>2010.000000</td>\n",
       "      <td>4.000000</td>\n",
       "      <td>8.000000</td>\n",
       "      <td>5.000000e+00</td>\n",
       "    </tr>\n",
       "    <tr>\n",
       "      <th>25%</th>\n",
       "      <td>2012.000000</td>\n",
       "      <td>74.000000</td>\n",
       "      <td>8.200000</td>\n",
       "      <td>8.000000e+00</td>\n",
       "    </tr>\n",
       "    <tr>\n",
       "      <th>50%</th>\n",
       "      <td>2015.000000</td>\n",
       "      <td>87.000000</td>\n",
       "      <td>8.400000</td>\n",
       "      <td>1.400000e+01</td>\n",
       "    </tr>\n",
       "    <tr>\n",
       "      <th>75%</th>\n",
       "      <td>2017.000000</td>\n",
       "      <td>96.000000</td>\n",
       "      <td>8.800000</td>\n",
       "      <td>3.600000e+01</td>\n",
       "    </tr>\n",
       "    <tr>\n",
       "      <th>max</th>\n",
       "      <td>2019.000000</td>\n",
       "      <td>1440.000000</td>\n",
       "      <td>10.000000</td>\n",
       "      <td>1.841066e+06</td>\n",
       "    </tr>\n",
       "  </tbody>\n",
       "</table>\n",
       "</div>"
      ],
      "text/plain": [
       "        start_year  runtime_minutes  average rating  no. of votes\n",
       "count  9448.000000      9448.000000     9448.000000  9.448000e+03\n",
       "mean   2014.673688        88.403577        8.485976  3.857123e+03\n",
       "std       2.667943        36.011607        0.394040  5.112994e+04\n",
       "min    2010.000000         4.000000        8.000000  5.000000e+00\n",
       "25%    2012.000000        74.000000        8.200000  8.000000e+00\n",
       "50%    2015.000000        87.000000        8.400000  1.400000e+01\n",
       "75%    2017.000000        96.000000        8.800000  3.600000e+01\n",
       "max    2019.000000      1440.000000       10.000000  1.841066e+06"
      ]
     },
     "execution_count": 94,
     "metadata": {},
     "output_type": "execute_result"
    }
   ],
   "source": [
    "top_rating.describe()"
   ]
  },
  {
   "cell_type": "code",
   "execution_count": 95,
   "metadata": {},
   "outputs": [
    {
     "data": {
      "text/plain": [
       "genres\n",
       "Action,Adventure,Sci-Fi    1841066.0\n",
       "Action,Thriller            1387769.0\n",
       "Adventure,Drama,Sci-Fi     1299334.0\n",
       "Drama,Western              1211405.0\n",
       "Biography,Crime,Drama      1035358.0\n",
       "                             ...    \n",
       "Animation,Comedy,Crime           5.0\n",
       "Family,Mystery                   5.0\n",
       "Biography,Comedy,Music           5.0\n",
       "Drama,News                       5.0\n",
       "Drama,History,Sport              5.0\n",
       "Name: no. of votes, Length: 459, dtype: float64"
      ]
     },
     "execution_count": 95,
     "metadata": {},
     "output_type": "execute_result"
    }
   ],
   "source": [
    "top_rating.groupby('genres')['no. of votes'].max().sort_values(ascending=False)"
   ]
  },
  {
   "cell_type": "markdown",
   "metadata": {},
   "source": [
    "Creating a horizontal bar map to illustrate the top 5 with average rating >= 8 and highest votes "
   ]
  },
  {
   "cell_type": "code",
   "execution_count": 97,
   "metadata": {},
   "outputs": [
    {
     "data": {
      "image/png": "[encoded data removed]",
      "text/plain": [
       "<Figure size 432x288 with 1 Axes>"
      ]
     },
     "metadata": {},
     "output_type": "display_data"
    }
   ],
   "source": [
    "#graph showing genre with the highest number of votes with average rating>=8\n",
    "fig_1, ax = plt.subplots()\n",
    "x = ['Action, Adventure, Sci-Fi','Action, Thriller','Action, Drama, Sci-Fi','Drama, Western','Biography, Crime, Drama']\n",
    "y = [1841066.0,1387769.0,1299334.0,1211405.0,1035358.0]\n",
    "ax.barh(x,y)\n",
    "ax.set_title('Top 5 genres w. highest no. of votes & average rating>=8')\n",
    "ax.set_xlabel('Number of votes in millions')\n",
    "ax.set_ylabel('Genres')\n",
    "plt.tight_layout()\n",
    "plt.savefig('fig_1.png');"
   ]
  },
  {
   "cell_type": "markdown",
   "metadata": {},
   "source": [
    "**c. Runtime**\n",
    "- Find average runtime of movies with rating >= 8 "
   ]
  },
  {
   "cell_type": "code",
   "execution_count": 102,
   "metadata": {},
   "outputs": [
    {
     "data": {
      "text/html": [
       "<div>\n",
       "<style scoped>\n",
       "    .dataframe tbody tr th:only-of-type {\n",
       "        vertical-align: middle;\n",
       "    }\n",
       "\n",
       "    .dataframe tbody tr th {\n",
       "        vertical-align: top;\n",
       "    }\n",
       "\n",
       "    .dataframe thead th {\n",
       "        text-align: right;\n",
       "    }\n",
       "</style>\n",
       "<table border=\"1\" class=\"dataframe\">\n",
       "  <thead>\n",
       "    <tr style=\"text-align: right;\">\n",
       "      <th></th>\n",
       "      <th>index</th>\n",
       "      <th>genre</th>\n",
       "      <th>runtime</th>\n",
       "    </tr>\n",
       "  </thead>\n",
       "  <tbody>\n",
       "    <tr>\n",
       "      <th>0</th>\n",
       "      <td>0</td>\n",
       "      <td>Adventure,Animation,Comedy</td>\n",
       "      <td>87.0</td>\n",
       "    </tr>\n",
       "    <tr>\n",
       "      <th>1</th>\n",
       "      <td>1</td>\n",
       "      <td>Drama</td>\n",
       "      <td>87.0</td>\n",
       "    </tr>\n",
       "    <tr>\n",
       "      <th>2</th>\n",
       "      <td>2</td>\n",
       "      <td>Documentary</td>\n",
       "      <td>87.0</td>\n",
       "    </tr>\n",
       "    <tr>\n",
       "      <th>3</th>\n",
       "      <td>3</td>\n",
       "      <td>Comedy,Drama,Romance</td>\n",
       "      <td>87.0</td>\n",
       "    </tr>\n",
       "    <tr>\n",
       "      <th>4</th>\n",
       "      <td>4</td>\n",
       "      <td>Action,Comedy,Crime</td>\n",
       "      <td>87.0</td>\n",
       "    </tr>\n",
       "    <tr>\n",
       "      <th>...</th>\n",
       "      <td>...</td>\n",
       "      <td>...</td>\n",
       "      <td>...</td>\n",
       "    </tr>\n",
       "    <tr>\n",
       "      <th>454</th>\n",
       "      <td>454</td>\n",
       "      <td>Comedy,History</td>\n",
       "      <td>87.0</td>\n",
       "    </tr>\n",
       "    <tr>\n",
       "      <th>455</th>\n",
       "      <td>455</td>\n",
       "      <td>Adventure,Mystery</td>\n",
       "      <td>87.0</td>\n",
       "    </tr>\n",
       "    <tr>\n",
       "      <th>456</th>\n",
       "      <td>456</td>\n",
       "      <td>Drama,Short</td>\n",
       "      <td>87.0</td>\n",
       "    </tr>\n",
       "    <tr>\n",
       "      <th>457</th>\n",
       "      <td>457</td>\n",
       "      <td>Action,History,War</td>\n",
       "      <td>87.0</td>\n",
       "    </tr>\n",
       "    <tr>\n",
       "      <th>458</th>\n",
       "      <td>458</td>\n",
       "      <td>Adventure,Biography,History</td>\n",
       "      <td>87.0</td>\n",
       "    </tr>\n",
       "  </tbody>\n",
       "</table>\n",
       "<p>459 rows × 3 columns</p>\n",
       "</div>"
      ],
      "text/plain": [
       "     index                        genre  runtime\n",
       "0        0   Adventure,Animation,Comedy     87.0\n",
       "1        1                        Drama     87.0\n",
       "2        2                  Documentary     87.0\n",
       "3        3         Comedy,Drama,Romance     87.0\n",
       "4        4          Action,Comedy,Crime     87.0\n",
       "..     ...                          ...      ...\n",
       "454    454               Comedy,History     87.0\n",
       "455    455            Adventure,Mystery     87.0\n",
       "456    456                  Drama,Short     87.0\n",
       "457    457           Action,History,War     87.0\n",
       "458    458  Adventure,Biography,History     87.0\n",
       "\n",
       "[459 rows x 3 columns]"
      ]
     },
     "execution_count": 102,
     "metadata": {},
     "output_type": "execute_result"
    }
   ],
   "source": [
    "runtime = pd.DataFrame( {'genre': top_rating.genres.unique(),'runtime': top_rating.runtime_minutes.median()})\n",
    "runtime_1 = runtime.reset_index()\n",
    "runtime_1"
   ]
  },
  {
   "cell_type": "code",
   "execution_count": 103,
   "metadata": {},
   "outputs": [
    {
     "data": {
      "text/html": [
       "<div>\n",
       "<style scoped>\n",
       "    .dataframe tbody tr th:only-of-type {\n",
       "        vertical-align: middle;\n",
       "    }\n",
       "\n",
       "    .dataframe tbody tr th {\n",
       "        vertical-align: top;\n",
       "    }\n",
       "\n",
       "    .dataframe thead th {\n",
       "        text-align: right;\n",
       "    }\n",
       "</style>\n",
       "<table border=\"1\" class=\"dataframe\">\n",
       "  <thead>\n",
       "    <tr style=\"text-align: right;\">\n",
       "      <th></th>\n",
       "      <th>tconst</th>\n",
       "      <th>primary_title</th>\n",
       "      <th>original_title</th>\n",
       "      <th>start_year</th>\n",
       "      <th>runtime_minutes</th>\n",
       "      <th>genres</th>\n",
       "      <th>average rating</th>\n",
       "      <th>no. of votes</th>\n",
       "    </tr>\n",
       "  </thead>\n",
       "  <tbody>\n",
       "    <tr>\n",
       "      <th>7</th>\n",
       "      <td>tt0137204</td>\n",
       "      <td>Joe Finds Grace</td>\n",
       "      <td>Joe Finds Grace</td>\n",
       "      <td>2017</td>\n",
       "      <td>83.0</td>\n",
       "      <td>Adventure,Animation,Comedy</td>\n",
       "      <td>8.1</td>\n",
       "      <td>263.0</td>\n",
       "    </tr>\n",
       "    <tr>\n",
       "      <th>18</th>\n",
       "      <td>tt0230212</td>\n",
       "      <td>The Final Journey</td>\n",
       "      <td>The Final Journey</td>\n",
       "      <td>2010</td>\n",
       "      <td>120.0</td>\n",
       "      <td>Drama</td>\n",
       "      <td>8.8</td>\n",
       "      <td>8.0</td>\n",
       "    </tr>\n",
       "    <tr>\n",
       "      <th>78</th>\n",
       "      <td>tt0406282</td>\n",
       "      <td>Bubbles</td>\n",
       "      <td>Bubbles</td>\n",
       "      <td>2011</td>\n",
       "      <td>80.0</td>\n",
       "      <td>Drama</td>\n",
       "      <td>8.6</td>\n",
       "      <td>18.0</td>\n",
       "    </tr>\n",
       "    <tr>\n",
       "      <th>96</th>\n",
       "      <td>tt0430524</td>\n",
       "      <td>The Rescuer</td>\n",
       "      <td>The Rescuer</td>\n",
       "      <td>2011</td>\n",
       "      <td>84.0</td>\n",
       "      <td>Documentary</td>\n",
       "      <td>8.7</td>\n",
       "      <td>14.0</td>\n",
       "    </tr>\n",
       "    <tr>\n",
       "      <th>104</th>\n",
       "      <td>tt0435761</td>\n",
       "      <td>Toy Story 3</td>\n",
       "      <td>Toy Story 3</td>\n",
       "      <td>2010</td>\n",
       "      <td>103.0</td>\n",
       "      <td>Adventure,Animation,Comedy</td>\n",
       "      <td>8.3</td>\n",
       "      <td>682218.0</td>\n",
       "    </tr>\n",
       "    <tr>\n",
       "      <th>...</th>\n",
       "      <td>...</td>\n",
       "      <td>...</td>\n",
       "      <td>...</td>\n",
       "      <td>...</td>\n",
       "      <td>...</td>\n",
       "      <td>...</td>\n",
       "      <td>...</td>\n",
       "      <td>...</td>\n",
       "    </tr>\n",
       "    <tr>\n",
       "      <th>146072</th>\n",
       "      <td>tt9905796</td>\n",
       "      <td>July Kaatril</td>\n",
       "      <td>July Kaatril</td>\n",
       "      <td>2019</td>\n",
       "      <td>87.0</td>\n",
       "      <td>Romance</td>\n",
       "      <td>9.0</td>\n",
       "      <td>5.0</td>\n",
       "    </tr>\n",
       "    <tr>\n",
       "      <th>146078</th>\n",
       "      <td>tt9906218</td>\n",
       "      <td>Unstoppable</td>\n",
       "      <td>Unstoppable</td>\n",
       "      <td>2019</td>\n",
       "      <td>84.0</td>\n",
       "      <td>Documentary</td>\n",
       "      <td>8.1</td>\n",
       "      <td>8.0</td>\n",
       "    </tr>\n",
       "    <tr>\n",
       "      <th>146113</th>\n",
       "      <td>tt9911774</td>\n",
       "      <td>Padmavyuhathile Abhimanyu</td>\n",
       "      <td>Padmavyuhathile Abhimanyu</td>\n",
       "      <td>2019</td>\n",
       "      <td>130.0</td>\n",
       "      <td>Drama</td>\n",
       "      <td>8.4</td>\n",
       "      <td>365.0</td>\n",
       "    </tr>\n",
       "    <tr>\n",
       "      <th>146122</th>\n",
       "      <td>tt9914286</td>\n",
       "      <td>Sokagin Çocuklari</td>\n",
       "      <td>Sokagin Çocuklari</td>\n",
       "      <td>2019</td>\n",
       "      <td>98.0</td>\n",
       "      <td>Drama,Family</td>\n",
       "      <td>8.7</td>\n",
       "      <td>136.0</td>\n",
       "    </tr>\n",
       "    <tr>\n",
       "      <th>146125</th>\n",
       "      <td>tt9914642</td>\n",
       "      <td>Albatross</td>\n",
       "      <td>Albatross</td>\n",
       "      <td>2017</td>\n",
       "      <td>87.0</td>\n",
       "      <td>Documentary</td>\n",
       "      <td>8.5</td>\n",
       "      <td>8.0</td>\n",
       "    </tr>\n",
       "  </tbody>\n",
       "</table>\n",
       "<p>9386 rows × 8 columns</p>\n",
       "</div>"
      ],
      "text/plain": [
       "           tconst              primary_title             original_title  \\\n",
       "7       tt0137204            Joe Finds Grace            Joe Finds Grace   \n",
       "18      tt0230212          The Final Journey          The Final Journey   \n",
       "78      tt0406282                    Bubbles                    Bubbles   \n",
       "96      tt0430524                The Rescuer                The Rescuer   \n",
       "104     tt0435761                Toy Story 3                Toy Story 3   \n",
       "...           ...                        ...                        ...   \n",
       "146072  tt9905796               July Kaatril               July Kaatril   \n",
       "146078  tt9906218                Unstoppable                Unstoppable   \n",
       "146113  tt9911774  Padmavyuhathile Abhimanyu  Padmavyuhathile Abhimanyu   \n",
       "146122  tt9914286          Sokagin Çocuklari          Sokagin Çocuklari   \n",
       "146125  tt9914642                  Albatross                  Albatross   \n",
       "\n",
       "        start_year  runtime_minutes                      genres  \\\n",
       "7             2017             83.0  Adventure,Animation,Comedy   \n",
       "18            2010            120.0                       Drama   \n",
       "78            2011             80.0                       Drama   \n",
       "96            2011             84.0                 Documentary   \n",
       "104           2010            103.0  Adventure,Animation,Comedy   \n",
       "...            ...              ...                         ...   \n",
       "146072        2019             87.0                     Romance   \n",
       "146078        2019             84.0                 Documentary   \n",
       "146113        2019            130.0                       Drama   \n",
       "146122        2019             98.0                Drama,Family   \n",
       "146125        2017             87.0                 Documentary   \n",
       "\n",
       "        average rating  no. of votes  \n",
       "7                  8.1         263.0  \n",
       "18                 8.8           8.0  \n",
       "78                 8.6          18.0  \n",
       "96                 8.7          14.0  \n",
       "104                8.3      682218.0  \n",
       "...                ...           ...  \n",
       "146072             9.0           5.0  \n",
       "146078             8.1           8.0  \n",
       "146113             8.4         365.0  \n",
       "146122             8.7         136.0  \n",
       "146125             8.5           8.0  \n",
       "\n",
       "[9386 rows x 8 columns]"
      ]
     },
     "execution_count": 103,
     "metadata": {},
     "output_type": "execute_result"
    }
   ],
   "source": [
    "top_rating_runtime = top_rating.loc[top_rating['runtime_minutes'] < 200]\n",
    "top_rating_runtime"
   ]
  },
  {
   "cell_type": "code",
   "execution_count": 105,
   "metadata": {},
   "outputs": [
    {
     "data": {
      "image/png": "[encoded data removed]",
      "text/plain": [
       "<Figure size 432x288 with 1 Axes>"
      ]
     },
     "metadata": {},
     "output_type": "display_data"
    }
   ],
   "source": [
    "hist = sns.histplot(top_rating_runtime['runtime_minutes'], bins=20)\n",
    "\n",
    "hist.set(xlabel='Movie Length (min)', ylabel='Movie Counts');\n",
    "hist.set_title('Length of Movies Rated Higher than 8.0', fontsize=15)\n",
    "plt.tight_layout()\n",
    "plt.savefig('hist.png');"
   ]
  },
  {
   "cell_type": "markdown",
   "metadata": {},
   "source": [
    "**Typical runtime of movies with average rating >=8 is around 87 minutes (median runtime = 87). Also histogram shows most movies in this group is between 80-100 minutes.**"
   ]
  },
  {
   "cell_type": "markdown",
   "metadata": {},
   "source": [
    "## 7.2 Box office Mojo\n",
    "bom.movie_gross has data on information on gross box office, merging df_1n2 and df_3 to determine which movie genre has high average rating and gross. We're doing a right merge on primary titles because our target variable is gross, we want to preserve all data values in this data frame. We only want to find out which genre has the highest gross titles. "
   ]
  },
  {
   "cell_type": "code",
   "execution_count": 106,
   "metadata": {},
   "outputs": [
    {
     "data": {
      "text/html": [
       "<div>\n",
       "<style scoped>\n",
       "    .dataframe tbody tr th:only-of-type {\n",
       "        vertical-align: middle;\n",
       "    }\n",
       "\n",
       "    .dataframe tbody tr th {\n",
       "        vertical-align: top;\n",
       "    }\n",
       "\n",
       "    .dataframe thead th {\n",
       "        text-align: right;\n",
       "    }\n",
       "</style>\n",
       "<table border=\"1\" class=\"dataframe\">\n",
       "  <thead>\n",
       "    <tr style=\"text-align: right;\">\n",
       "      <th></th>\n",
       "      <th>start_year</th>\n",
       "      <th>runtime_minutes</th>\n",
       "      <th>average rating</th>\n",
       "      <th>no. of votes</th>\n",
       "      <th>domestic_gross</th>\n",
       "      <th>foreign_gross</th>\n",
       "      <th>year</th>\n",
       "    </tr>\n",
       "  </thead>\n",
       "  <tbody>\n",
       "    <tr>\n",
       "      <th>count</th>\n",
       "      <td>3027.000000</td>\n",
       "      <td>3027.000000</td>\n",
       "      <td>3027.000000</td>\n",
       "      <td>3.027000e+03</td>\n",
       "      <td>3.815000e+03</td>\n",
       "      <td>3.815000e+03</td>\n",
       "      <td>3815.000000</td>\n",
       "    </tr>\n",
       "    <tr>\n",
       "      <th>mean</th>\n",
       "      <td>2013.783284</td>\n",
       "      <td>106.903204</td>\n",
       "      <td>6.457582</td>\n",
       "      <td>6.170030e+04</td>\n",
       "      <td>2.849132e+07</td>\n",
       "      <td>5.194397e+07</td>\n",
       "      <td>2013.987418</td>\n",
       "    </tr>\n",
       "    <tr>\n",
       "      <th>std</th>\n",
       "      <td>2.466955</td>\n",
       "      <td>20.073663</td>\n",
       "      <td>1.012277</td>\n",
       "      <td>1.255132e+05</td>\n",
       "      <td>6.595502e+07</td>\n",
       "      <td>1.085718e+08</td>\n",
       "      <td>2.488221</td>\n",
       "    </tr>\n",
       "    <tr>\n",
       "      <th>min</th>\n",
       "      <td>2010.000000</td>\n",
       "      <td>3.000000</td>\n",
       "      <td>1.600000</td>\n",
       "      <td>5.000000e+00</td>\n",
       "      <td>1.000000e+02</td>\n",
       "      <td>6.000000e+02</td>\n",
       "      <td>2010.000000</td>\n",
       "    </tr>\n",
       "    <tr>\n",
       "      <th>25%</th>\n",
       "      <td>2012.000000</td>\n",
       "      <td>93.000000</td>\n",
       "      <td>5.900000</td>\n",
       "      <td>2.117000e+03</td>\n",
       "      <td>1.235000e+05</td>\n",
       "      <td>1.130000e+07</td>\n",
       "      <td>2012.000000</td>\n",
       "    </tr>\n",
       "    <tr>\n",
       "      <th>50%</th>\n",
       "      <td>2014.000000</td>\n",
       "      <td>104.000000</td>\n",
       "      <td>6.600000</td>\n",
       "      <td>1.310900e+04</td>\n",
       "      <td>1.400000e+06</td>\n",
       "      <td>1.890000e+07</td>\n",
       "      <td>2014.000000</td>\n",
       "    </tr>\n",
       "    <tr>\n",
       "      <th>75%</th>\n",
       "      <td>2016.000000</td>\n",
       "      <td>118.000000</td>\n",
       "      <td>7.100000</td>\n",
       "      <td>6.276550e+04</td>\n",
       "      <td>2.860000e+07</td>\n",
       "      <td>2.965000e+07</td>\n",
       "      <td>2016.000000</td>\n",
       "    </tr>\n",
       "    <tr>\n",
       "      <th>max</th>\n",
       "      <td>2019.000000</td>\n",
       "      <td>272.000000</td>\n",
       "      <td>9.200000</td>\n",
       "      <td>1.841066e+06</td>\n",
       "      <td>9.367000e+08</td>\n",
       "      <td>9.605000e+08</td>\n",
       "      <td>2018.000000</td>\n",
       "    </tr>\n",
       "  </tbody>\n",
       "</table>\n",
       "</div>"
      ],
      "text/plain": [
       "        start_year  runtime_minutes  average rating  no. of votes  \\\n",
       "count  3027.000000      3027.000000     3027.000000  3.027000e+03   \n",
       "mean   2013.783284       106.903204        6.457582  6.170030e+04   \n",
       "std       2.466955        20.073663        1.012277  1.255132e+05   \n",
       "min    2010.000000         3.000000        1.600000  5.000000e+00   \n",
       "25%    2012.000000        93.000000        5.900000  2.117000e+03   \n",
       "50%    2014.000000       104.000000        6.600000  1.310900e+04   \n",
       "75%    2016.000000       118.000000        7.100000  6.276550e+04   \n",
       "max    2019.000000       272.000000        9.200000  1.841066e+06   \n",
       "\n",
       "       domestic_gross  foreign_gross         year  \n",
       "count    3.815000e+03   3.815000e+03  3815.000000  \n",
       "mean     2.849132e+07   5.194397e+07  2013.987418  \n",
       "std      6.595502e+07   1.085718e+08     2.488221  \n",
       "min      1.000000e+02   6.000000e+02  2010.000000  \n",
       "25%      1.235000e+05   1.130000e+07  2012.000000  \n",
       "50%      1.400000e+06   1.890000e+07  2014.000000  \n",
       "75%      2.860000e+07   2.965000e+07  2016.000000  \n",
       "max      9.367000e+08   9.605000e+08  2018.000000  "
      ]
     },
     "execution_count": 106,
     "metadata": {},
     "output_type": "execute_result"
    }
   ],
   "source": [
    "df_gross.describe()"
   ]
  },
  {
   "cell_type": "markdown",
   "metadata": {},
   "source": [
    "**a. Highest gross genres domestically and globally**"
   ]
  },
  {
   "cell_type": "code",
   "execution_count": 107,
   "metadata": {},
   "outputs": [
    {
     "data": {
      "text/html": [
       "<div>\n",
       "<style scoped>\n",
       "    .dataframe tbody tr th:only-of-type {\n",
       "        vertical-align: middle;\n",
       "    }\n",
       "\n",
       "    .dataframe tbody tr th {\n",
       "        vertical-align: top;\n",
       "    }\n",
       "\n",
       "    .dataframe thead th {\n",
       "        text-align: right;\n",
       "    }\n",
       "</style>\n",
       "<table border=\"1\" class=\"dataframe\">\n",
       "  <thead>\n",
       "    <tr style=\"text-align: right;\">\n",
       "      <th></th>\n",
       "      <th>domestic_gross</th>\n",
       "      <th>genres</th>\n",
       "      <th>year</th>\n",
       "      <th>studio</th>\n",
       "    </tr>\n",
       "  </thead>\n",
       "  <tbody>\n",
       "    <tr>\n",
       "      <th>2082</th>\n",
       "      <td>936700000.0</td>\n",
       "      <td>NaN</td>\n",
       "      <td>2015</td>\n",
       "      <td>BV</td>\n",
       "    </tr>\n",
       "    <tr>\n",
       "      <th>3465</th>\n",
       "      <td>700100000.0</td>\n",
       "      <td>Action,Adventure,Sci-Fi</td>\n",
       "      <td>2018</td>\n",
       "      <td>BV</td>\n",
       "    </tr>\n",
       "    <tr>\n",
       "      <th>3464</th>\n",
       "      <td>678800000.0</td>\n",
       "      <td>Action,Adventure,Sci-Fi</td>\n",
       "      <td>2018</td>\n",
       "      <td>BV</td>\n",
       "    </tr>\n",
       "    <tr>\n",
       "      <th>2083</th>\n",
       "      <td>652300000.0</td>\n",
       "      <td>Action,Adventure,Sci-Fi</td>\n",
       "      <td>2015</td>\n",
       "      <td>Uni.</td>\n",
       "    </tr>\n",
       "    <tr>\n",
       "      <th>823</th>\n",
       "      <td>623400000.0</td>\n",
       "      <td>NaN</td>\n",
       "      <td>2012</td>\n",
       "      <td>BV</td>\n",
       "    </tr>\n",
       "    <tr>\n",
       "      <th>...</th>\n",
       "      <td>...</td>\n",
       "      <td>...</td>\n",
       "      <td>...</td>\n",
       "      <td>...</td>\n",
       "    </tr>\n",
       "    <tr>\n",
       "      <th>1138</th>\n",
       "      <td>400.0</td>\n",
       "      <td>Horror,Thriller</td>\n",
       "      <td>2012</td>\n",
       "      <td>Magn.</td>\n",
       "    </tr>\n",
       "    <tr>\n",
       "      <th>3084</th>\n",
       "      <td>300.0</td>\n",
       "      <td>NaN</td>\n",
       "      <td>2016</td>\n",
       "      <td>KL</td>\n",
       "    </tr>\n",
       "    <tr>\n",
       "      <th>3085</th>\n",
       "      <td>300.0</td>\n",
       "      <td>Horror</td>\n",
       "      <td>2016</td>\n",
       "      <td>Magn.</td>\n",
       "    </tr>\n",
       "    <tr>\n",
       "      <th>2595</th>\n",
       "      <td>300.0</td>\n",
       "      <td>Drama</td>\n",
       "      <td>2015</td>\n",
       "      <td>FM</td>\n",
       "    </tr>\n",
       "    <tr>\n",
       "      <th>1641</th>\n",
       "      <td>100.0</td>\n",
       "      <td>Action,Horror,Mystery</td>\n",
       "      <td>2013</td>\n",
       "      <td>Magn.</td>\n",
       "    </tr>\n",
       "  </tbody>\n",
       "</table>\n",
       "<p>3815 rows × 4 columns</p>\n",
       "</div>"
      ],
      "text/plain": [
       "      domestic_gross                   genres  year studio\n",
       "2082     936700000.0                      NaN  2015     BV\n",
       "3465     700100000.0  Action,Adventure,Sci-Fi  2018     BV\n",
       "3464     678800000.0  Action,Adventure,Sci-Fi  2018     BV\n",
       "2083     652300000.0  Action,Adventure,Sci-Fi  2015   Uni.\n",
       "823      623400000.0                      NaN  2012     BV\n",
       "...              ...                      ...   ...    ...\n",
       "1138           400.0          Horror,Thriller  2012  Magn.\n",
       "3084           300.0                      NaN  2016     KL\n",
       "3085           300.0                   Horror  2016  Magn.\n",
       "2595           300.0                    Drama  2015     FM\n",
       "1641           100.0    Action,Horror,Mystery  2013  Magn.\n",
       "\n",
       "[3815 rows x 4 columns]"
      ]
     },
     "execution_count": 107,
     "metadata": {},
     "output_type": "execute_result"
    }
   ],
   "source": [
    "#Finding the highest domestic gross genre \n",
    "df_gross.loc[:,('domestic_gross','genres', 'year','studio')].sort_values(by='domestic_gross', ascending=False)"
   ]
  },
  {
   "cell_type": "code",
   "execution_count": 140,
   "metadata": {},
   "outputs": [
    {
     "data": {
      "text/plain": [
       "<AxesSubplot:ylabel='genres'>"
      ]
     },
     "execution_count": 140,
     "metadata": {},
     "output_type": "execute_result"
    },
    {
     "data": {
      "image/png": "[encoded data removed]",
      "text/plain": [
       "<Figure size 720x576 with 1 Axes>"
      ]
     },
     "metadata": {},
     "output_type": "display_data"
    }
   ],
   "source": [
    "dom = df_gross.groupby('genres')['domestic_gross'].max().sort_values(ascending=False)\n",
    "dom[0:10].plot(kind='barh')"
   ]
  },
  {
   "cell_type": "code",
   "execution_count": 141,
   "metadata": {},
   "outputs": [
    {
     "data": {
      "text/plain": [
       "<AxesSubplot:ylabel='genres'>"
      ]
     },
     "execution_count": 141,
     "metadata": {},
     "output_type": "execute_result"
    },
    {
     "data": {
      "image/png": "[encoded data removed]",
      "text/plain": [
       "<Figure size 720x576 with 1 Axes>"
      ]
     },
     "metadata": {},
     "output_type": "display_data"
    }
   ],
   "source": [
    "worldwide = df_gross.groupby('genres')['foreign_gross'].max().sort_values(ascending=False)\n",
    "worldwide[0:10].plot(kind='barh')"
   ]
  },
  {
   "cell_type": "code",
   "execution_count": 110,
   "metadata": {},
   "outputs": [
    {
     "data": {
      "image/png": "[encoded data removed]",
      "text/plain": [
       "<Figure size 1080x360 with 2 Axes>"
      ]
     },
     "metadata": {},
     "output_type": "display_data"
    }
   ],
   "source": [
    "fig_2, axes = plt.subplots(figsize = (15,5), ncols=2)\n",
    "dom[0:10].plot(kind='bar', ax=axes[0])\n",
    "worldwide[0:10].plot(kind='bar', ax=axes[1])\n",
    "axes[0].set_title('Top 10 genres with highest domestic gross')\n",
    "axes[1].set_title('Top 10 genres with highest worldwide gross')\n",
    "axes[0].set_ylabel('Gross in millions')\n",
    "axes[1].set_ylabel('Gross in millions')\n",
    "plt.tight_layout()\n",
    "plt.savefig('fig_2.png');"
   ]
  },
  {
   "cell_type": "markdown",
   "metadata": {},
   "source": [
    "- Action, Adventure, Sci-fi has the highest gross domestically and internationally \n",
    "- Investigate whether there is any correlation between domestic gross and international gross"
   ]
  },
  {
   "cell_type": "markdown",
   "metadata": {},
   "source": [
    "**b. Correlation between domestic and global gross**"
   ]
  },
  {
   "cell_type": "code",
   "execution_count": 111,
   "metadata": {},
   "outputs": [
    {
     "data": {
      "text/plain": [
       "0.7916699469891144"
      ]
     },
     "execution_count": 111,
     "metadata": {},
     "output_type": "execute_result"
    }
   ],
   "source": [
    "#Finding correlation between domestic and international gross \n",
    "corr_gross = df_gross['domestic_gross'].corr(df_gross['foreign_gross'])\n",
    "corr_gross"
   ]
  },
  {
   "cell_type": "code",
   "execution_count": 112,
   "metadata": {},
   "outputs": [
    {
     "data": {
      "image/png": "[encoded data removed]",
      "text/plain": [
       "<Figure size 432x288 with 1 Axes>"
      ]
     },
     "metadata": {},
     "output_type": "display_data"
    }
   ],
   "source": [
    "reg = sns.regplot(x=df_gross['domestic_gross'], y=df_gross[\"foreign_gross\"])\n",
    "reg.set(xlabel='Domestic gross (millions)', ylabel='Foreign gross (millions)')\n",
    "reg.set_title('Correlation between domestic and foreign gross', fontsize=15)\n",
    "reg.legend(title='Correlation value', loc='upper right', labels=['r = 0.79']);"
   ]
  },
  {
   "cell_type": "markdown",
   "metadata": {},
   "source": [
    "**c. Highest gross and rated studios**"
   ]
  },
  {
   "cell_type": "code",
   "execution_count": 113,
   "metadata": {},
   "outputs": [
    {
     "data": {
      "text/plain": [
       "IFC      183\n",
       "Uni.     176\n",
       "Fox      157\n",
       "WB       154\n",
       "Magn.    153\n",
       "        ... \n",
       "KC         1\n",
       "BGP        1\n",
       "Libre      1\n",
       "KS         1\n",
       "PDF        1\n",
       "Name: studio, Length: 257, dtype: int64"
      ]
     },
     "execution_count": 113,
     "metadata": {},
     "output_type": "execute_result"
    }
   ],
   "source": [
    "#Finding which studio has the most movies with average rating >=8 \n",
    "studio_1 = df_gross.studio.value_counts()\n",
    "studio_1"
   ]
  },
  {
   "cell_type": "code",
   "execution_count": 114,
   "metadata": {},
   "outputs": [],
   "source": [
    "#Finding studio with most number of movies in top 20% highest grossing movies domestically \n",
    "studio = df_gross.loc[df_gross['domestic_gross'] > df_gross['domestic_gross'].quantile(0.8), ['studio']]\n",
    "studio_2 = studio.value_counts()"
   ]
  },
  {
   "cell_type": "code",
   "execution_count": 115,
   "metadata": {},
   "outputs": [
    {
     "data": {
      "image/png": "[encoded data removed]",
      "text/plain": [
       "<Figure size 432x288 with 1 Axes>"
      ]
     },
     "metadata": {},
     "output_type": "display_data"
    }
   ],
   "source": [
    "fig_2, ax = plt.subplots()\n",
    "ax = studio_2.plot(kind='bar')\n",
    "ax.set_title('Number of movies in top 20% highest gross from studios')\n",
    "plt.tight_layout()\n",
    "ax.set(xlabel='Studio', ylabel='Number of movies');"
   ]
  },
  {
   "cell_type": "markdown",
   "metadata": {},
   "source": [
    "- BV studio made the highest grossing movie and made 4 in 5 of the top grossing movies however top 5 studios has most movies in top 20% grossing movie domestically are: Uni, Fox, WB, BV, SONY. \n",
    "- Top 5 studios which makes the most movies with average rating >= 8 are: IFC, Uni, Fox, WB, Magn. "
   ]
  },
  {
   "cell_type": "markdown",
   "metadata": {},
   "source": [
    "## 7.3 The Numbers \n",
    "tn.movie_budgets has information on budget and domestic and internationally gross and their release date. Using these information we can investigate which season is the most profitable to release movies. "
   ]
  },
  {
   "cell_type": "markdown",
   "metadata": {},
   "source": [
    "- Number of movies released each season"
   ]
  },
  {
   "cell_type": "code",
   "execution_count": 116,
   "metadata": {},
   "outputs": [
    {
     "data": {
      "text/html": [
       "<div>\n",
       "<style scoped>\n",
       "    .dataframe tbody tr th:only-of-type {\n",
       "        vertical-align: middle;\n",
       "    }\n",
       "\n",
       "    .dataframe tbody tr th {\n",
       "        vertical-align: top;\n",
       "    }\n",
       "\n",
       "    .dataframe thead th {\n",
       "        text-align: right;\n",
       "    }\n",
       "</style>\n",
       "<table border=\"1\" class=\"dataframe\">\n",
       "  <thead>\n",
       "    <tr style=\"text-align: right;\">\n",
       "      <th></th>\n",
       "      <th>Number of movies</th>\n",
       "    </tr>\n",
       "  </thead>\n",
       "  <tbody>\n",
       "    <tr>\n",
       "      <th>Winter</th>\n",
       "      <td>1484</td>\n",
       "    </tr>\n",
       "    <tr>\n",
       "      <th>Spring</th>\n",
       "      <td>1331</td>\n",
       "    </tr>\n",
       "    <tr>\n",
       "      <th>Summer</th>\n",
       "      <td>1415</td>\n",
       "    </tr>\n",
       "    <tr>\n",
       "      <th>Autumn</th>\n",
       "      <td>1552</td>\n",
       "    </tr>\n",
       "  </tbody>\n",
       "</table>\n",
       "</div>"
      ],
      "text/plain": [
       "        Number of movies\n",
       "Winter              1484\n",
       "Spring              1331\n",
       "Summer              1415\n",
       "Autumn              1552"
      ]
     },
     "execution_count": 116,
     "metadata": {},
     "output_type": "execute_result"
    }
   ],
   "source": [
    "number_of_movies_season = pd.DataFrame({'Number of movies': df_4.release_season.value_counts()}, index=df_4['release_season'].unique())\n",
    "number_of_movies_season"
   ]
  },
  {
   "cell_type": "code",
   "execution_count": 117,
   "metadata": {},
   "outputs": [
    {
     "data": {
      "image/png": "[encoded data removed]",
      "text/plain": [
       "<Figure size 432x288 with 1 Axes>"
      ]
     },
     "metadata": {},
     "output_type": "display_data"
    }
   ],
   "source": [
    "num_movies = number_of_movies_season.plot(kind='bar')\n",
    "num_movies.set_title('Number of movies released seasonally', fontsize=15)\n",
    "num_movies.set(xlabel='Season', ylabel='Number of movies');"
   ]
  },
  {
   "cell_type": "markdown",
   "metadata": {},
   "source": [
    "**a. Most profitable season to release movie using ROI as measure**"
   ]
  },
  {
   "cell_type": "code",
   "execution_count": 118,
   "metadata": {},
   "outputs": [
    {
     "data": {
      "text/html": [
       "<div>\n",
       "<style scoped>\n",
       "    .dataframe tbody tr th:only-of-type {\n",
       "        vertical-align: middle;\n",
       "    }\n",
       "\n",
       "    .dataframe tbody tr th {\n",
       "        vertical-align: top;\n",
       "    }\n",
       "\n",
       "    .dataframe thead th {\n",
       "        text-align: right;\n",
       "    }\n",
       "</style>\n",
       "<table border=\"1\" class=\"dataframe\">\n",
       "  <thead>\n",
       "    <tr style=\"text-align: right;\">\n",
       "      <th></th>\n",
       "      <th>id</th>\n",
       "      <th>release_date</th>\n",
       "      <th>primary_title</th>\n",
       "      <th>production_budget</th>\n",
       "      <th>domestic_gross</th>\n",
       "      <th>worldwide_gross</th>\n",
       "      <th>release_season</th>\n",
       "      <th>release_year</th>\n",
       "      <th>Domestic Net profit</th>\n",
       "      <th>Worldwide Net profit</th>\n",
       "      <th>Domestic ROI</th>\n",
       "      <th>Worldwide ROI</th>\n",
       "    </tr>\n",
       "  </thead>\n",
       "  <tbody>\n",
       "    <tr>\n",
       "      <th>0</th>\n",
       "      <td>1</td>\n",
       "      <td>Dec 18, 2009</td>\n",
       "      <td>Avatar</td>\n",
       "      <td>425000000</td>\n",
       "      <td>760507625</td>\n",
       "      <td>2776345279</td>\n",
       "      <td>Winter</td>\n",
       "      <td>2009</td>\n",
       "      <td>335507625</td>\n",
       "      <td>2351345279</td>\n",
       "      <td>78.942971</td>\n",
       "      <td>553.257713</td>\n",
       "    </tr>\n",
       "    <tr>\n",
       "      <th>1</th>\n",
       "      <td>2</td>\n",
       "      <td>May 20, 2011</td>\n",
       "      <td>Pirates of the Caribbean: On Stranger Tides</td>\n",
       "      <td>410600000</td>\n",
       "      <td>241063875</td>\n",
       "      <td>1045663875</td>\n",
       "      <td>Spring</td>\n",
       "      <td>2011</td>\n",
       "      <td>-169536125</td>\n",
       "      <td>635063875</td>\n",
       "      <td>-41.289850</td>\n",
       "      <td>154.667286</td>\n",
       "    </tr>\n",
       "    <tr>\n",
       "      <th>2</th>\n",
       "      <td>3</td>\n",
       "      <td>Jun 7, 2019</td>\n",
       "      <td>Dark Phoenix</td>\n",
       "      <td>350000000</td>\n",
       "      <td>42762350</td>\n",
       "      <td>149762350</td>\n",
       "      <td>Summer</td>\n",
       "      <td>2019</td>\n",
       "      <td>-307237650</td>\n",
       "      <td>-200237650</td>\n",
       "      <td>-87.782186</td>\n",
       "      <td>-57.210757</td>\n",
       "    </tr>\n",
       "    <tr>\n",
       "      <th>3</th>\n",
       "      <td>4</td>\n",
       "      <td>May 1, 2015</td>\n",
       "      <td>Avengers: Age of Ultron</td>\n",
       "      <td>330600000</td>\n",
       "      <td>459005868</td>\n",
       "      <td>1403013963</td>\n",
       "      <td>Spring</td>\n",
       "      <td>2015</td>\n",
       "      <td>128405868</td>\n",
       "      <td>1072413963</td>\n",
       "      <td>38.840250</td>\n",
       "      <td>324.384139</td>\n",
       "    </tr>\n",
       "    <tr>\n",
       "      <th>4</th>\n",
       "      <td>5</td>\n",
       "      <td>Dec 15, 2017</td>\n",
       "      <td>Star Wars Ep. VIII: The Last Jedi</td>\n",
       "      <td>317000000</td>\n",
       "      <td>620181382</td>\n",
       "      <td>1316721747</td>\n",
       "      <td>Winter</td>\n",
       "      <td>2017</td>\n",
       "      <td>303181382</td>\n",
       "      <td>999721747</td>\n",
       "      <td>95.640815</td>\n",
       "      <td>315.369636</td>\n",
       "    </tr>\n",
       "    <tr>\n",
       "      <th>...</th>\n",
       "      <td>...</td>\n",
       "      <td>...</td>\n",
       "      <td>...</td>\n",
       "      <td>...</td>\n",
       "      <td>...</td>\n",
       "      <td>...</td>\n",
       "      <td>...</td>\n",
       "      <td>...</td>\n",
       "      <td>...</td>\n",
       "      <td>...</td>\n",
       "      <td>...</td>\n",
       "      <td>...</td>\n",
       "    </tr>\n",
       "    <tr>\n",
       "      <th>5777</th>\n",
       "      <td>78</td>\n",
       "      <td>Dec 31, 2018</td>\n",
       "      <td>Red 11</td>\n",
       "      <td>7000</td>\n",
       "      <td>0</td>\n",
       "      <td>0</td>\n",
       "      <td>Winter</td>\n",
       "      <td>2018</td>\n",
       "      <td>-7000</td>\n",
       "      <td>-7000</td>\n",
       "      <td>-100.000000</td>\n",
       "      <td>-100.000000</td>\n",
       "    </tr>\n",
       "    <tr>\n",
       "      <th>5778</th>\n",
       "      <td>79</td>\n",
       "      <td>Apr 2, 1999</td>\n",
       "      <td>Following</td>\n",
       "      <td>6000</td>\n",
       "      <td>48482</td>\n",
       "      <td>240495</td>\n",
       "      <td>Spring</td>\n",
       "      <td>1999</td>\n",
       "      <td>42482</td>\n",
       "      <td>234495</td>\n",
       "      <td>708.033333</td>\n",
       "      <td>3908.250000</td>\n",
       "    </tr>\n",
       "    <tr>\n",
       "      <th>5779</th>\n",
       "      <td>80</td>\n",
       "      <td>Jul 13, 2005</td>\n",
       "      <td>Return to the Land of Wonders</td>\n",
       "      <td>5000</td>\n",
       "      <td>1338</td>\n",
       "      <td>1338</td>\n",
       "      <td>Summer</td>\n",
       "      <td>2005</td>\n",
       "      <td>-3662</td>\n",
       "      <td>-3662</td>\n",
       "      <td>-73.240000</td>\n",
       "      <td>-73.240000</td>\n",
       "    </tr>\n",
       "    <tr>\n",
       "      <th>5780</th>\n",
       "      <td>81</td>\n",
       "      <td>Sep 29, 2015</td>\n",
       "      <td>A Plague So Pleasant</td>\n",
       "      <td>1400</td>\n",
       "      <td>0</td>\n",
       "      <td>0</td>\n",
       "      <td>Autumn</td>\n",
       "      <td>2015</td>\n",
       "      <td>-1400</td>\n",
       "      <td>-1400</td>\n",
       "      <td>-100.000000</td>\n",
       "      <td>-100.000000</td>\n",
       "    </tr>\n",
       "    <tr>\n",
       "      <th>5781</th>\n",
       "      <td>82</td>\n",
       "      <td>Aug 5, 2005</td>\n",
       "      <td>My Date With Drew</td>\n",
       "      <td>1100</td>\n",
       "      <td>181041</td>\n",
       "      <td>181041</td>\n",
       "      <td>Summer</td>\n",
       "      <td>2005</td>\n",
       "      <td>179941</td>\n",
       "      <td>179941</td>\n",
       "      <td>16358.272727</td>\n",
       "      <td>16358.272727</td>\n",
       "    </tr>\n",
       "  </tbody>\n",
       "</table>\n",
       "<p>5782 rows × 12 columns</p>\n",
       "</div>"
      ],
      "text/plain": [
       "      id  release_date                                primary_title  \\\n",
       "0      1  Dec 18, 2009                                       Avatar   \n",
       "1      2  May 20, 2011  Pirates of the Caribbean: On Stranger Tides   \n",
       "2      3   Jun 7, 2019                                 Dark Phoenix   \n",
       "3      4   May 1, 2015                      Avengers: Age of Ultron   \n",
       "4      5  Dec 15, 2017            Star Wars Ep. VIII: The Last Jedi   \n",
       "...   ..           ...                                          ...   \n",
       "5777  78  Dec 31, 2018                                       Red 11   \n",
       "5778  79   Apr 2, 1999                                    Following   \n",
       "5779  80  Jul 13, 2005                Return to the Land of Wonders   \n",
       "5780  81  Sep 29, 2015                         A Plague So Pleasant   \n",
       "5781  82   Aug 5, 2005                            My Date With Drew   \n",
       "\n",
       "      production_budget  domestic_gross  worldwide_gross release_season  \\\n",
       "0             425000000       760507625       2776345279         Winter   \n",
       "1             410600000       241063875       1045663875         Spring   \n",
       "2             350000000        42762350        149762350         Summer   \n",
       "3             330600000       459005868       1403013963         Spring   \n",
       "4             317000000       620181382       1316721747         Winter   \n",
       "...                 ...             ...              ...            ...   \n",
       "5777               7000               0                0         Winter   \n",
       "5778               6000           48482           240495         Spring   \n",
       "5779               5000            1338             1338         Summer   \n",
       "5780               1400               0                0         Autumn   \n",
       "5781               1100          181041           181041         Summer   \n",
       "\n",
       "      release_year  Domestic Net profit  Worldwide Net profit  Domestic ROI  \\\n",
       "0             2009            335507625            2351345279     78.942971   \n",
       "1             2011           -169536125             635063875    -41.289850   \n",
       "2             2019           -307237650            -200237650    -87.782186   \n",
       "3             2015            128405868            1072413963     38.840250   \n",
       "4             2017            303181382             999721747     95.640815   \n",
       "...            ...                  ...                   ...           ...   \n",
       "5777          2018                -7000                 -7000   -100.000000   \n",
       "5778          1999                42482                234495    708.033333   \n",
       "5779          2005                -3662                 -3662    -73.240000   \n",
       "5780          2015                -1400                 -1400   -100.000000   \n",
       "5781          2005               179941                179941  16358.272727   \n",
       "\n",
       "      Worldwide ROI  \n",
       "0        553.257713  \n",
       "1        154.667286  \n",
       "2        -57.210757  \n",
       "3        324.384139  \n",
       "4        315.369636  \n",
       "...             ...  \n",
       "5777    -100.000000  \n",
       "5778    3908.250000  \n",
       "5779     -73.240000  \n",
       "5780    -100.000000  \n",
       "5781   16358.272727  \n",
       "\n",
       "[5782 rows x 12 columns]"
      ]
     },
     "execution_count": 118,
     "metadata": {},
     "output_type": "execute_result"
    }
   ],
   "source": [
    "#creating new columns for Domestic and worldwide net profit \n",
    "df_4['Domestic Net profit']= df_4['domestic_gross'] - df_4['production_budget']\n",
    "df_4['Worldwide Net profit']= df_4['worldwide_gross'] - df_4['production_budget']\n",
    "df_4['Domestic ROI'] = df_4['Domestic Net profit']/df_4['production_budget']*100\n",
    "df_4['Worldwide ROI'] = df_4['Worldwide Net profit']/df_4['production_budget']*100\n",
    "df_4"
   ]
  },
  {
   "cell_type": "code",
   "execution_count": 119,
   "metadata": {},
   "outputs": [
    {
     "data": {
      "text/html": [
       "<div>\n",
       "<style scoped>\n",
       "    .dataframe tbody tr th:only-of-type {\n",
       "        vertical-align: middle;\n",
       "    }\n",
       "\n",
       "    .dataframe tbody tr th {\n",
       "        vertical-align: top;\n",
       "    }\n",
       "\n",
       "    .dataframe thead th {\n",
       "        text-align: right;\n",
       "    }\n",
       "</style>\n",
       "<table border=\"1\" class=\"dataframe\">\n",
       "  <thead>\n",
       "    <tr style=\"text-align: right;\">\n",
       "      <th></th>\n",
       "      <th>id</th>\n",
       "      <th>production_budget</th>\n",
       "      <th>domestic_gross</th>\n",
       "      <th>worldwide_gross</th>\n",
       "      <th>release_year</th>\n",
       "      <th>Domestic Net profit</th>\n",
       "      <th>Worldwide Net profit</th>\n",
       "      <th>Domestic ROI</th>\n",
       "      <th>Worldwide ROI</th>\n",
       "    </tr>\n",
       "  </thead>\n",
       "  <tbody>\n",
       "    <tr>\n",
       "      <th>count</th>\n",
       "      <td>5782.000000</td>\n",
       "      <td>5.782000e+03</td>\n",
       "      <td>5.782000e+03</td>\n",
       "      <td>5.782000e+03</td>\n",
       "      <td>5782.000000</td>\n",
       "      <td>5.782000e+03</td>\n",
       "      <td>5.782000e+03</td>\n",
       "      <td>5782.000000</td>\n",
       "      <td>5782.000000</td>\n",
       "    </tr>\n",
       "    <tr>\n",
       "      <th>mean</th>\n",
       "      <td>50.372363</td>\n",
       "      <td>3.158776e+07</td>\n",
       "      <td>4.187333e+07</td>\n",
       "      <td>9.148746e+07</td>\n",
       "      <td>2003.967139</td>\n",
       "      <td>1.028557e+07</td>\n",
       "      <td>5.989970e+07</td>\n",
       "      <td>198.354021</td>\n",
       "      <td>380.016137</td>\n",
       "    </tr>\n",
       "    <tr>\n",
       "      <th>std</th>\n",
       "      <td>28.821076</td>\n",
       "      <td>4.181208e+07</td>\n",
       "      <td>6.824060e+07</td>\n",
       "      <td>1.747200e+08</td>\n",
       "      <td>12.724386</td>\n",
       "      <td>4.992137e+07</td>\n",
       "      <td>1.460889e+08</td>\n",
       "      <td>2608.659060</td>\n",
       "      <td>2953.028231</td>\n",
       "    </tr>\n",
       "    <tr>\n",
       "      <th>min</th>\n",
       "      <td>1.000000</td>\n",
       "      <td>1.100000e+03</td>\n",
       "      <td>0.000000e+00</td>\n",
       "      <td>0.000000e+00</td>\n",
       "      <td>1915.000000</td>\n",
       "      <td>-3.072376e+08</td>\n",
       "      <td>-2.002376e+08</td>\n",
       "      <td>-100.000000</td>\n",
       "      <td>-100.000000</td>\n",
       "    </tr>\n",
       "    <tr>\n",
       "      <th>25%</th>\n",
       "      <td>25.000000</td>\n",
       "      <td>5.000000e+06</td>\n",
       "      <td>1.429534e+06</td>\n",
       "      <td>4.125415e+06</td>\n",
       "      <td>2000.000000</td>\n",
       "      <td>-9.132757e+06</td>\n",
       "      <td>-2.189071e+06</td>\n",
       "      <td>-79.436711</td>\n",
       "      <td>-50.770440</td>\n",
       "    </tr>\n",
       "    <tr>\n",
       "      <th>50%</th>\n",
       "      <td>50.000000</td>\n",
       "      <td>1.700000e+07</td>\n",
       "      <td>1.722594e+07</td>\n",
       "      <td>2.798445e+07</td>\n",
       "      <td>2007.000000</td>\n",
       "      <td>-3.487755e+05</td>\n",
       "      <td>8.550286e+06</td>\n",
       "      <td>-12.167378</td>\n",
       "      <td>70.830983</td>\n",
       "    </tr>\n",
       "    <tr>\n",
       "      <th>75%</th>\n",
       "      <td>75.000000</td>\n",
       "      <td>4.000000e+07</td>\n",
       "      <td>5.234866e+07</td>\n",
       "      <td>9.764584e+07</td>\n",
       "      <td>2012.000000</td>\n",
       "      <td>1.778144e+07</td>\n",
       "      <td>6.096850e+07</td>\n",
       "      <td>105.814816</td>\n",
       "      <td>275.834608</td>\n",
       "    </tr>\n",
       "    <tr>\n",
       "      <th>max</th>\n",
       "      <td>100.000000</td>\n",
       "      <td>4.250000e+08</td>\n",
       "      <td>9.366622e+08</td>\n",
       "      <td>2.776345e+09</td>\n",
       "      <td>2020.000000</td>\n",
       "      <td>6.306622e+08</td>\n",
       "      <td>2.351345e+09</td>\n",
       "      <td>179900.000000</td>\n",
       "      <td>179900.000000</td>\n",
       "    </tr>\n",
       "  </tbody>\n",
       "</table>\n",
       "</div>"
      ],
      "text/plain": [
       "                id  production_budget  domestic_gross  worldwide_gross  \\\n",
       "count  5782.000000       5.782000e+03    5.782000e+03     5.782000e+03   \n",
       "mean     50.372363       3.158776e+07    4.187333e+07     9.148746e+07   \n",
       "std      28.821076       4.181208e+07    6.824060e+07     1.747200e+08   \n",
       "min       1.000000       1.100000e+03    0.000000e+00     0.000000e+00   \n",
       "25%      25.000000       5.000000e+06    1.429534e+06     4.125415e+06   \n",
       "50%      50.000000       1.700000e+07    1.722594e+07     2.798445e+07   \n",
       "75%      75.000000       4.000000e+07    5.234866e+07     9.764584e+07   \n",
       "max     100.000000       4.250000e+08    9.366622e+08     2.776345e+09   \n",
       "\n",
       "       release_year  Domestic Net profit  Worldwide Net profit   Domestic ROI  \\\n",
       "count   5782.000000         5.782000e+03          5.782000e+03    5782.000000   \n",
       "mean    2003.967139         1.028557e+07          5.989970e+07     198.354021   \n",
       "std       12.724386         4.992137e+07          1.460889e+08    2608.659060   \n",
       "min     1915.000000        -3.072376e+08         -2.002376e+08    -100.000000   \n",
       "25%     2000.000000        -9.132757e+06         -2.189071e+06     -79.436711   \n",
       "50%     2007.000000        -3.487755e+05          8.550286e+06     -12.167378   \n",
       "75%     2012.000000         1.778144e+07          6.096850e+07     105.814816   \n",
       "max     2020.000000         6.306622e+08          2.351345e+09  179900.000000   \n",
       "\n",
       "       Worldwide ROI  \n",
       "count    5782.000000  \n",
       "mean      380.016137  \n",
       "std      2953.028231  \n",
       "min      -100.000000  \n",
       "25%       -50.770440  \n",
       "50%        70.830983  \n",
       "75%       275.834608  \n",
       "max    179900.000000  "
      ]
     },
     "execution_count": 119,
     "metadata": {},
     "output_type": "execute_result"
    }
   ],
   "source": [
    "df_4.describe()"
   ]
  },
  {
   "cell_type": "markdown",
   "metadata": {},
   "source": [
    "#### Return of investment (ROI)"
   ]
  },
  {
   "cell_type": "code",
   "execution_count": 121,
   "metadata": {},
   "outputs": [
    {
     "data": {
      "text/html": [
       "<div>\n",
       "<style scoped>\n",
       "    .dataframe tbody tr th:only-of-type {\n",
       "        vertical-align: middle;\n",
       "    }\n",
       "\n",
       "    .dataframe tbody tr th {\n",
       "        vertical-align: top;\n",
       "    }\n",
       "\n",
       "    .dataframe thead th {\n",
       "        text-align: right;\n",
       "    }\n",
       "</style>\n",
       "<table border=\"1\" class=\"dataframe\">\n",
       "  <thead>\n",
       "    <tr style=\"text-align: right;\">\n",
       "      <th></th>\n",
       "      <th>Dom_ROI</th>\n",
       "      <th>World_ROI</th>\n",
       "    </tr>\n",
       "  </thead>\n",
       "  <tbody>\n",
       "    <tr>\n",
       "      <th>Winter</th>\n",
       "      <td>-21.590148</td>\n",
       "      <td>61.989135</td>\n",
       "    </tr>\n",
       "    <tr>\n",
       "      <th>Spring</th>\n",
       "      <td>-13.215180</td>\n",
       "      <td>61.919883</td>\n",
       "    </tr>\n",
       "    <tr>\n",
       "      <th>Summer</th>\n",
       "      <td>7.878013</td>\n",
       "      <td>103.309557</td>\n",
       "    </tr>\n",
       "    <tr>\n",
       "      <th>Autumn</th>\n",
       "      <td>-19.851358</td>\n",
       "      <td>56.630050</td>\n",
       "    </tr>\n",
       "  </tbody>\n",
       "</table>\n",
       "</div>"
      ],
      "text/plain": [
       "          Dom_ROI   World_ROI\n",
       "Winter -21.590148   61.989135\n",
       "Spring -13.215180   61.919883\n",
       "Summer   7.878013  103.309557\n",
       "Autumn -19.851358   56.630050"
      ]
     },
     "execution_count": 121,
     "metadata": {},
     "output_type": "execute_result"
    }
   ],
   "source": [
    "domestic_ROI = df_4.groupby('release_season')['Domestic ROI'].median()\n",
    "worldwide_ROI = df_4.groupby('release_season')['Worldwide ROI'].median()\n",
    "ROI = pd.DataFrame({'Dom_ROI': domestic_ROI  ,'World_ROI': worldwide_ROI}, \n",
    "                    index = df_4['release_season'].unique())\n",
    "ROI"
   ]
  },
  {
   "cell_type": "code",
   "execution_count": 122,
   "metadata": {},
   "outputs": [
    {
     "data": {
      "image/png": "[encoded data removed]",
      "text/plain": [
       "<Figure size 432x288 with 1 Axes>"
      ]
     },
     "metadata": {},
     "output_type": "display_data"
    }
   ],
   "source": [
    "bar = ROI.plot(kind='bar')\n",
    "bar.set_title('Domestic and foreign ROI by season', fontsize=15)\n",
    "bar.set(xlabel='Release Season', ylabel='ROI in %')\n",
    "plt.tight_layout()\n",
    "plt.savefig('bar.png');"
   ]
  },
  {
   "cell_type": "markdown",
   "metadata": {},
   "source": [
    "**b. Most profitable season to release movie based on net profit using median(), max()**"
   ]
  },
  {
   "cell_type": "markdown",
   "metadata": {},
   "source": [
    "- Domestic profit in negative, let's investigate by year "
   ]
  },
  {
   "cell_type": "code",
   "execution_count": 123,
   "metadata": {
    "scrolled": true
   },
   "outputs": [
    {
     "data": {
      "text/plain": [
       "release_year\n",
       "1915     9890000.0\n",
       "1916     3707046.5\n",
       "1920     2900000.0\n",
       "1925     7927500.0\n",
       "1927    -2000000.0\n",
       "           ...    \n",
       "2016    -1302924.0\n",
       "2017    -1220307.0\n",
       "2018     5607431.0\n",
       "2019   -11000000.0\n",
       "2020   -82000000.0\n",
       "Name: Domestic Net profit, Length: 96, dtype: float64"
      ]
     },
     "execution_count": 123,
     "metadata": {},
     "output_type": "execute_result"
    }
   ],
   "source": [
    "domestic_net = df_4.groupby('release_year')['Domestic Net profit'].median()\n",
    "domestic_net"
   ]
  },
  {
   "cell_type": "code",
   "execution_count": 124,
   "metadata": {
    "scrolled": false
   },
   "outputs": [
    {
     "data": {
      "image/png": "[encoded data removed]",
      "text/plain": [
       "<Figure size 432x288 with 1 Axes>"
      ]
     },
     "metadata": {},
     "output_type": "display_data"
    }
   ],
   "source": [
    "line = domestic_net.plot()\n",
    "line.set_title('Yearly Domestic profit', fontsize=15)\n",
    "line.set(xlabel='Release year', ylabel='Domestic profit in millions');"
   ]
  },
  {
   "cell_type": "markdown",
   "metadata": {},
   "source": [
    "2020 showed negative trend which is an outlier due to unprecedented COVID pandamic. Let's take out all values for 2020 and look at titles in the last 20 years see if that has any effects "
   ]
  },
  {
   "cell_type": "code",
   "execution_count": 125,
   "metadata": {
    "scrolled": false
   },
   "outputs": [
    {
     "data": {
      "text/html": [
       "<div>\n",
       "<style scoped>\n",
       "    .dataframe tbody tr th:only-of-type {\n",
       "        vertical-align: middle;\n",
       "    }\n",
       "\n",
       "    .dataframe tbody tr th {\n",
       "        vertical-align: top;\n",
       "    }\n",
       "\n",
       "    .dataframe thead th {\n",
       "        text-align: right;\n",
       "    }\n",
       "</style>\n",
       "<table border=\"1\" class=\"dataframe\">\n",
       "  <thead>\n",
       "    <tr style=\"text-align: right;\">\n",
       "      <th></th>\n",
       "      <th>id</th>\n",
       "      <th>release_date</th>\n",
       "      <th>primary_title</th>\n",
       "      <th>production_budget</th>\n",
       "      <th>domestic_gross</th>\n",
       "      <th>worldwide_gross</th>\n",
       "      <th>release_season</th>\n",
       "      <th>release_year</th>\n",
       "      <th>Domestic Net profit</th>\n",
       "      <th>Worldwide Net profit</th>\n",
       "      <th>Domestic ROI</th>\n",
       "      <th>Worldwide ROI</th>\n",
       "    </tr>\n",
       "  </thead>\n",
       "  <tbody>\n",
       "    <tr>\n",
       "      <th>0</th>\n",
       "      <td>1</td>\n",
       "      <td>Dec 18, 2009</td>\n",
       "      <td>Avatar</td>\n",
       "      <td>425000000</td>\n",
       "      <td>760507625</td>\n",
       "      <td>2776345279</td>\n",
       "      <td>Winter</td>\n",
       "      <td>2009</td>\n",
       "      <td>335507625</td>\n",
       "      <td>2351345279</td>\n",
       "      <td>78.942971</td>\n",
       "      <td>553.257713</td>\n",
       "    </tr>\n",
       "    <tr>\n",
       "      <th>1</th>\n",
       "      <td>2</td>\n",
       "      <td>May 20, 2011</td>\n",
       "      <td>Pirates of the Caribbean: On Stranger Tides</td>\n",
       "      <td>410600000</td>\n",
       "      <td>241063875</td>\n",
       "      <td>1045663875</td>\n",
       "      <td>Spring</td>\n",
       "      <td>2011</td>\n",
       "      <td>-169536125</td>\n",
       "      <td>635063875</td>\n",
       "      <td>-41.289850</td>\n",
       "      <td>154.667286</td>\n",
       "    </tr>\n",
       "    <tr>\n",
       "      <th>2</th>\n",
       "      <td>3</td>\n",
       "      <td>Jun 7, 2019</td>\n",
       "      <td>Dark Phoenix</td>\n",
       "      <td>350000000</td>\n",
       "      <td>42762350</td>\n",
       "      <td>149762350</td>\n",
       "      <td>Summer</td>\n",
       "      <td>2019</td>\n",
       "      <td>-307237650</td>\n",
       "      <td>-200237650</td>\n",
       "      <td>-87.782186</td>\n",
       "      <td>-57.210757</td>\n",
       "    </tr>\n",
       "    <tr>\n",
       "      <th>3</th>\n",
       "      <td>4</td>\n",
       "      <td>May 1, 2015</td>\n",
       "      <td>Avengers: Age of Ultron</td>\n",
       "      <td>330600000</td>\n",
       "      <td>459005868</td>\n",
       "      <td>1403013963</td>\n",
       "      <td>Spring</td>\n",
       "      <td>2015</td>\n",
       "      <td>128405868</td>\n",
       "      <td>1072413963</td>\n",
       "      <td>38.840250</td>\n",
       "      <td>324.384139</td>\n",
       "    </tr>\n",
       "    <tr>\n",
       "      <th>4</th>\n",
       "      <td>5</td>\n",
       "      <td>Dec 15, 2017</td>\n",
       "      <td>Star Wars Ep. VIII: The Last Jedi</td>\n",
       "      <td>317000000</td>\n",
       "      <td>620181382</td>\n",
       "      <td>1316721747</td>\n",
       "      <td>Winter</td>\n",
       "      <td>2017</td>\n",
       "      <td>303181382</td>\n",
       "      <td>999721747</td>\n",
       "      <td>95.640815</td>\n",
       "      <td>315.369636</td>\n",
       "    </tr>\n",
       "    <tr>\n",
       "      <th>...</th>\n",
       "      <td>...</td>\n",
       "      <td>...</td>\n",
       "      <td>...</td>\n",
       "      <td>...</td>\n",
       "      <td>...</td>\n",
       "      <td>...</td>\n",
       "      <td>...</td>\n",
       "      <td>...</td>\n",
       "      <td>...</td>\n",
       "      <td>...</td>\n",
       "      <td>...</td>\n",
       "      <td>...</td>\n",
       "    </tr>\n",
       "    <tr>\n",
       "      <th>5777</th>\n",
       "      <td>78</td>\n",
       "      <td>Dec 31, 2018</td>\n",
       "      <td>Red 11</td>\n",
       "      <td>7000</td>\n",
       "      <td>0</td>\n",
       "      <td>0</td>\n",
       "      <td>Winter</td>\n",
       "      <td>2018</td>\n",
       "      <td>-7000</td>\n",
       "      <td>-7000</td>\n",
       "      <td>-100.000000</td>\n",
       "      <td>-100.000000</td>\n",
       "    </tr>\n",
       "    <tr>\n",
       "      <th>5778</th>\n",
       "      <td>79</td>\n",
       "      <td>Apr 2, 1999</td>\n",
       "      <td>Following</td>\n",
       "      <td>6000</td>\n",
       "      <td>48482</td>\n",
       "      <td>240495</td>\n",
       "      <td>Spring</td>\n",
       "      <td>1999</td>\n",
       "      <td>42482</td>\n",
       "      <td>234495</td>\n",
       "      <td>708.033333</td>\n",
       "      <td>3908.250000</td>\n",
       "    </tr>\n",
       "    <tr>\n",
       "      <th>5779</th>\n",
       "      <td>80</td>\n",
       "      <td>Jul 13, 2005</td>\n",
       "      <td>Return to the Land of Wonders</td>\n",
       "      <td>5000</td>\n",
       "      <td>1338</td>\n",
       "      <td>1338</td>\n",
       "      <td>Summer</td>\n",
       "      <td>2005</td>\n",
       "      <td>-3662</td>\n",
       "      <td>-3662</td>\n",
       "      <td>-73.240000</td>\n",
       "      <td>-73.240000</td>\n",
       "    </tr>\n",
       "    <tr>\n",
       "      <th>5780</th>\n",
       "      <td>81</td>\n",
       "      <td>Sep 29, 2015</td>\n",
       "      <td>A Plague So Pleasant</td>\n",
       "      <td>1400</td>\n",
       "      <td>0</td>\n",
       "      <td>0</td>\n",
       "      <td>Autumn</td>\n",
       "      <td>2015</td>\n",
       "      <td>-1400</td>\n",
       "      <td>-1400</td>\n",
       "      <td>-100.000000</td>\n",
       "      <td>-100.000000</td>\n",
       "    </tr>\n",
       "    <tr>\n",
       "      <th>5781</th>\n",
       "      <td>82</td>\n",
       "      <td>Aug 5, 2005</td>\n",
       "      <td>My Date With Drew</td>\n",
       "      <td>1100</td>\n",
       "      <td>181041</td>\n",
       "      <td>181041</td>\n",
       "      <td>Summer</td>\n",
       "      <td>2005</td>\n",
       "      <td>179941</td>\n",
       "      <td>179941</td>\n",
       "      <td>16358.272727</td>\n",
       "      <td>16358.272727</td>\n",
       "    </tr>\n",
       "  </tbody>\n",
       "</table>\n",
       "<p>5779 rows × 12 columns</p>\n",
       "</div>"
      ],
      "text/plain": [
       "      id  release_date                                primary_title  \\\n",
       "0      1  Dec 18, 2009                                       Avatar   \n",
       "1      2  May 20, 2011  Pirates of the Caribbean: On Stranger Tides   \n",
       "2      3   Jun 7, 2019                                 Dark Phoenix   \n",
       "3      4   May 1, 2015                      Avengers: Age of Ultron   \n",
       "4      5  Dec 15, 2017            Star Wars Ep. VIII: The Last Jedi   \n",
       "...   ..           ...                                          ...   \n",
       "5777  78  Dec 31, 2018                                       Red 11   \n",
       "5778  79   Apr 2, 1999                                    Following   \n",
       "5779  80  Jul 13, 2005                Return to the Land of Wonders   \n",
       "5780  81  Sep 29, 2015                         A Plague So Pleasant   \n",
       "5781  82   Aug 5, 2005                            My Date With Drew   \n",
       "\n",
       "      production_budget  domestic_gross  worldwide_gross release_season  \\\n",
       "0             425000000       760507625       2776345279         Winter   \n",
       "1             410600000       241063875       1045663875         Spring   \n",
       "2             350000000        42762350        149762350         Summer   \n",
       "3             330600000       459005868       1403013963         Spring   \n",
       "4             317000000       620181382       1316721747         Winter   \n",
       "...                 ...             ...              ...            ...   \n",
       "5777               7000               0                0         Winter   \n",
       "5778               6000           48482           240495         Spring   \n",
       "5779               5000            1338             1338         Summer   \n",
       "5780               1400               0                0         Autumn   \n",
       "5781               1100          181041           181041         Summer   \n",
       "\n",
       "      release_year  Domestic Net profit  Worldwide Net profit  Domestic ROI  \\\n",
       "0             2009            335507625            2351345279     78.942971   \n",
       "1             2011           -169536125             635063875    -41.289850   \n",
       "2             2019           -307237650            -200237650    -87.782186   \n",
       "3             2015            128405868            1072413963     38.840250   \n",
       "4             2017            303181382             999721747     95.640815   \n",
       "...            ...                  ...                   ...           ...   \n",
       "5777          2018                -7000                 -7000   -100.000000   \n",
       "5778          1999                42482                234495    708.033333   \n",
       "5779          2005                -3662                 -3662    -73.240000   \n",
       "5780          2015                -1400                 -1400   -100.000000   \n",
       "5781          2005               179941                179941  16358.272727   \n",
       "\n",
       "      Worldwide ROI  \n",
       "0        553.257713  \n",
       "1        154.667286  \n",
       "2        -57.210757  \n",
       "3        324.384139  \n",
       "4        315.369636  \n",
       "...             ...  \n",
       "5777    -100.000000  \n",
       "5778    3908.250000  \n",
       "5779     -73.240000  \n",
       "5780    -100.000000  \n",
       "5781   16358.272727  \n",
       "\n",
       "[5779 rows x 12 columns]"
      ]
     },
     "execution_count": 125,
     "metadata": {},
     "output_type": "execute_result"
    }
   ],
   "source": [
    "df_4_without2020 = df_4.loc[df_4['release_year'] <= 2019]\n",
    "df_4_without2020"
   ]
  },
  {
   "cell_type": "markdown",
   "metadata": {},
   "source": [
    "**Profits with 2020 data included**"
   ]
  },
  {
   "cell_type": "code",
   "execution_count": 126,
   "metadata": {},
   "outputs": [],
   "source": [
    "#profit vs budget by season  \n",
    "domestic_by_season = df_4.groupby('release_season')['Domestic Net profit'].median()\n",
    "worldwide_by_season = df_4.groupby('release_season')['Worldwide Net profit'].median()\n",
    "budget_by_season = df_4.groupby('release_season')['production_budget'].median()\n",
    "budget_vs_profit = pd.DataFrame({'Dom_prof': domestic_by_season  ,'World_prof': worldwide_by_season, \n",
    "                                 'Budget': budget_by_season}, \n",
    "                                     index = df_4['release_season'].unique())"
   ]
  },
  {
   "cell_type": "code",
   "execution_count": 127,
   "metadata": {},
   "outputs": [
    {
     "data": {
      "image/png": "[encoded data removed]",
      "text/plain": [
       "<Figure size 432x288 with 1 Axes>"
      ]
     },
     "metadata": {},
     "output_type": "display_data"
    }
   ],
   "source": [
    "axes = budget_vs_profit.plot(kind='bar')\n",
    "axes.set_title('Budget, Domestic Profit, Worldwide Profit by seasons with 2020 included')\n",
    "axes.set(xlabel='Season', ylabel='Profit in millions');"
   ]
  },
  {
   "cell_type": "markdown",
   "metadata": {},
   "source": [
    "**Profit without 2020 included** "
   ]
  },
  {
   "cell_type": "code",
   "execution_count": 128,
   "metadata": {},
   "outputs": [],
   "source": [
    "#profit vs budget by season  without 2020 \n",
    "domestic_by_season_2 = df_4_without2020.groupby('release_season')['Domestic Net profit'].median()\n",
    "worldwide_by_season_2 = df_4_without2020.groupby('release_season')['Worldwide Net profit'].median()\n",
    "budget_by_season_2 = df_4_without2020.groupby('release_season')['production_budget'].median()\n",
    "budget_vs_profit_2 = pd.DataFrame({'Dom_prof': domestic_by_season_2  ,'World_prof': worldwide_by_season_2, \n",
    "                                 'Budget': budget_by_season_2}, \n",
    "                                     index = df_4_without2020['release_season'].unique())"
   ]
  },
  {
   "cell_type": "code",
   "execution_count": 129,
   "metadata": {},
   "outputs": [
    {
     "data": {
      "image/png": "[encoded data removed]",
      "text/plain": [
       "<Figure size 432x288 with 1 Axes>"
      ]
     },
     "metadata": {},
     "output_type": "display_data"
    }
   ],
   "source": [
    "axes_2 = budget_vs_profit_2.plot(kind='bar')\n",
    "axes_2.set_title('Budget, Domestic Profit, Worldwide Profit by seasons without 2020')\n",
    "axes_2.set(xlabel='Season', ylabel='Profit in millions');"
   ]
  },
  {
   "cell_type": "markdown",
   "metadata": {},
   "source": [
    "**Showed that 2020 outlier did not have an effect on our data analysis becasue we used median to compared net profit by seasons**"
   ]
  },
  {
   "cell_type": "markdown",
   "metadata": {},
   "source": [
    "- Boxplot to show distribution of profit and budget by season "
   ]
  },
  {
   "cell_type": "code",
   "execution_count": 130,
   "metadata": {},
   "outputs": [
    {
     "data": {
      "image/png": "[encoded data removed]",
      "text/plain": [
       "<Figure size 1296x576 with 3 Axes>"
      ]
     },
     "metadata": {},
     "output_type": "display_data"
    }
   ],
   "source": [
    "season_list = ['Spring', 'Summer', 'Autumn', 'Winter']\n",
    "fig_6, axes_6 = plt.subplots(figsize=(18,8), ncols=3)\n",
    "\n",
    "sns.boxplot(x='release_season', y='Domestic Net profit', ax=axes_6[0], data=df_4, showfliers=False, order=season_list)\n",
    "sns.boxplot(x='release_season', y='Worldwide Net profit', ax=axes_6[1], data=df_4, showfliers=False, order=season_list)\n",
    "sns.boxplot(x='release_season', y='production_budget', ax=axes_6[2], data=df_4, showfliers=False, order=season_list)\n",
    "\n",
    "axes_6[0].set_xlabel('Season', fontsize = 15)\n",
    "axes_6[0].set_ylabel('Profit in Millions', fontsize = 15)\n",
    "axes_6[0].set_title('Domestic Seasonal profit', fontsize = 15)\n",
    "\n",
    "axes_6[1].set_xlabel('Season', fontsize = 15)\n",
    "axes_6[1].set_ylabel('Profit in Millions', fontsize = 15)\n",
    "axes_6[1].set_title('Worldwide Seasonal profit', fontsize = 15)\n",
    "\n",
    "axes_6[2].set_xlabel('Season', fontsize = 15)\n",
    "axes_6[2].set_ylabel('Budget in millions', fontsize = 15)\n",
    "axes_6[2].set_title('Seasonal budget', fontsize = 15);"
   ]
  },
  {
   "cell_type": "markdown",
   "metadata": {},
   "source": [
    "#### Investigating seasonal profit by maximal values "
   ]
  },
  {
   "cell_type": "code",
   "execution_count": 131,
   "metadata": {},
   "outputs": [],
   "source": [
    "#find top profit season domestically\n",
    "top_season_domestic = df_4.groupby('release_season')['Domestic Net profit'].max()\n",
    "#Find top grossing season worldwide\n",
    "top_season_worldwide = df_4.groupby('release_season')['Worldwide Net profit'].max()"
   ]
  },
  {
   "cell_type": "code",
   "execution_count": 132,
   "metadata": {},
   "outputs": [
    {
     "data": {
      "image/png": "[encoded data removed]",
      "text/plain": [
       "<Figure size 1080x432 with 2 Axes>"
      ]
     },
     "metadata": {},
     "output_type": "display_data"
    }
   ],
   "source": [
    "fig_3, axes_1 = plt.subplots(figsize=(15,6), ncols=2)\n",
    "max_dom = top_season_domestic.plot(kind='bar', ax= axes_1[0])\n",
    "max_dom.set_title('Seasonal maximum net profit values domestic')\n",
    "max_dom.set(xlabel='Release Season', ylabel='Profit in millions');\n",
    "\n",
    "max_world = top_season_worldwide.plot(kind='bar', ax= axes_1[1])\n",
    "max_world.set_title('Seasonal maximum net profit values worldwide')\n",
    "max_world.set(xlabel='Release Season', ylabel='Profit in millions');"
   ]
  },
  {
   "cell_type": "code",
   "execution_count": 133,
   "metadata": {},
   "outputs": [],
   "source": [
    "#Find maximal budget by season\n",
    "top_season_budget = df_4.groupby('release_season')['production_budget'].max()\n",
    "#creating dataframe \n",
    "top_release_season_max = pd.DataFrame({'Dom_profit': top_season_domestic,\n",
    "                                       'World_profit': top_season_worldwide,\n",
    "                                       'Budget':top_season_budget}, \n",
    "                                     index = df_4['release_season'].unique())"
   ]
  },
  {
   "cell_type": "code",
   "execution_count": 134,
   "metadata": {},
   "outputs": [
    {
     "data": {
      "image/png": "[encoded data removed]",
      "text/plain": [
       "<Figure size 432x288 with 1 Axes>"
      ]
     },
     "metadata": {},
     "output_type": "display_data"
    }
   ],
   "source": [
    "ax_3 = top_release_season_max.plot(kind='bar')\n",
    "ax_3.set_title('Seasonal maximal profit values domestic, worldwide vs production budget')\n",
    "ax_3.set(xlabel='Release Season', ylabel='Profit in millions');"
   ]
  },
  {
   "cell_type": "markdown",
   "metadata": {},
   "source": [
    "#### Investigating season profit using median()"
   ]
  },
  {
   "cell_type": "code",
   "execution_count": 135,
   "metadata": {},
   "outputs": [],
   "source": [
    "#using median value instead of max value to find most profitable season with minimal effects of outliers\n",
    "top_season_domestic_median = df_4.groupby('release_season')['Domestic Net profit'].median()\n",
    "top_season_worldwide_median = df_4.groupby('release_season')['Worldwide Net profit'].median()\n",
    "top_season_budget_median = df_4.groupby('release_season')['production_budget'].median()\n",
    "top_release_season_median = pd.DataFrame({'Dom_profit': top_season_domestic_median,\n",
    "                                          'World_profit': top_season_worldwide_median,\n",
    "                                          'Budget':top_season_budget_median}, \n",
    "                                     index = df_4['release_season'].unique())"
   ]
  },
  {
   "cell_type": "code",
   "execution_count": 136,
   "metadata": {},
   "outputs": [
    {
     "data": {
      "image/png": "[encoded data removed]",
      "text/plain": [
       "<Figure size 432x288 with 1 Axes>"
      ]
     },
     "metadata": {},
     "output_type": "display_data"
    }
   ],
   "source": [
    "ax_4 = top_release_season_median.plot(kind='bar')\n",
    "ax_4.set_title('Seasonal median profit values domestic, worldwide vs budget')\n",
    "ax_4.set(xlabel='Release Season', ylabel='Profit in millions');"
   ]
  },
  {
   "cell_type": "markdown",
   "metadata": {},
   "source": [
    "**Seasonal profit by maximal values vs median values**"
   ]
  },
  {
   "cell_type": "code",
   "execution_count": 137,
   "metadata": {},
   "outputs": [
    {
     "data": {
      "image/png": "[encoded data removed]",
      "text/plain": [
       "<Figure size 1008x432 with 2 Axes>"
      ]
     },
     "metadata": {},
     "output_type": "display_data"
    }
   ],
   "source": [
    "fig_9, axes = plt.subplots(figsize=(14,6), ncols=2)\n",
    "top_release_season_max.plot(kind='bar', ax=axes[0])\n",
    "top_release_season_median.plot(kind='bar', ax= axes[1])\n",
    "axes[0].set_title('Seasonal Maximal Net profit vs budget')\n",
    "axes[0].set_ylabel('Profit in Millions')\n",
    "axes[0].set_xlabel('Seasons')\n",
    "axes[1].set_title('Seasonal Median Net profit vs budget')\n",
    "axes[1].set_ylabel('Profit in Millions')\n",
    "axes[1].set_xlabel('Seasons');"
   ]
  },
  {
   "cell_type": "markdown",
   "metadata": {},
   "source": [
    "**c. Correlation between production budget and profit**"
   ]
  },
  {
   "cell_type": "code",
   "execution_count": null,
   "metadata": {},
   "outputs": [],
   "source": [
    "list_1=['Domestic Net profit','Worldwide Net profit','production_budget']\n",
    "corr_budget_profit = df_4[list_1].corr()\n",
    "corr_budget_profit"
   ]
  },
  {
   "cell_type": "code",
   "execution_count": 138,
   "metadata": {},
   "outputs": [
    {
     "data": {
      "image/png": "[encoded data removed]",
      "text/plain": [
       "<Figure size 1296x576 with 2 Axes>"
      ]
     },
     "metadata": {},
     "output_type": "display_data"
    }
   ],
   "source": [
    "fig_10, axes = plt.subplots(figsize=(18,8), ncols=2)\n",
    "\n",
    "sns.regplot(x=df_4['production_budget'], y=df_4['Domestic Net profit'], ax = axes[0], truncate=False, color='pink')\n",
    "sns.regplot(x=df_4['production_budget'], y=df_4['Worldwide Net profit'], ax = axes[1], truncate=False)\n",
    "axes[0].set_title('Correlation between production budget vs Domestic profit')\n",
    "axes[1].set_title('Correlation between production budget vs Worldwide profit')\n",
    "axes[0].legend(title='Correlation value', loc='upper right', labels=['r = 0.0997'])\n",
    "axes[1].legend(title='Correlation value', loc='upper right', labels=['r = 0.6087'])\n",
    "plt.tight_layout()\n",
    "plt.savefig('fig_10.png');"
   ]
  },
  {
   "cell_type": "markdown",
   "metadata": {},
   "source": [
    "**d. Production Budget**\n",
    "- Finding median budget for top 20% highest profitable movies "
   ]
  },
  {
   "cell_type": "markdown",
   "metadata": {},
   "source": [
    "**Merging top_rating and df_4 to create dataframe genre_season**\n",
    "- To find which genres are performing well seasonally\n",
    "- We're merging df top rating with df_4 on right merge to preserve keys on df_4 because our target variables are season and net profit to measure each genre performance seasonally "
   ]
  },
  {
   "cell_type": "code",
   "execution_count": null,
   "metadata": {},
   "outputs": [],
   "source": [
    "genre_season = pd.merge(top_rating, df_4, how='right', on = 'primary_title')\n",
    "genre_season.head()"
   ]
  },
  {
   "cell_type": "code",
   "execution_count": null,
   "metadata": {},
   "outputs": [],
   "source": [
    "top_budget_domestic = genre_season.loc[genre_season['Domestic Net profit'] > genre_season['Domestic Net profit'].quantile(0.80)]\n",
    "top_budget_domestic.production_budget.median()"
   ]
  },
  {
   "cell_type": "code",
   "execution_count": null,
   "metadata": {},
   "outputs": [],
   "source": [
    "top_budget_worldwide = df_4.loc[df_4['Worldwide Net profit'] > genre_season['Worldwide Net profit'].quantile(0.80)]\n",
    "top_budget_worldwide.production_budget.median()"
   ]
  },
  {
   "cell_type": "markdown",
   "metadata": {},
   "source": [
    "Top 20% highest profit movies production budget is 30 millions domestically and 57.75 millions worldwide."
   ]
  },
  {
   "cell_type": "markdown",
   "metadata": {},
   "source": [
    "**e. Most profitable genres seasonally**"
   ]
  },
  {
   "cell_type": "markdown",
   "metadata": {},
   "source": [
    "Top profitable genres by ROI"
   ]
  },
  {
   "cell_type": "code",
   "execution_count": null,
   "metadata": {},
   "outputs": [],
   "source": [
    "genres_ROI = genre_season.loc[genre_season['Domestic ROI'] > genre_season['Domestic ROI'].quantile(0.80), ['genres']]\n",
    "genres_ROI.value_counts(ascending=False)"
   ]
  },
  {
   "cell_type": "markdown",
   "metadata": {},
   "source": [
    "List of most common genres in each season"
   ]
  },
  {
   "cell_type": "code",
   "execution_count": null,
   "metadata": {},
   "outputs": [],
   "source": [
    "genres_counts_season = pd.DataFrame(genre_season.groupby('release_season')['genres'].value_counts())\n",
    "genres_counts_season"
   ]
  },
  {
   "cell_type": "markdown",
   "metadata": {},
   "source": [
    "Top 20% highest domestic ROI genres in each season"
   ]
  },
  {
   "cell_type": "code",
   "execution_count": null,
   "metadata": {},
   "outputs": [],
   "source": [
    "top_genres_season_dom = genre_season.loc[genre_season['Domestic ROI'] > genre_season['Domestic ROI'].quantile(0.80)]\n",
    "top_genres_season_dom.groupby('release_season')['genres'].value_counts()"
   ]
  },
  {
   "cell_type": "markdown",
   "metadata": {},
   "source": [
    "Top 20% highest worldwide ROI genres in each season"
   ]
  },
  {
   "cell_type": "code",
   "execution_count": null,
   "metadata": {},
   "outputs": [],
   "source": [
    "top_genres_season_world = genre_season.loc[genre_season['Worldwide ROI'] > genre_season['Worldwide ROI'].quantile(0.80)]\n",
    "top_genres_season_world.groupby('release_season')['genres'].value_counts()"
   ]
  },
  {
   "cell_type": "markdown",
   "metadata": {},
   "source": [
    "## 8. Evaluation"
   ]
  },
  {
   "cell_type": "markdown",
   "metadata": {},
   "source": [
    "From analysing data on variable genres, results showed that:\n",
    "- The top 5 most common genres are:\n",
    "1. Documentary\n",
    "2. Drama\n",
    "3. Comedy\n",
    "4. Horror\n",
    "5. Comedy,Drama\n",
    "\n",
    "- The top 5 movies genres with highest number of votes and average rating >=8 are : \n",
    "1. Action,Adventure,Sci-Fi\n",
    "2. Action,Thriller\n",
    "3. Adventure,Drama,Sci-Fi\n",
    "4. Drama,Western\n",
    "5. Biography,Crime,Drama\n",
    "\n",
    "- Average runtime for movies with average rating >=8 is 87 minutes. Histogram of runtime of all movies with average rating >=8 showed most movies concentrate around 80-100 minutes. \n",
    "\n",
    "- The top 5 movies genres with highest box office gross domestically are:\n",
    "1. Action,Adventure,Sci-Fi\n",
    "2. Action,Adventure,Fantasy\n",
    "3. Action,Adventure,Animation \n",
    "4. Adventure,Animation,Comedy\n",
    "5. Action,Thriller \n",
    "\n",
    "- The to 5 movies genres with highest box office gross internationally are:\n",
    "1. Action,Adventure,Sci-Fi \n",
    "2. Adventure,Animation,Comedy \n",
    "3. Adventure,Drama,Sport\n",
    "4. Fantasy,Romance\n",
    "5. Action,Drama,Thriller\n",
    "\n",
    "- Action, Adventure and Sci-fi dominated box office gross domestically and internationally. Plus also it has most number of votes and good rating. \n",
    "\n",
    "- Correlation calculation of domestic gross and international gross showed correlation value of 0.79 which was a strong positive correlation implying movies which tends to do well domestically also has projection to do well internationally. \n",
    "\n",
    "Further analysis of studios showed:\n",
    "- BV studio made the highest grossing movie and made 4 in 5 of the top grossing movies however top 5 studios has most movies in top 20% grossing movie domestically are: Uni, Fox, WB, BV, SONY. \n",
    "- Top 5 studios which makes the most movies with average rating >= 8 are: IFC, Uni, Fox, WB, Magn.\n",
    "\n",
    "These studios will be Microsoft's competitors if they decided to open a studio\n",
    "\n",
    "Analysis into movies production budget and domestic, global gross and release date showed:\n",
    "- The number of movies released are generally even across all 4 seasons. \n",
    "- Analysing net profit domestically and internationally showed domestically movies tend to make a loss while make profit internationally. Data also showed in 2020, there was a large loss in profit due to COVID pandemic. Analysing data with and without 2020 data included demonstate that by using median we eliminate the effects of outliers. \n",
    "- When comparing profit between season, winter has movie with highest profit however when comparing median values across all 4 seasons, Summer stands out to have the highest median net profit. This is further confirmed when comparing ROI, Summer with highest median ROI(103% globally and 7% domestically while all other season's ROI are negative domestically). However, the summer's box plot showed longer whiskers and box suggesting profit data is more variable. Production Budget boxplot is also showing more variability in summer.\n",
    "- On average, production budget of movies is between 15-20 millions USD however top 20% profitable movies domestically and globally has median budget about 30 millions and 57.75 millions respectively.\n",
    "- Investigation into the relationship of budget and net profit showed a weak correlation between production budget and domestic profit yet there is a  mild- moderately positive correlation between production budget and worldwide profit. \n",
    "\n",
    "Analysis into whether there is a trend in which movies genres according to different seasons showed:\n",
    "\n",
    "- In group of movies with rating >= 8, top 3 most common genres for:\n",
    "    \n",
    "    Autumn: Drama, Documentary, Adventure, Drama/Sci-Fi\n",
    "    \n",
    "    Spring: Documentary, Action/Aventure/Sci-Fi, Drama\n",
    "    \n",
    "    Summer: Documentary, Drama, Action/Adventure/Scifi\n",
    "    \n",
    "    Winter: Drama, Documentary, Action/Adventure/Animation\n",
    "\n",
    "- In top 20% quantile Worldwide ROI, movies with highest profit, most common genres were:\n",
    "    \n",
    "    Autumn: Biography,Drama, Crime \n",
    "    \n",
    "    Spring: Action, Adventure, Sci-Fi\n",
    "    \n",
    "    Summer: Drama, Adventure/Animation/Comedy\n",
    "    \n",
    "    Winter: all genres were quite even mostly Documentary, Action, Animation,Adventure, Drama, Comedy, Thriller\n",
    "\n",
    "- In top 20% quantile Domestic ROI, movies with highest profit, most common genres were:\n",
    "   \n",
    "    Autumn: Biography,Drama, Crime \n",
    "    \n",
    "    Spring: Drama, Thriller\n",
    "    \n",
    "    Summer: Drama, Documentary, Thriller\n",
    "    \n",
    "    Winter: all genres were quite even mostly Documentary, Action, Animation, Adventure, Drama, Comedy, Thriller"
   ]
  },
  {
   "cell_type": "markdown",
   "metadata": {},
   "source": [
    "## 9. Conclusions"
   ]
  },
  {
   "cell_type": "markdown",
   "metadata": {},
   "source": [
    "This analysis leads to 3 recommendations for Microsoft new movie studio:\n",
    "- **Focus on Drama, Documentary, Action/Adventure/Sci-fi movies with runtime around 80-100 minutes in Summer and Action, Animation, Adventure in Winter.** These movies tend be the highest gross domestically and internationally. They tend to have higher number of votes by audience and has decent average rating. The median runtime for movies with average rating >=8. \n",
    "- **Plan release date of movies around June - August during summer break OR winter between December-Feb (Holidays season)** Movies released in summer tend to have higher return on investment (ROI) overall (103% globally and 7% domestically while all other seasons have negative ROI domestically). However data is more variable so projection might not be as accurate. Winter on the otherhand has narrower range which is less variable and boxplot showed distribution is postively skewed meaning higher frequency of higher profit. \n",
    "- **Production budget around 30 millions domestically and upto 60 millions internationally** For the top 20% highest profit movies, the median production budget is 30 millions while the median production budget for all movies is around 15-20 millions. Movies has high profit domestically tends to have high profit internationally. Higher budget does not equate to higher profit as correlation between production budget is weak domestically and somewhat mildly correlated internationally. \n"
   ]
  },
  {
   "cell_type": "markdown",
   "metadata": {},
   "source": [
    "## 10. Limitation:\n",
    "\n",
    "- **Runtime:** significant nulls values. We also did not taken movies with average rating less than 8. Unclear if runtime has any effect on average rating\n",
    "- **Data currency:** IMBd Data stops at 2018 and The numbers data stops at 2020 - having access to more recent data can help us visualise the movie industry/market in recovery period post COVID. This will help us predict future trends more accurately \n",
    "- **Missing data:** Box office Moji bom.movie_gross has large amount of missing data in foreign gross - reduced credibility of analysis. "
   ]
  },
  {
   "cell_type": "markdown",
   "metadata": {},
   "source": [
    "## 11. Future Considerations:\n",
    "\n",
    "- Analyse other performance metrics such as critic, reviews and investigate other databases. This will help predicting a movie performance/profitablity and budget more accurately \n",
    "- Analysing runtime, average rating and profit. This will help establish whether runtime would affect user rating or generate more profit. \n",
    "- Analysing data on directors, writers, actors and crews. This would allow more efficiency to for staff recruitment, recruiting the right person  \n",
    "- Research in competitors business model. This would allow us to have insights into their competitor business model to help build our own. "
   ]
  },
  {
   "cell_type": "markdown",
   "metadata": {},
   "source": [
    "For More Information\n",
    "\n",
    "See the full analysis in the Jupyter Notebook or review this presentation.\n",
    "\n",
    "For additional info, contact:\n",
    "\n",
    "Ngoc Ho yen.ho993@gmailcom"
   ]
  },
  {
   "cell_type": "code",
   "execution_count": null,
   "metadata": {},
   "outputs": [],
   "source": []
  }
 ],
 "metadata": {
  "kernelspec": {
   "display_name": "Python 3",
   "language": "python",
   "name": "python3"
  },
  "language_info": {
   "codemirror_mode": {
    "name": "ipython",
    "version": 3
   },
   "file_extension": ".py",
   "mimetype": "text/x-python",
   "name": "python",
   "nbconvert_exporter": "python",
   "pygments_lexer": "ipython3",
   "version": "3.8.5"
  }
 },
 "nbformat": 4,
 "nbformat_minor": 4
}
